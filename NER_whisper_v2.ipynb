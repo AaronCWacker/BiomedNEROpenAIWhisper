{
  "cells": [
    {
      "cell_type": "markdown",
      "metadata": {
        "id": "view-in-github",
        "colab_type": "text"
      },
      "source": [
        "<a href=\"https://colab.research.google.com/github/ArmandDS/blog-post/blob/main/NER_whisper_v2.ipynb\" target=\"_parent\"><img src=\"https://colab.research.google.com/assets/colab-badge.svg\" alt=\"Open In Colab\"/></a>"
      ]
    },
    {
      "cell_type": "markdown",
      "source": [
        "# Audio Named Entity Recognition\n",
        "Information Extraction\n",
        "Detect and classify the named entities in biomedical data using OpenAI whisper to xtract text from audio\n"
      ],
      "metadata": {
        "id": "-tvZg5EufbHD"
      }
    },
    {
      "cell_type": "markdown",
      "metadata": {
        "id": "iSoapgVPwzae"
      },
      "source": [
        "Install required Libraries"
      ]
    },
    {
      "cell_type": "code",
      "execution_count": null,
      "metadata": {
        "colab": {
          "base_uri": "https://localhost:8080/"
        },
        "id": "5Hi_Z7pPwuPZ",
        "outputId": "9112aa53-0376-430e-cc09-246eadc153d6"
      },
      "outputs": [
        {
          "output_type": "stream",
          "name": "stdout",
          "text": [
            "\u001b[K     |████████████████████████████████| 1.9 MB 34.7 MB/s \n",
            "\u001b[K     |████████████████████████████████| 4.9 MB 8.4 MB/s \n",
            "\u001b[K     |████████████████████████████████| 163 kB 54.3 MB/s \n",
            "\u001b[K     |████████████████████████████████| 6.6 MB 57.1 MB/s \n",
            "\u001b[?25h  Building wheel for whisper (setup.py) ... \u001b[?25l\u001b[?25hdone\n",
            "\u001b[K     |████████████████████████████████| 1.3 MB 27.3 MB/s \n",
            "\u001b[K     |████████████████████████████████| 53 kB 1.8 MB/s \n",
            "\u001b[K     |████████████████████████████████| 4.7 MB 65.5 MB/s \n",
            "\u001b[K     |████████████████████████████████| 1.1 MB 52.6 MB/s \n",
            "\u001b[?25h"
          ]
        }
      ],
      "source": [
        "!pip -qq install --upgrade youtube-dl\n",
        "!pip -qq install git+https://github.com/openai/whisper.git \n",
        "!pip -qq install transformers\n",
        "!pip -qq install sentencepiece\n",
        "!pip -qq install spacy-transformers"
      ]
    },
    {
      "cell_type": "markdown",
      "metadata": {
        "id": "86he02frxSLz"
      },
      "source": [
        "Load the required libraries"
      ]
    },
    {
      "cell_type": "code",
      "execution_count": null,
      "metadata": {
        "id": "rsbFNDUIxUww"
      },
      "outputs": [],
      "source": [
        "import random\n",
        "import json \n",
        "import pandas as pd\n",
        "import os\n",
        "from tqdm import tqdm, tqdm_notebook\n",
        "import torch\n",
        "import time\n",
        "from os.path import exists as path_exists\n",
        "from pathlib import Path\n",
        "\n",
        "#Spacy \n",
        "import spacy\n",
        "from spacy.tokens import DocBin\n",
        "from spacy.util import minibatch\n",
        "from spacy.training import Example\n",
        "from spacy.scorer import Scorer\n",
        "from spacy.lang.es import Spanish\n",
        "from spacy.pipeline import EntityRuler\n",
        "\n",
        "#huggingface\n",
        "from transformers import pipeline\n",
        "from transformers import AutoTokenizer, AutoModelForTokenClassification\n",
        "from transformers import AutoModelForSeq2SeqLM\n",
        "\n",
        "#whisper\n",
        "import whisper\n"
      ]
    },
    {
      "cell_type": "markdown",
      "metadata": {
        "id": "Za9RFRdS6lYI"
      },
      "source": [
        "# Preprocesing the Dataset"
      ]
    },
    {
      "cell_type": "markdown",
      "source": [
        "Go to kaggle and download the [medical records dataset](https://www.kaggle.com/tboyle10/medicaltranscriptions) as zip, and the we load as pandas dataframe:"
      ],
      "metadata": {
        "id": "DGqFdKZb_pqa"
      }
    },
    {
      "cell_type": "code",
      "execution_count": null,
      "metadata": {
        "id": "qDbpOCle6pxx",
        "colab": {
          "base_uri": "https://localhost:8080/",
          "height": 406
        },
        "outputId": "52cae2b5-c6dc-4d48-b1a8-d9aceb7e9869"
      },
      "outputs": [
        {
          "output_type": "execute_result",
          "data": {
            "text/plain": [
              "   Unnamed: 0                                        description  \\\n",
              "0           0   A 23-year-old white female presents with comp...   \n",
              "1           1           Consult for laparoscopic gastric bypass.   \n",
              "2           2           Consult for laparoscopic gastric bypass.   \n",
              "3           3                             2-D M-Mode. Doppler.     \n",
              "4           4                                 2-D Echocardiogram   \n",
              "\n",
              "             medical_specialty                                sample_name  \\\n",
              "0         Allergy / Immunology                         Allergic Rhinitis    \n",
              "1                   Bariatrics   Laparoscopic Gastric Bypass Consult - 2    \n",
              "2                   Bariatrics   Laparoscopic Gastric Bypass Consult - 1    \n",
              "3   Cardiovascular / Pulmonary                    2-D Echocardiogram - 1    \n",
              "4   Cardiovascular / Pulmonary                    2-D Echocardiogram - 2    \n",
              "\n",
              "                                       transcription  \\\n",
              "0  SUBJECTIVE:,  This 23-year-old white female pr...   \n",
              "1  PAST MEDICAL HISTORY:, He has difficulty climb...   \n",
              "2  HISTORY OF PRESENT ILLNESS: , I have seen ABC ...   \n",
              "3  2-D M-MODE: , ,1.  Left atrial enlargement wit...   \n",
              "4  1.  The left ventricular cavity size and wall ...   \n",
              "\n",
              "                                            keywords  \n",
              "0  allergy / immunology, allergic rhinitis, aller...  \n",
              "1  bariatrics, laparoscopic gastric bypass, weigh...  \n",
              "2  bariatrics, laparoscopic gastric bypass, heart...  \n",
              "3  cardiovascular / pulmonary, 2-d m-mode, dopple...  \n",
              "4  cardiovascular / pulmonary, 2-d, doppler, echo...  "
            ],
            "text/html": [
              "\n",
              "  <div id=\"df-b0ee8504-2bb1-4a6e-9b6b-2a3d7aee9d91\">\n",
              "    <div class=\"colab-df-container\">\n",
              "      <div>\n",
              "<style scoped>\n",
              "    .dataframe tbody tr th:only-of-type {\n",
              "        vertical-align: middle;\n",
              "    }\n",
              "\n",
              "    .dataframe tbody tr th {\n",
              "        vertical-align: top;\n",
              "    }\n",
              "\n",
              "    .dataframe thead th {\n",
              "        text-align: right;\n",
              "    }\n",
              "</style>\n",
              "<table border=\"1\" class=\"dataframe\">\n",
              "  <thead>\n",
              "    <tr style=\"text-align: right;\">\n",
              "      <th></th>\n",
              "      <th>Unnamed: 0</th>\n",
              "      <th>description</th>\n",
              "      <th>medical_specialty</th>\n",
              "      <th>sample_name</th>\n",
              "      <th>transcription</th>\n",
              "      <th>keywords</th>\n",
              "    </tr>\n",
              "  </thead>\n",
              "  <tbody>\n",
              "    <tr>\n",
              "      <th>0</th>\n",
              "      <td>0</td>\n",
              "      <td>A 23-year-old white female presents with comp...</td>\n",
              "      <td>Allergy / Immunology</td>\n",
              "      <td>Allergic Rhinitis</td>\n",
              "      <td>SUBJECTIVE:,  This 23-year-old white female pr...</td>\n",
              "      <td>allergy / immunology, allergic rhinitis, aller...</td>\n",
              "    </tr>\n",
              "    <tr>\n",
              "      <th>1</th>\n",
              "      <td>1</td>\n",
              "      <td>Consult for laparoscopic gastric bypass.</td>\n",
              "      <td>Bariatrics</td>\n",
              "      <td>Laparoscopic Gastric Bypass Consult - 2</td>\n",
              "      <td>PAST MEDICAL HISTORY:, He has difficulty climb...</td>\n",
              "      <td>bariatrics, laparoscopic gastric bypass, weigh...</td>\n",
              "    </tr>\n",
              "    <tr>\n",
              "      <th>2</th>\n",
              "      <td>2</td>\n",
              "      <td>Consult for laparoscopic gastric bypass.</td>\n",
              "      <td>Bariatrics</td>\n",
              "      <td>Laparoscopic Gastric Bypass Consult - 1</td>\n",
              "      <td>HISTORY OF PRESENT ILLNESS: , I have seen ABC ...</td>\n",
              "      <td>bariatrics, laparoscopic gastric bypass, heart...</td>\n",
              "    </tr>\n",
              "    <tr>\n",
              "      <th>3</th>\n",
              "      <td>3</td>\n",
              "      <td>2-D M-Mode. Doppler.</td>\n",
              "      <td>Cardiovascular / Pulmonary</td>\n",
              "      <td>2-D Echocardiogram - 1</td>\n",
              "      <td>2-D M-MODE: , ,1.  Left atrial enlargement wit...</td>\n",
              "      <td>cardiovascular / pulmonary, 2-d m-mode, dopple...</td>\n",
              "    </tr>\n",
              "    <tr>\n",
              "      <th>4</th>\n",
              "      <td>4</td>\n",
              "      <td>2-D Echocardiogram</td>\n",
              "      <td>Cardiovascular / Pulmonary</td>\n",
              "      <td>2-D Echocardiogram - 2</td>\n",
              "      <td>1.  The left ventricular cavity size and wall ...</td>\n",
              "      <td>cardiovascular / pulmonary, 2-d, doppler, echo...</td>\n",
              "    </tr>\n",
              "  </tbody>\n",
              "</table>\n",
              "</div>\n",
              "      <button class=\"colab-df-convert\" onclick=\"convertToInteractive('df-b0ee8504-2bb1-4a6e-9b6b-2a3d7aee9d91')\"\n",
              "              title=\"Convert this dataframe to an interactive table.\"\n",
              "              style=\"display:none;\">\n",
              "        \n",
              "  <svg xmlns=\"http://www.w3.org/2000/svg\" height=\"24px\"viewBox=\"0 0 24 24\"\n",
              "       width=\"24px\">\n",
              "    <path d=\"M0 0h24v24H0V0z\" fill=\"none\"/>\n",
              "    <path d=\"M18.56 5.44l.94 2.06.94-2.06 2.06-.94-2.06-.94-.94-2.06-.94 2.06-2.06.94zm-11 1L8.5 8.5l.94-2.06 2.06-.94-2.06-.94L8.5 2.5l-.94 2.06-2.06.94zm10 10l.94 2.06.94-2.06 2.06-.94-2.06-.94-.94-2.06-.94 2.06-2.06.94z\"/><path d=\"M17.41 7.96l-1.37-1.37c-.4-.4-.92-.59-1.43-.59-.52 0-1.04.2-1.43.59L10.3 9.45l-7.72 7.72c-.78.78-.78 2.05 0 2.83L4 21.41c.39.39.9.59 1.41.59.51 0 1.02-.2 1.41-.59l7.78-7.78 2.81-2.81c.8-.78.8-2.07 0-2.86zM5.41 20L4 18.59l7.72-7.72 1.47 1.35L5.41 20z\"/>\n",
              "  </svg>\n",
              "      </button>\n",
              "      \n",
              "  <style>\n",
              "    .colab-df-container {\n",
              "      display:flex;\n",
              "      flex-wrap:wrap;\n",
              "      gap: 12px;\n",
              "    }\n",
              "\n",
              "    .colab-df-convert {\n",
              "      background-color: #E8F0FE;\n",
              "      border: none;\n",
              "      border-radius: 50%;\n",
              "      cursor: pointer;\n",
              "      display: none;\n",
              "      fill: #1967D2;\n",
              "      height: 32px;\n",
              "      padding: 0 0 0 0;\n",
              "      width: 32px;\n",
              "    }\n",
              "\n",
              "    .colab-df-convert:hover {\n",
              "      background-color: #E2EBFA;\n",
              "      box-shadow: 0px 1px 2px rgba(60, 64, 67, 0.3), 0px 1px 3px 1px rgba(60, 64, 67, 0.15);\n",
              "      fill: #174EA6;\n",
              "    }\n",
              "\n",
              "    [theme=dark] .colab-df-convert {\n",
              "      background-color: #3B4455;\n",
              "      fill: #D2E3FC;\n",
              "    }\n",
              "\n",
              "    [theme=dark] .colab-df-convert:hover {\n",
              "      background-color: #434B5C;\n",
              "      box-shadow: 0px 1px 3px 1px rgba(0, 0, 0, 0.15);\n",
              "      filter: drop-shadow(0px 1px 2px rgba(0, 0, 0, 0.3));\n",
              "      fill: #FFFFFF;\n",
              "    }\n",
              "  </style>\n",
              "\n",
              "      <script>\n",
              "        const buttonEl =\n",
              "          document.querySelector('#df-b0ee8504-2bb1-4a6e-9b6b-2a3d7aee9d91 button.colab-df-convert');\n",
              "        buttonEl.style.display =\n",
              "          google.colab.kernel.accessAllowed ? 'block' : 'none';\n",
              "\n",
              "        async function convertToInteractive(key) {\n",
              "          const element = document.querySelector('#df-b0ee8504-2bb1-4a6e-9b6b-2a3d7aee9d91');\n",
              "          const dataTable =\n",
              "            await google.colab.kernel.invokeFunction('convertToInteractive',\n",
              "                                                     [key], {});\n",
              "          if (!dataTable) return;\n",
              "\n",
              "          const docLinkHtml = 'Like what you see? Visit the ' +\n",
              "            '<a target=\"_blank\" href=https://colab.research.google.com/notebooks/data_table.ipynb>data table notebook</a>'\n",
              "            + ' to learn more about interactive tables.';\n",
              "          element.innerHTML = '';\n",
              "          dataTable['output_type'] = 'display_data';\n",
              "          await google.colab.output.renderOutput(dataTable, element);\n",
              "          const docLink = document.createElement('div');\n",
              "          docLink.innerHTML = docLinkHtml;\n",
              "          element.appendChild(docLink);\n",
              "        }\n",
              "      </script>\n",
              "    </div>\n",
              "  </div>\n",
              "  "
            ]
          },
          "metadata": {},
          "execution_count": 3
        }
      ],
      "source": [
        "df = pd.read_csv(\"/content/archive.zip\")\n",
        "df.head()"
      ]
    },
    {
      "cell_type": "code",
      "source": [
        "from transformers import AutoTokenizer, AutoModelForSeq2SeqLM\n",
        "\n",
        "tokenizer_t = AutoTokenizer.from_pretrained(\"Helsinki-NLP/opus-mt-en-es\")\n",
        "\n",
        "model_t = AutoModelForSeq2SeqLM.from_pretrained(\"Helsinki-NLP/opus-mt-en-es\")"
      ],
      "metadata": {
        "colab": {
          "base_uri": "https://localhost:8080/"
        },
        "id": "7bfqQjqrbb1K",
        "outputId": "20760087-f855-46ed-f501-75b6da35df67"
      },
      "execution_count": null,
      "outputs": [
        {
          "output_type": "stream",
          "name": "stderr",
          "text": [
            "/usr/local/lib/python3.7/dist-packages/transformers/models/marian/tokenization_marian.py:198: UserWarning: Recommended: pip install sacremoses.\n",
            "  warnings.warn(\"Recommended: pip install sacremoses.\")\n"
          ]
        }
      ]
    },
    {
      "cell_type": "markdown",
      "source": [
        "Send the model to GPU if available"
      ],
      "metadata": {
        "id": "ILh8CIEHg5mf"
      }
    },
    {
      "cell_type": "code",
      "source": [
        "device = torch.device(\"cuda:0\" if torch.cuda.is_available() else \"cpu\")\n",
        "\n",
        "model_t = model_t.to(device)"
      ],
      "metadata": {
        "id": "Ufo6_bwwblgO"
      },
      "execution_count": null,
      "outputs": []
    },
    {
      "cell_type": "markdown",
      "source": [
        "Define a function to translate text to spanish"
      ],
      "metadata": {
        "id": "Qux-2c2nhARB"
      }
    },
    {
      "cell_type": "code",
      "source": [
        "def translate(text:str):\n",
        "  inputs = tokenizer_t.encode( text, return_tensors=\"pt\",padding=True,max_length=512,truncation=True)\n",
        "  inputs = inputs.to(device)\n",
        "  outputs = model_t.generate(\n",
        "      inputs, max_length=512, num_beams=None, early_stopping=True)\n",
        "  translated = tokenizer_t.decode(outputs[0]).replace('<pad>',\"\").replace('<s>',\"\").replace('</s>',\"\").strip().lower()\n",
        "\n",
        "  return translated"
      ],
      "metadata": {
        "id": "zP-1mtB9bqYx"
      },
      "execution_count": null,
      "outputs": []
    },
    {
      "cell_type": "code",
      "source": [
        "df.tail()['description'].apply(translate)"
      ],
      "metadata": {
        "colab": {
          "base_uri": "https://localhost:8080/"
        },
        "id": "fQDYeOfrbzOp",
        "outputId": "a8509af0-117b-4d2c-d03d-2836e867344a"
      },
      "execution_count": null,
      "outputs": [
        {
          "output_type": "execute_result",
          "data": {
            "text/plain": [
              "4994    paciente con sinusitis severa hace unos dos o ...\n",
              "4995    se trata de un bebé caucásico de 14 meses de e...\n",
              "4996    una hembra para un examen físico completo y se...\n",
              "4997       madre dice que ha estado sibilando y tosiendo.\n",
              "4998    reacción alérgica aguda, etiología incierta, s...\n",
              "Name: description, dtype: object"
            ]
          },
          "metadata": {},
          "execution_count": 7
        }
      ]
    },
    {
      "cell_type": "markdown",
      "source": [
        "Filter the dataset by the columns \"medical_specialty\""
      ],
      "metadata": {
        "id": "--qVEFqEhG2h"
      }
    },
    {
      "cell_type": "code",
      "source": [
        "filtered_df = df[['transcription', 'medical_specialty']]\n",
        "filtered_df.loc[:, 'medical_specialty'] = filtered_df['medical_specialty'].apply(lambda x:str.strip(x))\n",
        "mask = (filtered_df['medical_specialty'] == 'SOAP / Chart / Progress Notes') | \\\n",
        "       (filtered_df['medical_specialty'] == 'Office Notes') | \\\n",
        "       (filtered_df['medical_specialty'] == 'Consult - History and Phy.') | \\\n",
        "       (filtered_df['medical_specialty'] == 'Emergency Room Reports') | \\\n",
        "       (filtered_df['medical_specialty'] == 'Discharge Summary') | \\\n",
        "       (filtered_df['medical_specialty'] == 'Letters')\n",
        "filtered_df = filtered_df[~mask]\n",
        "data_categories  = filtered_df.groupby(filtered_df['medical_specialty'])\n",
        "filtered_data_categories = data_categories.filter(lambda x:x.shape[0] > 50)\n"
      ],
      "metadata": {
        "colab": {
          "base_uri": "https://localhost:8080/"
        },
        "id": "YtmSuUcVb2vb",
        "outputId": "d58c51b2-ac54-4ac4-acae-fb1d616f44b3"
      },
      "execution_count": null,
      "outputs": [
        {
          "output_type": "stream",
          "name": "stderr",
          "text": [
            "/usr/local/lib/python3.7/dist-packages/pandas/core/indexing.py:1951: SettingWithCopyWarning: \n",
            "A value is trying to be set on a copy of a slice from a DataFrame.\n",
            "Try using .loc[row_indexer,col_indexer] = value instead\n",
            "\n",
            "See the caveats in the documentation: https://pandas.pydata.org/pandas-docs/stable/user_guide/indexing.html#returning-a-view-versus-a-copy\n",
            "  self.obj[selected_item_labels] = value\n"
          ]
        }
      ]
    },
    {
      "cell_type": "code",
      "source": [
        "filtered_data_categories['medical_specialty'].value_counts()"
      ],
      "metadata": {
        "colab": {
          "base_uri": "https://localhost:8080/"
        },
        "id": "xX0ZxIb8b609",
        "outputId": "cc7421ea-03bc-4575-8384-68dff8a60a2c"
      },
      "execution_count": null,
      "outputs": [
        {
          "output_type": "execute_result",
          "data": {
            "text/plain": [
              "Surgery                       1103\n",
              "Cardiovascular / Pulmonary     372\n",
              "Orthopedic                     355\n",
              "Radiology                      273\n",
              "General Medicine               259\n",
              "Gastroenterology               230\n",
              "Neurology                      223\n",
              "Obstetrics / Gynecology        160\n",
              "Urology                        158\n",
              "ENT - Otolaryngology            98\n",
              "Neurosurgery                    94\n",
              "Hematology - Oncology           90\n",
              "Ophthalmology                   83\n",
              "Nephrology                      81\n",
              "Pediatrics - Neonatal           70\n",
              "Pain Management                 62\n",
              "Psychiatry / Psychology         53\n",
              "Name: medical_specialty, dtype: int64"
            ]
          },
          "metadata": {},
          "execution_count": 9
        }
      ]
    },
    {
      "cell_type": "code",
      "source": [
        "df_cleaned = filtered_data_categories.sample(frac=1.0)\n",
        "df_cleaned = df_cleaned.dropna(subset=['transcription'])\n",
        "df_cleaned.head()"
      ],
      "metadata": {
        "colab": {
          "base_uri": "https://localhost:8080/",
          "height": 206
        },
        "id": "F4JDdlclb9t7",
        "outputId": "ed2d18f6-6701-4d3a-aa81-990da87ed21f"
      },
      "execution_count": null,
      "outputs": [
        {
          "output_type": "execute_result",
          "data": {
            "text/plain": [
              "                                          transcription  \\\n",
              "2922  EXAM: , CT head without contrast.,INDICATIONS:...   \n",
              "2710  PREOPERATIVE DIAGNOSES:,1.  Epidural hematoma,...   \n",
              "645   PREOPERATIVE DIAGNOSIS: , Chronic cholecystiti...   \n",
              "808   PREOPERATIVE DIAGNOSIS:,  Left supraorbital de...   \n",
              "4852  DIAGNOSIS AT ADMISSION:,  Chronic obstructive ...   \n",
              "\n",
              "               medical_specialty  \n",
              "2922                   Neurology  \n",
              "2710                Neurosurgery  \n",
              "645                      Surgery  \n",
              "808                      Surgery  \n",
              "4852  Cardiovascular / Pulmonary  "
            ],
            "text/html": [
              "\n",
              "  <div id=\"df-505c796b-c9ac-4233-9d66-0c87eb7568c5\">\n",
              "    <div class=\"colab-df-container\">\n",
              "      <div>\n",
              "<style scoped>\n",
              "    .dataframe tbody tr th:only-of-type {\n",
              "        vertical-align: middle;\n",
              "    }\n",
              "\n",
              "    .dataframe tbody tr th {\n",
              "        vertical-align: top;\n",
              "    }\n",
              "\n",
              "    .dataframe thead th {\n",
              "        text-align: right;\n",
              "    }\n",
              "</style>\n",
              "<table border=\"1\" class=\"dataframe\">\n",
              "  <thead>\n",
              "    <tr style=\"text-align: right;\">\n",
              "      <th></th>\n",
              "      <th>transcription</th>\n",
              "      <th>medical_specialty</th>\n",
              "    </tr>\n",
              "  </thead>\n",
              "  <tbody>\n",
              "    <tr>\n",
              "      <th>2922</th>\n",
              "      <td>EXAM: , CT head without contrast.,INDICATIONS:...</td>\n",
              "      <td>Neurology</td>\n",
              "    </tr>\n",
              "    <tr>\n",
              "      <th>2710</th>\n",
              "      <td>PREOPERATIVE DIAGNOSES:,1.  Epidural hematoma,...</td>\n",
              "      <td>Neurosurgery</td>\n",
              "    </tr>\n",
              "    <tr>\n",
              "      <th>645</th>\n",
              "      <td>PREOPERATIVE DIAGNOSIS: , Chronic cholecystiti...</td>\n",
              "      <td>Surgery</td>\n",
              "    </tr>\n",
              "    <tr>\n",
              "      <th>808</th>\n",
              "      <td>PREOPERATIVE DIAGNOSIS:,  Left supraorbital de...</td>\n",
              "      <td>Surgery</td>\n",
              "    </tr>\n",
              "    <tr>\n",
              "      <th>4852</th>\n",
              "      <td>DIAGNOSIS AT ADMISSION:,  Chronic obstructive ...</td>\n",
              "      <td>Cardiovascular / Pulmonary</td>\n",
              "    </tr>\n",
              "  </tbody>\n",
              "</table>\n",
              "</div>\n",
              "      <button class=\"colab-df-convert\" onclick=\"convertToInteractive('df-505c796b-c9ac-4233-9d66-0c87eb7568c5')\"\n",
              "              title=\"Convert this dataframe to an interactive table.\"\n",
              "              style=\"display:none;\">\n",
              "        \n",
              "  <svg xmlns=\"http://www.w3.org/2000/svg\" height=\"24px\"viewBox=\"0 0 24 24\"\n",
              "       width=\"24px\">\n",
              "    <path d=\"M0 0h24v24H0V0z\" fill=\"none\"/>\n",
              "    <path d=\"M18.56 5.44l.94 2.06.94-2.06 2.06-.94-2.06-.94-.94-2.06-.94 2.06-2.06.94zm-11 1L8.5 8.5l.94-2.06 2.06-.94-2.06-.94L8.5 2.5l-.94 2.06-2.06.94zm10 10l.94 2.06.94-2.06 2.06-.94-2.06-.94-.94-2.06-.94 2.06-2.06.94z\"/><path d=\"M17.41 7.96l-1.37-1.37c-.4-.4-.92-.59-1.43-.59-.52 0-1.04.2-1.43.59L10.3 9.45l-7.72 7.72c-.78.78-.78 2.05 0 2.83L4 21.41c.39.39.9.59 1.41.59.51 0 1.02-.2 1.41-.59l7.78-7.78 2.81-2.81c.8-.78.8-2.07 0-2.86zM5.41 20L4 18.59l7.72-7.72 1.47 1.35L5.41 20z\"/>\n",
              "  </svg>\n",
              "      </button>\n",
              "      \n",
              "  <style>\n",
              "    .colab-df-container {\n",
              "      display:flex;\n",
              "      flex-wrap:wrap;\n",
              "      gap: 12px;\n",
              "    }\n",
              "\n",
              "    .colab-df-convert {\n",
              "      background-color: #E8F0FE;\n",
              "      border: none;\n",
              "      border-radius: 50%;\n",
              "      cursor: pointer;\n",
              "      display: none;\n",
              "      fill: #1967D2;\n",
              "      height: 32px;\n",
              "      padding: 0 0 0 0;\n",
              "      width: 32px;\n",
              "    }\n",
              "\n",
              "    .colab-df-convert:hover {\n",
              "      background-color: #E2EBFA;\n",
              "      box-shadow: 0px 1px 2px rgba(60, 64, 67, 0.3), 0px 1px 3px 1px rgba(60, 64, 67, 0.15);\n",
              "      fill: #174EA6;\n",
              "    }\n",
              "\n",
              "    [theme=dark] .colab-df-convert {\n",
              "      background-color: #3B4455;\n",
              "      fill: #D2E3FC;\n",
              "    }\n",
              "\n",
              "    [theme=dark] .colab-df-convert:hover {\n",
              "      background-color: #434B5C;\n",
              "      box-shadow: 0px 1px 3px 1px rgba(0, 0, 0, 0.15);\n",
              "      filter: drop-shadow(0px 1px 2px rgba(0, 0, 0, 0.3));\n",
              "      fill: #FFFFFF;\n",
              "    }\n",
              "  </style>\n",
              "\n",
              "      <script>\n",
              "        const buttonEl =\n",
              "          document.querySelector('#df-505c796b-c9ac-4233-9d66-0c87eb7568c5 button.colab-df-convert');\n",
              "        buttonEl.style.display =\n",
              "          google.colab.kernel.accessAllowed ? 'block' : 'none';\n",
              "\n",
              "        async function convertToInteractive(key) {\n",
              "          const element = document.querySelector('#df-505c796b-c9ac-4233-9d66-0c87eb7568c5');\n",
              "          const dataTable =\n",
              "            await google.colab.kernel.invokeFunction('convertToInteractive',\n",
              "                                                     [key], {});\n",
              "          if (!dataTable) return;\n",
              "\n",
              "          const docLinkHtml = 'Like what you see? Visit the ' +\n",
              "            '<a target=\"_blank\" href=https://colab.research.google.com/notebooks/data_table.ipynb>data table notebook</a>'\n",
              "            + ' to learn more about interactive tables.';\n",
              "          element.innerHTML = '';\n",
              "          dataTable['output_type'] = 'display_data';\n",
              "          await google.colab.output.renderOutput(dataTable, element);\n",
              "          const docLink = document.createElement('div');\n",
              "          docLink.innerHTML = docLinkHtml;\n",
              "          element.appendChild(docLink);\n",
              "        }\n",
              "      </script>\n",
              "    </div>\n",
              "  </div>\n",
              "  "
            ]
          },
          "metadata": {},
          "execution_count": 10
        }
      ]
    },
    {
      "cell_type": "markdown",
      "source": [
        "Label the NER in English using the huggingface model for biomedical"
      ],
      "metadata": {
        "id": "PXi-y_ophUnR"
      }
    },
    {
      "cell_type": "code",
      "source": [
        "from transformers import pipeline\n",
        "from transformers import AutoTokenizer, AutoModelForTokenClassification\n",
        "\n",
        "tokenizer = AutoTokenizer.from_pretrained(\"d4data/biomedical-ner-all\")\n",
        "model = AutoModelForTokenClassification.from_pretrained(\"d4data/biomedical-ner-all\")\n",
        "\n",
        "pipe = pipeline(\"ner\", model=model, tokenizer=tokenizer, aggregation_strategy=\"simple\", device=device)"
      ],
      "metadata": {
        "id": "Bv29cLqrcBKz"
      },
      "execution_count": null,
      "outputs": []
    },
    {
      "cell_type": "code",
      "source": [
        "tqdm_notebook().pandas()\n",
        "df_cleaned['ner_en']  = df_cleaned['transcription'].progress_apply(pipe)"
      ],
      "metadata": {
        "colab": {
          "base_uri": "https://localhost:8080/",
          "height": 193,
          "referenced_widgets": [
            "9abdf5f9e0a84ff5a0c3c61fbd8ac29f",
            "fb989a1bd5a14eb7a504f5821479618f",
            "41d82fa98b644424884d269cec8af286",
            "690dd5078cf747b1b42ad1cdfe199577",
            "2fc82fe9a2da42239139204db3a9ece3",
            "59adb9acbc7d48d1b473cc61f123d253",
            "3f61f3e2d0b6485cbb0c8cae8d7775db",
            "19b963a630304ed9b31918d4e40e64a3",
            "1910400632114a5d9671c980cef4e80f",
            "990fe20523504174bbd6a5ca9994c710",
            "868e7442a09648b7b93ce81e0261d6fa",
            "58bbfbe293314d228ea0b88006dbfae6",
            "0c26a50a6ab44028a8fa17d8edd19dab",
            "6e98afd86f3f44c4952acaea00478202",
            "bfa9eb61234f473ea701dd87100ab1eb",
            "6532542474144874b110452535af34f8",
            "6189ce9c5b00454d8bca7946053c7c94",
            "856ef2f35df3495e8e7507e4a80ccff6",
            "f2aff9a8303541d1b7b003f1889d57d5",
            "c9fde35805bc45efbdf536b94fc722fa",
            "9760da9b126d45588bb2721c187adb46",
            "54956fe44dbf486ab5a767853505b066"
          ]
        },
        "id": "0k0jYdT5cIVc",
        "outputId": "e5f7157b-14ce-41ff-8149-3ac19759873a"
      },
      "execution_count": null,
      "outputs": [
        {
          "output_type": "stream",
          "name": "stderr",
          "text": [
            "/usr/local/lib/python3.7/dist-packages/ipykernel_launcher.py:1: TqdmDeprecationWarning: This function will be removed in tqdm==5.0.0\n",
            "Please use `tqdm.notebook.tqdm` instead of `tqdm.tqdm_notebook`\n",
            "  \"\"\"Entry point for launching an IPython kernel.\n"
          ]
        },
        {
          "output_type": "display_data",
          "data": {
            "text/plain": [
              "0it [00:00, ?it/s]"
            ],
            "application/vnd.jupyter.widget-view+json": {
              "version_major": 2,
              "version_minor": 0,
              "model_id": "9abdf5f9e0a84ff5a0c3c61fbd8ac29f"
            }
          },
          "metadata": {}
        },
        {
          "output_type": "display_data",
          "data": {
            "text/plain": [
              "  0%|          | 0/3732 [00:00<?, ?it/s]"
            ],
            "application/vnd.jupyter.widget-view+json": {
              "version_major": 2,
              "version_minor": 0,
              "model_id": "58bbfbe293314d228ea0b88006dbfae6"
            }
          },
          "metadata": {}
        },
        {
          "output_type": "stream",
          "name": "stderr",
          "text": [
            "/usr/local/lib/python3.7/dist-packages/transformers/pipelines/base.py:1039: UserWarning: You seem to be using the pipelines sequentially on GPU. In order to maximize efficiency please use a dataset\n",
            "  UserWarning,\n"
          ]
        }
      ]
    },
    {
      "cell_type": "code",
      "source": [
        "df_cleaned.head()"
      ],
      "metadata": {
        "colab": {
          "base_uri": "https://localhost:8080/",
          "height": 206
        },
        "id": "UdXERq8wcI-1",
        "outputId": "79dc0c7c-f6dc-4d31-8852-62d33753fd9b"
      },
      "execution_count": null,
      "outputs": [
        {
          "output_type": "execute_result",
          "data": {
            "text/plain": [
              "                                          transcription  \\\n",
              "2922  EXAM: , CT head without contrast.,INDICATIONS:...   \n",
              "2710  PREOPERATIVE DIAGNOSES:,1.  Epidural hematoma,...   \n",
              "645   PREOPERATIVE DIAGNOSIS: , Chronic cholecystiti...   \n",
              "808   PREOPERATIVE DIAGNOSIS:,  Left supraorbital de...   \n",
              "4852  DIAGNOSIS AT ADMISSION:,  Chronic obstructive ...   \n",
              "\n",
              "               medical_specialty  \\\n",
              "2922                   Neurology   \n",
              "2710                Neurosurgery   \n",
              "645                      Surgery   \n",
              "808                      Surgery   \n",
              "4852  Cardiovascular / Pulmonary   \n",
              "\n",
              "                                                 ner_en  \n",
              "2922  [{'entity_group': 'Diagnostic_procedure', 'sco...  \n",
              "2710  [{'entity_group': 'Biological_structure', 'sco...  \n",
              "645   [{'entity_group': 'Disease_disorder', 'score':...  \n",
              "808   [{'entity_group': 'Biological_structure', 'sco...  \n",
              "4852  [{'entity_group': 'Detailed_description', 'sco...  "
            ],
            "text/html": [
              "\n",
              "  <div id=\"df-77cd6ac7-9b9b-48ab-b520-145e953d65d2\">\n",
              "    <div class=\"colab-df-container\">\n",
              "      <div>\n",
              "<style scoped>\n",
              "    .dataframe tbody tr th:only-of-type {\n",
              "        vertical-align: middle;\n",
              "    }\n",
              "\n",
              "    .dataframe tbody tr th {\n",
              "        vertical-align: top;\n",
              "    }\n",
              "\n",
              "    .dataframe thead th {\n",
              "        text-align: right;\n",
              "    }\n",
              "</style>\n",
              "<table border=\"1\" class=\"dataframe\">\n",
              "  <thead>\n",
              "    <tr style=\"text-align: right;\">\n",
              "      <th></th>\n",
              "      <th>transcription</th>\n",
              "      <th>medical_specialty</th>\n",
              "      <th>ner_en</th>\n",
              "    </tr>\n",
              "  </thead>\n",
              "  <tbody>\n",
              "    <tr>\n",
              "      <th>2922</th>\n",
              "      <td>EXAM: , CT head without contrast.,INDICATIONS:...</td>\n",
              "      <td>Neurology</td>\n",
              "      <td>[{'entity_group': 'Diagnostic_procedure', 'sco...</td>\n",
              "    </tr>\n",
              "    <tr>\n",
              "      <th>2710</th>\n",
              "      <td>PREOPERATIVE DIAGNOSES:,1.  Epidural hematoma,...</td>\n",
              "      <td>Neurosurgery</td>\n",
              "      <td>[{'entity_group': 'Biological_structure', 'sco...</td>\n",
              "    </tr>\n",
              "    <tr>\n",
              "      <th>645</th>\n",
              "      <td>PREOPERATIVE DIAGNOSIS: , Chronic cholecystiti...</td>\n",
              "      <td>Surgery</td>\n",
              "      <td>[{'entity_group': 'Disease_disorder', 'score':...</td>\n",
              "    </tr>\n",
              "    <tr>\n",
              "      <th>808</th>\n",
              "      <td>PREOPERATIVE DIAGNOSIS:,  Left supraorbital de...</td>\n",
              "      <td>Surgery</td>\n",
              "      <td>[{'entity_group': 'Biological_structure', 'sco...</td>\n",
              "    </tr>\n",
              "    <tr>\n",
              "      <th>4852</th>\n",
              "      <td>DIAGNOSIS AT ADMISSION:,  Chronic obstructive ...</td>\n",
              "      <td>Cardiovascular / Pulmonary</td>\n",
              "      <td>[{'entity_group': 'Detailed_description', 'sco...</td>\n",
              "    </tr>\n",
              "  </tbody>\n",
              "</table>\n",
              "</div>\n",
              "      <button class=\"colab-df-convert\" onclick=\"convertToInteractive('df-77cd6ac7-9b9b-48ab-b520-145e953d65d2')\"\n",
              "              title=\"Convert this dataframe to an interactive table.\"\n",
              "              style=\"display:none;\">\n",
              "        \n",
              "  <svg xmlns=\"http://www.w3.org/2000/svg\" height=\"24px\"viewBox=\"0 0 24 24\"\n",
              "       width=\"24px\">\n",
              "    <path d=\"M0 0h24v24H0V0z\" fill=\"none\"/>\n",
              "    <path d=\"M18.56 5.44l.94 2.06.94-2.06 2.06-.94-2.06-.94-.94-2.06-.94 2.06-2.06.94zm-11 1L8.5 8.5l.94-2.06 2.06-.94-2.06-.94L8.5 2.5l-.94 2.06-2.06.94zm10 10l.94 2.06.94-2.06 2.06-.94-2.06-.94-.94-2.06-.94 2.06-2.06.94z\"/><path d=\"M17.41 7.96l-1.37-1.37c-.4-.4-.92-.59-1.43-.59-.52 0-1.04.2-1.43.59L10.3 9.45l-7.72 7.72c-.78.78-.78 2.05 0 2.83L4 21.41c.39.39.9.59 1.41.59.51 0 1.02-.2 1.41-.59l7.78-7.78 2.81-2.81c.8-.78.8-2.07 0-2.86zM5.41 20L4 18.59l7.72-7.72 1.47 1.35L5.41 20z\"/>\n",
              "  </svg>\n",
              "      </button>\n",
              "      \n",
              "  <style>\n",
              "    .colab-df-container {\n",
              "      display:flex;\n",
              "      flex-wrap:wrap;\n",
              "      gap: 12px;\n",
              "    }\n",
              "\n",
              "    .colab-df-convert {\n",
              "      background-color: #E8F0FE;\n",
              "      border: none;\n",
              "      border-radius: 50%;\n",
              "      cursor: pointer;\n",
              "      display: none;\n",
              "      fill: #1967D2;\n",
              "      height: 32px;\n",
              "      padding: 0 0 0 0;\n",
              "      width: 32px;\n",
              "    }\n",
              "\n",
              "    .colab-df-convert:hover {\n",
              "      background-color: #E2EBFA;\n",
              "      box-shadow: 0px 1px 2px rgba(60, 64, 67, 0.3), 0px 1px 3px 1px rgba(60, 64, 67, 0.15);\n",
              "      fill: #174EA6;\n",
              "    }\n",
              "\n",
              "    [theme=dark] .colab-df-convert {\n",
              "      background-color: #3B4455;\n",
              "      fill: #D2E3FC;\n",
              "    }\n",
              "\n",
              "    [theme=dark] .colab-df-convert:hover {\n",
              "      background-color: #434B5C;\n",
              "      box-shadow: 0px 1px 3px 1px rgba(0, 0, 0, 0.15);\n",
              "      filter: drop-shadow(0px 1px 2px rgba(0, 0, 0, 0.3));\n",
              "      fill: #FFFFFF;\n",
              "    }\n",
              "  </style>\n",
              "\n",
              "      <script>\n",
              "        const buttonEl =\n",
              "          document.querySelector('#df-77cd6ac7-9b9b-48ab-b520-145e953d65d2 button.colab-df-convert');\n",
              "        buttonEl.style.display =\n",
              "          google.colab.kernel.accessAllowed ? 'block' : 'none';\n",
              "\n",
              "        async function convertToInteractive(key) {\n",
              "          const element = document.querySelector('#df-77cd6ac7-9b9b-48ab-b520-145e953d65d2');\n",
              "          const dataTable =\n",
              "            await google.colab.kernel.invokeFunction('convertToInteractive',\n",
              "                                                     [key], {});\n",
              "          if (!dataTable) return;\n",
              "\n",
              "          const docLinkHtml = 'Like what you see? Visit the ' +\n",
              "            '<a target=\"_blank\" href=https://colab.research.google.com/notebooks/data_table.ipynb>data table notebook</a>'\n",
              "            + ' to learn more about interactive tables.';\n",
              "          element.innerHTML = '';\n",
              "          dataTable['output_type'] = 'display_data';\n",
              "          await google.colab.output.renderOutput(dataTable, element);\n",
              "          const docLink = document.createElement('div');\n",
              "          docLink.innerHTML = docLinkHtml;\n",
              "          element.appendChild(docLink);\n",
              "        }\n",
              "      </script>\n",
              "    </div>\n",
              "  </div>\n",
              "  "
            ]
          },
          "metadata": {},
          "execution_count": 13
        }
      ]
    },
    {
      "cell_type": "markdown",
      "source": [
        "Create the dictionary as helper for our text proccesing"
      ],
      "metadata": {
        "id": "VCXI_7A4hgK2"
      }
    },
    {
      "cell_type": "code",
      "source": [
        "dict_specialty_keywords = {}\n",
        "dict_specialty_keywords_es = {}\n",
        "\n",
        "\n",
        "def create_dict(list_elem):\n",
        "    for elem in list_elem:\n",
        "      if elem['entity_group'] in dict_specialty_keywords:\n",
        "        dict_specialty_keywords[elem['entity_group']].append(elem['word'])\n",
        "        dict_specialty_keywords_es[elem['entity_group']].append(translate(elem['word']))\n",
        "      else:\n",
        "        dict_specialty_keywords[elem['entity_group']] = [elem['word']]\n",
        "        dict_specialty_keywords_es[elem['entity_group']] = [translate(elem['word'])]"
      ],
      "metadata": {
        "id": "0c2AlGoZcLMd"
      },
      "execution_count": null,
      "outputs": []
    },
    {
      "cell_type": "markdown",
      "source": [
        "Translate the annotations to Spanish"
      ],
      "metadata": {
        "id": "0HGWdHIBgnL5"
      }
    },
    {
      "cell_type": "code",
      "source": [
        "tqdm_notebook().pandas()\n",
        "\n",
        "_ = df_cleaned['ner_en'].progress_apply(create_dict)"
      ],
      "metadata": {
        "colab": {
          "base_uri": "https://localhost:8080/",
          "height": 156,
          "referenced_widgets": [
            "ba34ca4ca35442dc9927e7a8e1bc1866",
            "05217bdbf29d4b468e940b99dc65dc78",
            "f5b68051974b4abaa37972a32b33b41e",
            "e577452a7c244176966d611752d8d1b6",
            "4648ed47a99e4c9da292d0c91a675c73",
            "dc251b6ecb8e464eafaacfb96b53b7e4",
            "080f2ffd78da436f9c06cf453f3fbf87",
            "e8bb31a94a1a48408f54cced0ef576c0",
            "cd4967c66ba747b4be5dd9c8e576040d",
            "781fafc924a3426f9224c2bc5336fd0e",
            "548cfebcf6ac46f3a2118a3746b44bd6",
            "e7fde09d9d314e10a3f4b9ba7719e9ab",
            "e6efafa1124947968d26f3d6daf1c022",
            "2d65e056f9a84e64a80ff5c6995ef813",
            "778edaba777e4b238ef31c61ebf16959",
            "3df3fc43826143089f441cb8a881e837",
            "bd15dfae86bf41a39b9ebf9e2bd8487a",
            "9b2a409b9455496ea7ea40dfd2a9b08a",
            "72595d9e86e44563aab873a5660954ba",
            "87a07d1a1ca747d6a2efb4756d6b4028",
            "8cfed21fd4a8406ba99c99a3c43fb407",
            "d0478b8f0d5a42a98f940cc8814c2e43"
          ]
        },
        "id": "mDIzfDCZcWaO",
        "outputId": "16e2b78d-c480-485e-9471-55d17debac30"
      },
      "execution_count": null,
      "outputs": [
        {
          "output_type": "stream",
          "name": "stderr",
          "text": [
            "/usr/local/lib/python3.7/dist-packages/ipykernel_launcher.py:1: TqdmDeprecationWarning: This function will be removed in tqdm==5.0.0\n",
            "Please use `tqdm.notebook.tqdm` instead of `tqdm.tqdm_notebook`\n",
            "  \"\"\"Entry point for launching an IPython kernel.\n"
          ]
        },
        {
          "output_type": "display_data",
          "data": {
            "text/plain": [
              "0it [00:00, ?it/s]"
            ],
            "application/vnd.jupyter.widget-view+json": {
              "version_major": 2,
              "version_minor": 0,
              "model_id": "ba34ca4ca35442dc9927e7a8e1bc1866"
            }
          },
          "metadata": {}
        },
        {
          "output_type": "display_data",
          "data": {
            "text/plain": [
              "  0%|          | 0/3732 [00:00<?, ?it/s]"
            ],
            "application/vnd.jupyter.widget-view+json": {
              "version_major": 2,
              "version_minor": 0,
              "model_id": "e7fde09d9d314e10a3f4b9ba7719e9ab"
            }
          },
          "metadata": {}
        }
      ]
    },
    {
      "cell_type": "code",
      "source": [
        "with open(\"ner_annotations_es.json\", 'w') as f:\n",
        "    json.dump(dict_specialty_keywords_es, f) "
      ],
      "metadata": {
        "id": "kq2gXqSJcXIQ"
      },
      "execution_count": null,
      "outputs": []
    },
    {
      "cell_type": "markdown",
      "source": [
        "Translate the transcriptions to Spanish"
      ],
      "metadata": {
        "id": "KALopDfagu3w"
      }
    },
    {
      "cell_type": "code",
      "source": [
        "tqdm_notebook().pandas()\n",
        "\n",
        "df_cleaned['transcription_es'] = df_cleaned['transcription'].progress_apply(translate)"
      ],
      "metadata": {
        "colab": {
          "base_uri": "https://localhost:8080/",
          "height": 156,
          "referenced_widgets": [
            "004ae71ea11c4f559deccd8cdab748eb",
            "05ba0161e0544bffa25084e61e9922c2",
            "769454eabdea4205af845e9d2fedf64d",
            "f990e020dc2547e8a4ca711a170f2c7c",
            "8596dfd8125f40e08501f4a1f1c5eabf",
            "8272aa443d304fda99d09098ed6a5e41",
            "48cd62a45777480c858b3b2d36130dd2",
            "549133d7648e4377a1b4bd3d8a69e421",
            "223f482fdb6d445aaa08ec7d410d2c14",
            "8d8881884e994a429ff15ab8e6877ff8",
            "02ac6e98367e4133bf399a5cc54a97cb",
            "0cc9e10009fd455d9a6608238c2f06b7",
            "0c4adbec892a4ca5b6a421afcd364e46",
            "6722e779dcdd445aac00a3939d0e3bd5",
            "93aa7960b44343118c63883013afd00e",
            "a85460e1819247f5b76b7d807ee18c7d",
            "62ff06d7b4004fa082f4eabccb72ed18",
            "624b8749d4ac44e185afedd281deed3a",
            "bf5ad23a25b54b61bace8d606ae0cd8e",
            "c717f379868b4e30af85a8d895836df8",
            "827682e872c549ccaf33cb62c6240222",
            "64d0c31210b1462d9ca35b1784616e8c"
          ]
        },
        "id": "Sno0jbF_ceO3",
        "outputId": "af32e476-b77f-46c4-e9af-9cdd14e78274"
      },
      "execution_count": null,
      "outputs": [
        {
          "output_type": "stream",
          "name": "stderr",
          "text": [
            "/usr/local/lib/python3.7/dist-packages/ipykernel_launcher.py:1: TqdmDeprecationWarning: This function will be removed in tqdm==5.0.0\n",
            "Please use `tqdm.notebook.tqdm` instead of `tqdm.tqdm_notebook`\n",
            "  \"\"\"Entry point for launching an IPython kernel.\n"
          ]
        },
        {
          "output_type": "display_data",
          "data": {
            "text/plain": [
              "0it [00:00, ?it/s]"
            ],
            "application/vnd.jupyter.widget-view+json": {
              "version_major": 2,
              "version_minor": 0,
              "model_id": "004ae71ea11c4f559deccd8cdab748eb"
            }
          },
          "metadata": {}
        },
        {
          "output_type": "display_data",
          "data": {
            "text/plain": [
              "  0%|          | 0/3732 [00:00<?, ?it/s]"
            ],
            "application/vnd.jupyter.widget-view+json": {
              "version_major": 2,
              "version_minor": 0,
              "model_id": "0cc9e10009fd455d9a6608238c2f06b7"
            }
          },
          "metadata": {}
        }
      ]
    },
    {
      "cell_type": "code",
      "source": [
        "df_cleaned.to_csv(\"df_cleaned.csv\")"
      ],
      "metadata": {
        "id": "bdHuqJsJcksA"
      },
      "execution_count": null,
      "outputs": []
    },
    {
      "cell_type": "markdown",
      "metadata": {
        "id": "kPidIqDRyp3L"
      },
      "source": [
        "# Create the annotated dataset"
      ]
    },
    {
      "cell_type": "code",
      "execution_count": null,
      "metadata": {
        "colab": {
          "base_uri": "https://localhost:8080/"
        },
        "id": "xfcd7Dp4yuHm",
        "outputId": "a8c92080-3955-4dc8-98ff-03cea870cfbb"
      },
      "outputs": [
        {
          "output_type": "execute_result",
          "data": {
            "text/plain": [
              "dict_keys(['Age', 'Sex', 'History', 'Duration', 'Sign_symptom', 'Biological_structure', 'Detailed_description', 'Severity', 'Medication', 'Lab_value', 'Diagnostic_procedure', 'Nonbiological_location', 'Dosage', 'Clinical_event', 'Disease_disorder', 'Administration', 'Therapeutic_procedure', 'Coreference', 'Distance', 'Family_history', 'Time', 'Area', 'Date', 'Color', 'Subject', 'Personal_background', 'Occupation', 'Activity', 'Qualitative_concept', 'Outcome', 'Frequency', 'Quantitative_concept', 'Other_entity', 'Volume', 'Shape', 'Texture', 'Other_event', 'Height'])"
            ]
          },
          "metadata": {},
          "execution_count": 3
        }
      ],
      "source": [
        "dict_specialty_keywords_es = json.load(open(\"/content/ner_annotations_es.json\"))\n",
        "\n",
        "dict_specialty_keywords_es.keys()"
      ]
    },
    {
      "cell_type": "markdown",
      "metadata": {
        "id": "Kmigw1kMy4y8"
      },
      "source": [
        "Cleaning the dictionay data"
      ]
    },
    {
      "cell_type": "code",
      "execution_count": null,
      "metadata": {
        "id": "vR0xcWDOy2v8"
      },
      "outputs": [],
      "source": [
        "for k in dict_specialty_keywords_es.keys():\n",
        "  dict_specialty_keywords_es[k] = set(dict_specialty_keywords_es[k])"
      ]
    },
    {
      "cell_type": "code",
      "execution_count": null,
      "metadata": {
        "id": "1G2E6iobzFye"
      },
      "outputs": [],
      "source": [
        "for k in dict_specialty_keywords_es.keys():\n",
        "  dict_specialty_keywords_es[k] = [el.strip() for el in list(dict_specialty_keywords_es[k]) if len(el.strip())>=4 or k==\"Age\"]"
      ]
    },
    {
      "cell_type": "markdown",
      "metadata": {
        "id": "STu7Y2OFy_3e"
      },
      "source": [
        "And delete some wrong words:"
      ]
    },
    {
      "cell_type": "code",
      "execution_count": null,
      "metadata": {
        "id": "NduHvLG6y_Iz"
      },
      "outputs": [],
      "source": [
        "#for the class sex we delete the following words\n",
        "list_to_delete = ['- sí.', 'poco', 'casadas',]\n",
        "\n",
        "for el in list_to_delete: \n",
        "  dict_specialty_keywords_es['Sex'].pop(dict_specialty_keywords_es['Sex'].index(el))"
      ]
    },
    {
      "cell_type": "code",
      "execution_count": null,
      "metadata": {
        "id": "z9kva1KtzQVS"
      },
      "outputs": [],
      "source": [
        "#for the class History we delete the following words\n",
        "list_to_delete = ['0 - 2', 'haiti', 'presenta', 'ella', '16 años', 'jarrón', 'pecado', \n",
        "                  'en el', 'números de teléfono', 'edad', '25 años',]\n",
        "\n",
        "for el in list_to_delete: \n",
        "  dict_specialty_keywords_es['History'].pop(dict_specialty_keywords_es['History'].index(el))"
      ]
    },
    {
      "cell_type": "code",
      "execution_count": null,
      "metadata": {
        "id": "8-XX4NbWzYu7"
      },
      "outputs": [],
      "source": [
        "#for the class Nonbiological_location we delete the following words\n",
        "list_to_delete = ['médico local', 'médico estatal', 'artillería', 'dr. p', 'niños',\n",
        "                  'adolescente', 'jos,','vida', 'cúbico','herida',  'para', 'bien.', 'dr. y', 'mama', 'paso', 'dr. x',]\n",
        "for el in list_to_delete: \n",
        "  dict_specialty_keywords_es['Nonbiological_location'].pop(dict_specialty_keywords_es['Nonbiological_location'].index(el))"
      ]
    },
    {
      "cell_type": "code",
      "execution_count": null,
      "metadata": {
        "id": "hoGwkRebzhaz"
      },
      "outputs": [],
      "source": [
        "# for the class Age\n",
        "list_to_delete = ['solo','medio','y',',', 'a', 'kg', '1812 g', 'escuela', 'mirando', '## peso', 'o', ]\n",
        "\n",
        "for el in list_to_delete: \n",
        "  try:\n",
        "    dict_specialty_keywords_es['Age'].pop(dict_specialty_keywords_es['Age'].index(el))\n",
        "  except:\n",
        "    continue"
      ]
    },
    {
      "cell_type": "code",
      "execution_count": null,
      "metadata": {
        "id": "d6VqNgp9zpBl"
      },
      "outputs": [],
      "source": [
        "list_to_delete = ['¿ cuál es el significado de la biblia?', 'admisión', 'viejo', 'pareja', 'otros', 'pocos', 'poco después',\n",
        "'dentro', 'otros', 'edad 92', 'puede', 'un día fuera de la escuela', 'noche', 'edad de 12 años','los primeros 4','8 semanas de edad gestacional', 'día de',\n",
        " 'edad de 42 años', 'puede', 'esa vez','varios','6 años de edad', 'viejo','edad de 75 años','37. 5 semanas de gestación','20 años de edad', '20 años','89 años', '31 meses de edad', 'vida', 'más tarde en el día', 'casi', 'puesto','algunos', '¿ cuál es el problema?', 'esto', 'hace',] \n",
        "\n",
        "for el in list_to_delete: \n",
        "  try:\n",
        "    dict_specialty_keywords_es['Date'].pop(dict_specialty_keywords_es['Date'].index(el))\n",
        "  except:\n",
        "    continue\n"
      ]
    },
    {
      "cell_type": "code",
      "source": [
        "list_to_delete = ['rica', 'asentir', 'tubos','l4 - 5', 'voz verdadera', 'múltiple', 'atrás','sí, claro.', 'sí, claro.',\n",
        "                  'proceso', 'jamón', '- l4','alfombra', 'y mayores', 'añadir', 'correa', 'corto', 'cada', 'armas',\n",
        "                  'para','derechos humanos', 'pecado', 'albahaca', 'y cánticos laterales', 'un punto','l1 - 2', 'falso',\n",
        "                   'descanso', 'chicle','en el', 'poco', 'bien', 'entre', 'de la', 'uno', 'Como' ]\n",
        "\n",
        "for el in list_to_delete: \n",
        "  try:\n",
        "    dict_specialty_keywords_es['Biological_structure'].pop(dict_specialty_keywords_es['Biological_structure'].index(el))\n",
        "  except:\n",
        "    continue"
      ],
      "metadata": {
        "id": "yHH-ro9ajO7i"
      },
      "execution_count": null,
      "outputs": []
    },
    {
      "cell_type": "code",
      "execution_count": null,
      "metadata": {
        "id": "BMOxuqSbzxiN"
      },
      "outputs": [],
      "source": [
        "list_to_delete = ['¡fuera!',  'tarjeta', 'en el', 'solución salina', 'capítulo', 'oscuro', 'noche', 'algodón', 'a granel','claro',\n",
        "                  'búsqueda de palabras', 'trabajados', 'fuera', 'foto', 'capaz de', 'respiración', 'golpeado', 'pérdidas sobre el terreno',\n",
        "                   'girando', 'lo hizo', 'estabilizado', 'l5 -',  'nivel','buque', 'fuerza', 'viaje',  'carne', 'función',\n",
        "                   'arquitectura del sueño', 'amarillo', 'activo', 'señal de cable', 'diario', 'encaje', 'resolver', 'talco',]\n",
        "\n",
        "for el in list_to_delete: \n",
        "  try:\n",
        "    dict_specialty_keywords_es['Sign_symptom'].pop(dict_specialty_keywords_es['Sign_symptom'].index(el))\n",
        "  except:\n",
        "    continue"
      ]
    },
    {
      "cell_type": "code",
      "source": [
        "\n",
        "\n",
        "list_to_delete = ['puede', 'difícil', 'menos', 'parte', 'como', 'primero']\n",
        "\n",
        "for el in list_to_delete: \n",
        "  try:\n",
        "    dict_specialty_keywords_es['Detailed_description'].pop(dict_specialty_keywords_es['Detailed_description'].index(el))\n",
        "  except:\n",
        "    continue\n",
        "\n"
      ],
      "metadata": {
        "id": "y4fGtPOzhHIG"
      },
      "execution_count": null,
      "outputs": []
    },
    {
      "cell_type": "code",
      "source": [
        "\n",
        "list_to_delete = ['En el', 'puede', 'tiene', 'lugar']\n",
        "\n",
        "for el in list_to_delete: \n",
        "  try:\n",
        "    dict_specialty_keywords_es['Therapeutic_procedure'].pop(dict_specialty_keywords_es['Therapeutic_procedure'].index(el))\n",
        "  except:\n",
        "    continue\n",
        "\n",
        "# dict_specialty_keywords_es['Therapeutic_procedure']"
      ],
      "metadata": {
        "id": "SDhAuGYFkB9R"
      },
      "execution_count": null,
      "outputs": []
    },
    {
      "cell_type": "code",
      "source": [
        "\n",
        "list_to_delete = ['para', 'vivo', 'tres', '- sí.','cultivado', 'uno 18',  'siete libras','tarjeta', 'habitación', 'mayor', 'mayores',\n",
        "                  'edad','aprobadas', 'inicio', 'poco', 'fértil', 'cuarta']\n",
        "\n",
        "for el in list_to_delete: \n",
        "  try:\n",
        "    dict_specialty_keywords_es['Subject'].pop(dict_specialty_keywords_es['Subject'].index(el))\n",
        "  except:\n",
        "    continue\n",
        "\n"
      ],
      "metadata": {
        "id": "KsiTY7NqoxBZ"
      },
      "execution_count": null,
      "outputs": []
    },
    {
      "cell_type": "markdown",
      "metadata": {
        "id": "Yc78lPK-MHDW"
      },
      "source": [
        "Now, we delete some keys"
      ]
    },
    {
      "cell_type": "code",
      "execution_count": null,
      "metadata": {
        "id": "jczff8HUL3Vo"
      },
      "outputs": [],
      "source": [
        "list_delete = ['Frequency', 'Quantitative_concept',  'Coreference', 'Distance', 'Time', 'Area','Administration',\n",
        "               'Other_entity', 'Volume', 'Shape', 'Texture', 'Other_event', 'Height','Lab_value', 'Duration']\n",
        "\n",
        "for elem in list_delete:\n",
        "  del dict_specialty_keywords_es[elem] "
      ]
    },
    {
      "cell_type": "code",
      "execution_count": null,
      "metadata": {
        "id": "8Fy3aRDf2TWy"
      },
      "outputs": [],
      "source": []
    },
    {
      "cell_type": "markdown",
      "metadata": {
        "id": "h2PuXVe7z58D"
      },
      "source": [
        "Create the ruler ner model"
      ]
    },
    {
      "cell_type": "code",
      "execution_count": null,
      "metadata": {
        "id": "u70X42l6z0qJ"
      },
      "outputs": [],
      "source": [
        "class RulerModel():\n",
        "    def __init__(self, dict_specialty_keywords):\n",
        "        self.ruler_model = spacy.blank('es')\n",
        "        self.entity_ruler =  self.ruler_model.add_pipe('entity_ruler')\n",
        "        \n",
        "        total_patterns = []\n",
        "\n",
        "        for k,v in dict_specialty_keywords_es.items():\n",
        "        \n",
        "          patterns = self.create_patterns(v, k)\n",
        "          total_patterns.extend(patterns)\n",
        "       \n",
        "        self.add_patterns_into_ruler(total_patterns)\n",
        "        \n",
        "       \n",
        "    def create_patterns(self, entity_type_set, entity_type):\n",
        "        patterns = []\n",
        "        for item in entity_type_set:\n",
        "            pattern = {'label': entity_type, 'pattern': item}\n",
        "            patterns.append(pattern)\n",
        "        return patterns\n",
        "    \n",
        "    def add_patterns_into_ruler(self, total_patterns):\n",
        "        self.entity_ruler.add_patterns(total_patterns)"
      ]
    },
    {
      "cell_type": "markdown",
      "metadata": {
        "id": "prm0kB0G0A9F"
      },
      "source": [
        "and the dataset generator"
      ]
    },
    {
      "cell_type": "code",
      "execution_count": null,
      "metadata": {
        "id": "r36ohDZvz9M-"
      },
      "outputs": [],
      "source": [
        "class GenerateDataset(object):\n",
        "    \n",
        "    def __init__(self, ruler_model):\n",
        "        self.ruler_model = ruler_model.ruler_model\n",
        "        \n",
        "    def find_entitytypes(self, text):\n",
        "        ents = [] \n",
        "        doc = self.ruler_model(str(text))\n",
        "        for ent in doc.ents:\n",
        "            ents.append((ent.start_char, ent.end_char, ent.label_))\n",
        "        return ents     \n",
        "    \n",
        "    def assign_labels_to_documents(self, df):\n",
        "        dataset = []\n",
        "        text_list = df['transcription_es'].values.tolist()\n",
        "        for text in text_list:\n",
        "            ents = self.find_entitytypes(text)\n",
        "            if len(ents) > 0:\n",
        "                dataset.append((text, {'entities': ents}))\n",
        "            else:\n",
        "                continue \n",
        "        return dataset"
      ]
    },
    {
      "cell_type": "code",
      "execution_count": null,
      "metadata": {
        "id": "iNi2qFj-0DZ1"
      },
      "outputs": [],
      "source": [
        "ruler_ner = RulerModel(dict_specialty_keywords_es)\n",
        "ds_ner = GenerateDataset(ruler_ner)\n",
        "df_cleaned = pd.read_csv(\"/content/df_cleaned.csv\")\n",
        "df_ner = ds_ner.assign_labels_to_documents(df_cleaned)"
      ]
    },
    {
      "cell_type": "markdown",
      "metadata": {
        "id": "GZA2yb9G0NSj"
      },
      "source": [
        "Let's check the dataset generated:"
      ]
    },
    {
      "cell_type": "code",
      "execution_count": null,
      "metadata": {
        "colab": {
          "base_uri": "https://localhost:8080/"
        },
        "id": "B92FcRuG0MYw",
        "outputId": "da3dffc9-5d55-4c5a-ed67-27089b35b64a"
      },
      "outputs": [
        {
          "output_type": "execute_result",
          "data": {
            "text/plain": [
              "('diagnosis preoperativa:, síndrome de low back - low back pain., diagnosis postoperativa:, same., procedure:,1. artrograma bilateral de facetas en l34, l45, l5s1.,2. inyecciones bilaterales de facetas en l34, l45, l5s1.,3. interpretación de la radiografía, anesthesia:,iv sedación con versed y fentanyl., estimated blood ploss:,ninguna.,indicación:, el dolor en la columna lumbar secundario a la artrosis facetas que se demostró mediante examen físico y se verificó con estudios de rayos x y análisis de imagen.',\n",
              " {'entities': [(25, 33, 'Disease_disorder'),\n",
              "   (111, 121, 'Diagnostic_procedure'),\n",
              "   (122, 131, 'Biological_structure'),\n",
              "   (237, 242, 'Detailed_description'),\n",
              "   (243, 254, 'Diagnostic_procedure'),\n",
              "   (271, 279, 'Therapeutic_procedure'),\n",
              "   (352, 357, 'Sign_symptom'),\n",
              "   (364, 378, 'Biological_structure'),\n",
              "   (395, 403, 'Sign_symptom'),\n",
              "   (437, 450, 'Diagnostic_procedure'),\n",
              "   (469, 488, 'Diagnostic_procedure'),\n",
              "   (491, 499, 'Diagnostic_procedure'),\n",
              "   (503, 509, 'Diagnostic_procedure')]})"
            ]
          },
          "metadata": {},
          "execution_count": 20
        }
      ],
      "source": [
        "df_ner[0]"
      ]
    },
    {
      "cell_type": "markdown",
      "metadata": {
        "id": "nJJi7OKi0Xpw"
      },
      "source": [
        "# Training the Spacy NER model"
      ]
    },
    {
      "cell_type": "markdown",
      "metadata": {
        "id": "K8vB36zw0bak"
      },
      "source": [
        "Frist, split in train - test"
      ]
    },
    {
      "cell_type": "code",
      "execution_count": null,
      "metadata": {
        "id": "ijt9OIvq0Sqv"
      },
      "outputs": [],
      "source": [
        "random.shuffle(df_ner)\n",
        "\n",
        "train_data = df_ner[:int(len(df_ner)*0.8)]\n",
        "test_data = df_ner[int(len(df_ner)*0.8):]"
      ]
    },
    {
      "cell_type": "markdown",
      "metadata": {
        "id": "ROOETEw10jge"
      },
      "source": [
        "And we create the binary dataset as spacy required"
      ]
    },
    {
      "cell_type": "markdown",
      "metadata": {
        "id": "ixzoJr2g0pPy"
      },
      "source": [
        "## to generate train file:"
      ]
    },
    {
      "cell_type": "code",
      "execution_count": null,
      "metadata": {
        "colab": {
          "base_uri": "https://localhost:8080/"
        },
        "id": "C3pnmvVk0fG4",
        "outputId": "275e1273-ecbd-4c42-ca9f-3b686fe63ab6"
      },
      "outputs": [
        {
          "output_type": "stream",
          "name": "stderr",
          "text": [
            "100%|██████████| 2942/2942 [00:03<00:00, 918.41it/s] \n"
          ]
        }
      ],
      "source": [
        "db = DocBin() # create a DocBin object\n",
        "\n",
        "nlp = spacy.blank('es') \n",
        "\n",
        "for text, annot in tqdm(train_data): # data in previous format\n",
        "    doc = nlp.make_doc(text) # create doc object from text\n",
        "    ents = []\n",
        "    for start, end, label in annot[\"entities\"]: # add character indexes\n",
        "        span = doc.char_span(start, end, label=label, alignment_mode=\"contract\")\n",
        "        if span is None:\n",
        "            print(\"Skipping entity\")\n",
        "        else:\n",
        "            ents.append(span)\n",
        "    doc.ents = ents # label the text with the ents\n",
        "    db.add(doc)\n",
        "\n",
        "db.to_disk(\"./train.spacy\") # save the docbin object"
      ]
    },
    {
      "cell_type": "markdown",
      "metadata": {
        "id": "vHvYkvSy0sEz"
      },
      "source": [
        "## to generate test file:"
      ]
    },
    {
      "cell_type": "code",
      "execution_count": null,
      "metadata": {
        "id": "sY3F_BVW0q-j",
        "colab": {
          "base_uri": "https://localhost:8080/"
        },
        "outputId": "5bf77561-5d23-4961-f109-9284d8d8d323"
      },
      "outputs": [
        {
          "output_type": "stream",
          "name": "stderr",
          "text": [
            "100%|██████████| 736/736 [00:01<00:00, 716.44it/s]\n"
          ]
        }
      ],
      "source": [
        "db = DocBin() # create a DocBin object\n",
        "\n",
        "nlp = spacy.blank('es') \n",
        "\n",
        "for text, annot in tqdm(test_data): # data in previous format\n",
        "    doc = nlp.make_doc(text) # create doc object from text\n",
        "    ents = []\n",
        "    for start, end, label in annot[\"entities\"]: # add character indexes\n",
        "        span = doc.char_span(start, end, label=label, alignment_mode=\"contract\")\n",
        "        if span is None:\n",
        "            print(\"Skipping entity\")\n",
        "        else:\n",
        "            ents.append(span)\n",
        "    doc.ents = ents # label the text with the ents\n",
        "    db.add(doc)\n",
        "\n",
        "db.to_disk(\"./test.spacy\") # save the docbin object"
      ]
    },
    {
      "cell_type": "markdown",
      "source": [
        "# Go to [spacy](https://spacy.io/usage/training) and generate the case config file, as we show in the image below:"
      ],
      "metadata": {
        "id": "URxaprp89Idn"
      }
    },
    {
      "cell_type": "markdown",
      "source": [
        "![spacy-genfile.PNG](data:image/png;base64,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)"
      ],
      "metadata": {
        "id": "tylGVaih9WLf"
      }
    },
    {
      "cell_type": "markdown",
      "source": [
        "download that base_config file and place in the same diretory"
      ],
      "metadata": {
        "id": "HttqUeGI97Ew"
      }
    },
    {
      "cell_type": "markdown",
      "metadata": {
        "id": "KjYeP05700kf"
      },
      "source": [
        "## Now we fill the config file with all the details"
      ]
    },
    {
      "cell_type": "code",
      "execution_count": null,
      "metadata": {
        "id": "9tNS3gwJ0v9C",
        "colab": {
          "base_uri": "https://localhost:8080/"
        },
        "outputId": "a2f03728-e6f2-40a9-d9be-36693fa44201"
      },
      "outputs": [
        {
          "output_type": "stream",
          "name": "stdout",
          "text": [
            "\u001b[38;5;2m✔ Auto-filled config with all values\u001b[0m\n",
            "\u001b[38;5;2m✔ Saved config\u001b[0m\n",
            "config.cfg\n",
            "You can now add your data and train your pipeline:\n",
            "python -m spacy train config.cfg --paths.train ./train.spacy --paths.dev ./dev.spacy\n"
          ]
        }
      ],
      "source": [
        "!python -m spacy init fill-config base_config-gpuacc.cfg config.cfg "
      ]
    },
    {
      "cell_type": "markdown",
      "metadata": {
        "id": "BroMv60w1q8y"
      },
      "source": [
        "## Finally Train the NER model"
      ]
    },
    {
      "cell_type": "code",
      "execution_count": null,
      "metadata": {
        "id": "anD0tBY61ntx",
        "colab": {
          "base_uri": "https://localhost:8080/"
        },
        "outputId": "1ec4fd56-1b72-450b-f120-66a0584278e2"
      },
      "outputs": [
        {
          "output_type": "stream",
          "name": "stdout",
          "text": [
            "\u001b[38;5;2m✔ Created output directory: output\u001b[0m\n",
            "\u001b[38;5;4mℹ Saving to output directory: output\u001b[0m\n",
            "\u001b[38;5;4mℹ Using GPU: 0\u001b[0m\n",
            "\u001b[1m\n",
            "=========================== Initializing pipeline ===========================\u001b[0m\n",
            "[2022-09-28 12:04:25,947] [INFO] Set up nlp object from config\n",
            "INFO:spacy:Set up nlp object from config\n",
            "[2022-09-28 12:04:25,959] [INFO] Pipeline: ['transformer', 'ner']\n",
            "INFO:spacy:Pipeline: ['transformer', 'ner']\n",
            "[2022-09-28 12:04:25,963] [INFO] Created vocabulary\n",
            "INFO:spacy:Created vocabulary\n",
            "[2022-09-28 12:04:25,964] [INFO] Finished initializing nlp object\n",
            "INFO:spacy:Finished initializing nlp object\n",
            "Downloading tokenizer_config.json: 100% 364/364 [00:00<00:00, 369kB/s]\n",
            "Downloading config.json: 100% 648/648 [00:00<00:00, 641kB/s]\n",
            "Downloading vocab.txt: 100% 236k/236k [00:00<00:00, 333kB/s]\n",
            "Downloading tokenizer.json: 100% 469k/469k [00:01<00:00, 397kB/s]\n",
            "Downloading special_tokens_map.json: 100% 134/134 [00:00<00:00, 121kB/s]\n",
            "Downloading pytorch_model.bin: 100% 419M/419M [00:06<00:00, 69.0MB/s]\n",
            "Some weights of the model checkpoint at dccuchile/bert-base-spanish-wwm-cased were not used when initializing BertModel: ['cls.predictions.bias', 'cls.predictions.transform.LayerNorm.weight', 'cls.predictions.decoder.bias', 'cls.predictions.transform.dense.weight', 'cls.predictions.transform.dense.bias', 'cls.predictions.decoder.weight', 'cls.predictions.transform.LayerNorm.bias']\n",
            "- This IS expected if you are initializing BertModel from the checkpoint of a model trained on another task or with another architecture (e.g. initializing a BertForSequenceClassification model from a BertForPreTraining model).\n",
            "- This IS NOT expected if you are initializing BertModel from the checkpoint of a model that you expect to be exactly identical (initializing a BertForSequenceClassification model from a BertForSequenceClassification model).\n",
            "Some weights of BertModel were not initialized from the model checkpoint at dccuchile/bert-base-spanish-wwm-cased and are newly initialized: ['bert.pooler.dense.weight', 'bert.pooler.dense.bias']\n",
            "You should probably TRAIN this model on a down-stream task to be able to use it for predictions and inference.\n",
            "[2022-09-28 12:05:06,546] [INFO] Initialized pipeline components: ['transformer', 'ner']\n",
            "INFO:spacy:Initialized pipeline components: ['transformer', 'ner']\n",
            "\u001b[38;5;2m✔ Initialized pipeline\u001b[0m\n",
            "\u001b[1m\n",
            "============================= Training pipeline =============================\u001b[0m\n",
            "\u001b[38;5;4mℹ Pipeline: ['transformer', 'ner']\u001b[0m\n",
            "\u001b[38;5;4mℹ Initial learn rate: 0.0\u001b[0m\n",
            "E    #       LOSS TRANS...  LOSS NER  ENTS_F  ENTS_P  ENTS_R  SCORE \n",
            "---  ------  -------------  --------  ------  ------  ------  ------\n",
            "  0       0        2632.87   1329.97    0.34    0.30    0.39    0.00\n",
            "  0     200      834791.84  164467.78   32.26   37.65   28.22    0.32\n",
            "  1     400      143965.50  85307.63   51.62   55.66   48.13    0.52\n",
            "  2     600       49911.47  59304.38   61.50   64.60   58.68    0.61\n",
            "  3     800       38775.71  47937.18   66.20   67.06   65.35    0.66\n",
            "  4    1000       48339.95  41129.92   68.52   68.66   68.37    0.69\n",
            "  4    1200       29985.60  35569.23   70.40   70.70   70.10    0.70\n",
            "  5    1400       23645.47  31521.08   72.34   72.22   72.46    0.72\n",
            "  6    1600       48804.80  29026.19   74.69   74.76   74.62    0.75\n",
            "  7    1800       20565.41  24591.34   75.70   75.47   75.92    0.76\n",
            "  8    2000       19239.82  22615.64   77.51   77.39   77.63    0.78\n",
            "  8    2200       16810.48  19737.81   78.31   78.38   78.24    0.78\n",
            "  9    2400       14309.71  17847.62   78.96   78.63   79.30    0.79\n",
            " 10    2600       13079.22  15612.30   80.89   80.93   80.85    0.81\n",
            " 11    2800       14695.78  14526.62   81.08   80.88   81.28    0.81\n",
            " 12    3000       11047.32  12730.84   81.70   81.48   81.93    0.82\n",
            " 12    3200       11171.41  11488.72   82.18   82.04   82.31    0.82\n",
            " 13    3400        9628.30  10034.90   82.54   82.45   82.63    0.83\n",
            " 14    3600       10130.12   9290.61   82.90   82.86   82.94    0.83\n",
            " 15    3800        8722.14   8578.37   83.07   83.09   83.06    0.83\n",
            " 16    4000        6399.42   7546.40   83.17   83.12   83.22    0.83\n",
            " 16    4200        6691.44   7555.77   83.46   83.40   83.51    0.83\n",
            " 17    4400        6392.33   6675.61   83.58   83.49   83.68    0.84\n",
            " 18    4600        5440.93   6360.38   83.52   83.18   83.86    0.84\n",
            " 19    4800        5256.38   5543.53   83.46   83.37   83.54    0.83\n",
            " 20    5000        4791.16   5218.45   83.75   83.36   84.14    0.84\n",
            " 20    5200        4124.34   4700.19   84.01   83.82   84.21    0.84\n",
            " 21    5400        4569.15   4920.54   84.54   84.43   84.66    0.85\n",
            " 22    5600        3774.75   4357.63   84.29   84.44   84.13    0.84\n",
            " 23    5800        3501.37   3914.11   84.29   84.05   84.53    0.84\n",
            " 24    6000        3346.47   3729.24   84.63   84.50   84.76    0.85\n",
            "\n",
            "Aborted!\n"
          ]
        }
      ],
      "source": [
        "!python -m spacy train config.cfg --output ./output --paths.train ./train.spacy --paths.dev ./test.spacy --gpu-id 0"
      ]
    },
    {
      "cell_type": "code",
      "execution_count": null,
      "metadata": {
        "id": "uxp045aG1xAr"
      },
      "outputs": [],
      "source": []
    },
    {
      "cell_type": "markdown",
      "metadata": {
        "id": "_R74DPMA6OiM"
      },
      "source": [
        "# Integrating the Whisper ASR"
      ]
    },
    {
      "cell_type": "code",
      "execution_count": null,
      "metadata": {
        "id": "dBsOYHwTWsNu"
      },
      "outputs": [],
      "source": [
        "if not path_exists('transcripts'):\n",
        "    !mkdir transcripts"
      ]
    },
    {
      "cell_type": "code",
      "execution_count": 65,
      "metadata": {
        "id": "d9cBUL_ZX9xs"
      },
      "outputs": [],
      "source": [
        "YouTubeID = 'xOZM-1p-jAk' # ¿Qué es la enfermedad de Crohn y cómo detectarla?\n",
        "OutputFile = 'test_audio_youtube_5.m4a'\n"
      ]
    },
    {
      "cell_type": "code",
      "execution_count": 66,
      "metadata": {
        "id": "ep09Tdn9YNRW",
        "colab": {
          "base_uri": "https://localhost:8080/"
        },
        "outputId": "8ed66041-f71d-4a67-e0fa-191777961dd5"
      },
      "outputs": [
        {
          "output_type": "stream",
          "name": "stdout",
          "text": [
            "[youtube] xOZM-1p-jAk: Downloading webpage\n",
            "[download] Destination: test_audio_youtube_5.m4a\n",
            "\u001b[K[download] 100% of 3.39MiB in 01:00\n",
            "[ffmpeg] Correcting container in \"test_audio_youtube_5.m4a\"\n",
            "[ffmpeg] Post-process file test_audio_youtube_5.m4a exists, skipping\n"
          ]
        }
      ],
      "source": [
        "if not path_exists(OutputFile):\n",
        "    !youtube-dl -o $OutputFile $YouTubeID --extract-audio --restrict-filenames -f 'bestaudio[ext=m4a]'"
      ]
    },
    {
      "cell_type": "code",
      "execution_count": 67,
      "metadata": {
        "id": "3pR9v1YtYR6D",
        "colab": {
          "base_uri": "https://localhost:8080/"
        },
        "outputId": "5b7409ce-3011-4b9b-f55f-f8cd9038c29b"
      },
      "outputs": [
        {
          "output_type": "stream",
          "name": "stdout",
          "text": [
            " A tu salud con María Laura García. Hola amigos, gracias por acompañarnos en estos minutos dedicados a tu salud. Hoy le hablaremos de una enfermedad congénica del sistema nervioso central de carácter progresivo, que causa minusvalía y provoca más de 100 síntomas asociados. Se trata de la enfermedad de Chiari o malformación de Arnalt Chiari, caracterizada por la migración o salida de componentes del cerebro a través del agujero que conecta dicho órgano con la columna, comprimiendo el tallo cerebral. Para conocer detalles de esta rara patología, que afecta mayoritariamente a las mujeres, nos acompaña el neurocirujano, Hermann Schultz. Esto ocurre, puede ser un recién nacido o adolescente con los adultos y la forma de presentación es diferente. En los recién nacidos son niños que se acompañan con otras malformaciones. Por ejemplo, se llama el miel o meningoceles, que es una malformación, que la columna no se cierra en forma adecuada y la médula se sale a través de ella y eso produce un efecto de presión que hace que estas estructuras del cerebelo se migren o se hernen a través de este agujero. Otra causa es que esta área del oxipital no crees que en forma adecuada se pone muy pequeño y hasta muy pequeña hace presión, igualmente solo el cerebelo, y hace que se herne. Y eso se llama quiari, hay tipo 1, tipo 2, entre 6 adultos en niños. ¿Qué siente una persona cuando tiene un quiari? Eso depende de qué tanta compresión tenga el tallo. Puede tener lo más frecuente en los jóvenes y los adultos, es que tenga un dolor de cabeza, sobre todo en la región del hospital y una sensación de corriente a través de la columna. Entonces se puede acompañar de sensaciones, lo que se llama para este es que se duerme los brazos, se duerme las piernas, sienten hormigueo, pueden sentir calor, pueden sentir diferencias cuando se bañan el agua caliente de un parte del cuerpo, la obra fría, se afecta a los pares craneales que son los que mueven la cara, pueden tener trastornos para hablar, trastornos para deglutir, trastornos para la audición y también hay trastornos visuales. ¿Y cómo se hace el diagnóstico? El diagnóstico es un diagnóstico de imagen. Y el gole estándar, o sea, lo mejor para hacer el diagnóstico, es una resonancia magnética. Con la resonancia magnética podemos ver perfectamente las estructuras del cerebro y si hay o no esta herniación del cerebelo a través del agujero magno o el agujero que conecta el cerebro con la columna. Una de las cosas que se puede hacer es una tomografía para ver las estructuras ósea del cráneo y muchas veces en útero los obstetras a través del eco también ya pueden hacer un diagnóstico precoz de un kiari en niños brasignacidos. Hay muchas personas que pueden presentar la enfermedad de chiari y lo manifiestan en principio con dolor de cabeza, vértigo o malestar general que pueden ser controlados con tratamiento y observación. Ahora bien, cuando hay síntomas como trastornos de declusión, movimiento o sensibilidad, entonces será necesario efectuar una cirugía para ampliar el espacio donde se ubica el cerebelo y así mitigar los síntomas asociados. Esperamos que esta información le resunte útil y lo esperamos en una próxima edición de A Tu Salud. Salud por todos los medios. A Tu Salud con María Laura García\n"
          ]
        }
      ],
      "source": [
        "model_whisper = whisper.load_model(\"small\")\n",
        "result = model_whisper.transcribe(OutputFile)\n",
        "print(result[\"text\"])"
      ]
    },
    {
      "cell_type": "code",
      "execution_count": 68,
      "metadata": {
        "id": "oKfTG9zr6Uni"
      },
      "outputs": [],
      "source": [
        "import spacy_transformers\n",
        "nlp1 = spacy.load(r\"/content/output/model-best\") #load the best model\n",
        "\n",
        "doc = nlp1(result[\"text\"])\n"
      ]
    },
    {
      "cell_type": "code",
      "execution_count": 69,
      "metadata": {
        "id": "TDRUYZABVpzH"
      },
      "outputs": [],
      "source": [
        "ents = dict_specialty_keywords_es.keys()\n",
        "\n",
        "\n",
        "import random\n",
        "random.seed(38)\n",
        "\n",
        "colors = {}\n",
        "for j in ents:\n",
        "    rand_colors = [\"#\"+''.join([random.choice('ABCDEF0123456789') for i in range(6)])]\n",
        "    colors[j] = rand_colors[0]\n",
        "\n",
        "options = {\"ents\": list(ents), \"colors\": colors }"
      ]
    },
    {
      "cell_type": "code",
      "execution_count": 70,
      "metadata": {
        "id": "D5vqg0coVtmy",
        "colab": {
          "base_uri": "https://localhost:8080/",
          "height": 1000
        },
        "outputId": "a6f8781a-6b35-40fa-bf04-e5b8f2a1ffd9"
      },
      "outputs": [
        {
          "output_type": "display_data",
          "data": {
            "text/plain": [
              "<IPython.core.display.HTML object>"
            ],
            "text/html": [
              "<span class=\"tex2jax_ignore\"><div class=\"entities\" style=\"line-height: 2.5; direction: ltr\"> A tu \n",
              "<mark class=\"entity\" style=\"background: #43961C; padding: 0.45em 0.6em; margin: 0 0.25em; line-height: 1; border-radius: 0.35em;\">\n",
              "    salud\n",
              "    <span style=\"font-size: 0.8em; font-weight: bold; line-height: 1; border-radius: 0.35em; vertical-align: middle; margin-left: 0.5rem\">History</span>\n",
              "</mark>\n",
              " con \n",
              "<mark class=\"entity\" style=\"background: #984F06; padding: 0.45em 0.6em; margin: 0 0.25em; line-height: 1; border-radius: 0.35em;\">\n",
              "    María Laura García\n",
              "    <span style=\"font-size: 0.8em; font-weight: bold; line-height: 1; border-radius: 0.35em; vertical-align: middle; margin-left: 0.5rem\">Subject</span>\n",
              "</mark>\n",
              ". Hola \n",
              "<mark class=\"entity\" style=\"background: #984F06; padding: 0.45em 0.6em; margin: 0 0.25em; line-height: 1; border-radius: 0.35em;\">\n",
              "    amigos\n",
              "    <span style=\"font-size: 0.8em; font-weight: bold; line-height: 1; border-radius: 0.35em; vertical-align: middle; margin-left: 0.5rem\">Subject</span>\n",
              "</mark>\n",
              ", gracias por acompañarnos en estos \n",
              "<mark class=\"entity\" style=\"background: #DE8CD6; padding: 0.45em 0.6em; margin: 0 0.25em; line-height: 1; border-radius: 0.35em;\">\n",
              "    minutos\n",
              "    <span style=\"font-size: 0.8em; font-weight: bold; line-height: 1; border-radius: 0.35em; vertical-align: middle; margin-left: 0.5rem\">Detailed_description</span>\n",
              "</mark>\n",
              " dedicados a tu \n",
              "<mark class=\"entity\" style=\"background: #B78B69; padding: 0.45em 0.6em; margin: 0 0.25em; line-height: 1; border-radius: 0.35em;\">\n",
              "    salud\n",
              "    <span style=\"font-size: 0.8em; font-weight: bold; line-height: 1; border-radius: 0.35em; vertical-align: middle; margin-left: 0.5rem\">Activity</span>\n",
              "</mark>\n",
              ". Hoy le hablaremos de una \n",
              "<mark class=\"entity\" style=\"background: #6E20B4; padding: 0.45em 0.6em; margin: 0 0.25em; line-height: 1; border-radius: 0.35em;\">\n",
              "    enfermedad congénica\n",
              "    <span style=\"font-size: 0.8em; font-weight: bold; line-height: 1; border-radius: 0.35em; vertical-align: middle; margin-left: 0.5rem\">Disease_disorder</span>\n",
              "</mark>\n",
              " del \n",
              "<mark class=\"entity\" style=\"background: #03CFD5; padding: 0.45em 0.6em; margin: 0 0.25em; line-height: 1; border-radius: 0.35em;\">\n",
              "    sistema\n",
              "    <span style=\"font-size: 0.8em; font-weight: bold; line-height: 1; border-radius: 0.35em; vertical-align: middle; margin-left: 0.5rem\">Occupation</span>\n",
              "</mark>\n",
              " \n",
              "<mark class=\"entity\" style=\"background: #9E71A6; padding: 0.45em 0.6em; margin: 0 0.25em; line-height: 1; border-radius: 0.35em;\">\n",
              "    nervioso\n",
              "    <span style=\"font-size: 0.8em; font-weight: bold; line-height: 1; border-radius: 0.35em; vertical-align: middle; margin-left: 0.5rem\">Sign_symptom</span>\n",
              "</mark>\n",
              " \n",
              "<mark class=\"entity\" style=\"background: #DE8CD6; padding: 0.45em 0.6em; margin: 0 0.25em; line-height: 1; border-radius: 0.35em;\">\n",
              "    central\n",
              "    <span style=\"font-size: 0.8em; font-weight: bold; line-height: 1; border-radius: 0.35em; vertical-align: middle; margin-left: 0.5rem\">Detailed_description</span>\n",
              "</mark>\n",
              " de carácter progresivo, que causa minusvalía y provoca \n",
              "<mark class=\"entity\" style=\"background: #DE8CD6; padding: 0.45em 0.6em; margin: 0 0.25em; line-height: 1; border-radius: 0.35em;\">\n",
              "    más de 100\n",
              "    <span style=\"font-size: 0.8em; font-weight: bold; line-height: 1; border-radius: 0.35em; vertical-align: middle; margin-left: 0.5rem\">Detailed_description</span>\n",
              "</mark>\n",
              " \n",
              "<mark class=\"entity\" style=\"background: #9E71A6; padding: 0.45em 0.6em; margin: 0 0.25em; line-height: 1; border-radius: 0.35em;\">\n",
              "    síntomas\n",
              "    <span style=\"font-size: 0.8em; font-weight: bold; line-height: 1; border-radius: 0.35em; vertical-align: middle; margin-left: 0.5rem\">Sign_symptom</span>\n",
              "</mark>\n",
              " \n",
              "<mark class=\"entity\" style=\"background: #DE8CD6; padding: 0.45em 0.6em; margin: 0 0.25em; line-height: 1; border-radius: 0.35em;\">\n",
              "    asociados\n",
              "    <span style=\"font-size: 0.8em; font-weight: bold; line-height: 1; border-radius: 0.35em; vertical-align: middle; margin-left: 0.5rem\">Detailed_description</span>\n",
              "</mark>\n",
              ". Se trata \n",
              "<mark class=\"entity\" style=\"background: #DE8CD6; padding: 0.45em 0.6em; margin: 0 0.25em; line-height: 1; border-radius: 0.35em;\">\n",
              "    de la\n",
              "    <span style=\"font-size: 0.8em; font-weight: bold; line-height: 1; border-radius: 0.35em; vertical-align: middle; margin-left: 0.5rem\">Detailed_description</span>\n",
              "</mark>\n",
              " \n",
              "<mark class=\"entity\" style=\"background: #6E20B4; padding: 0.45em 0.6em; margin: 0 0.25em; line-height: 1; border-radius: 0.35em;\">\n",
              "    enfermedad de Chiari\n",
              "    <span style=\"font-size: 0.8em; font-weight: bold; line-height: 1; border-radius: 0.35em; vertical-align: middle; margin-left: 0.5rem\">Disease_disorder</span>\n",
              "</mark>\n",
              " o \n",
              "<mark class=\"entity\" style=\"background: #6E20B4; padding: 0.45em 0.6em; margin: 0 0.25em; line-height: 1; border-radius: 0.35em;\">\n",
              "    malformación\n",
              "    <span style=\"font-size: 0.8em; font-weight: bold; line-height: 1; border-radius: 0.35em; vertical-align: middle; margin-left: 0.5rem\">Disease_disorder</span>\n",
              "</mark>\n",
              " de Arnalt \n",
              "<mark class=\"entity\" style=\"background: #5AE9D2; padding: 0.45em 0.6em; margin: 0 0.25em; line-height: 1; border-radius: 0.35em;\">\n",
              "    Chiari\n",
              "    <span style=\"font-size: 0.8em; font-weight: bold; line-height: 1; border-radius: 0.35em; vertical-align: middle; margin-left: 0.5rem\">Biological_structure</span>\n",
              "</mark>\n",
              ", caracterizada por la \n",
              "<mark class=\"entity\" style=\"background: #9E71A6; padding: 0.45em 0.6em; margin: 0 0.25em; line-height: 1; border-radius: 0.35em;\">\n",
              "    migración\n",
              "    <span style=\"font-size: 0.8em; font-weight: bold; line-height: 1; border-radius: 0.35em; vertical-align: middle; margin-left: 0.5rem\">Sign_symptom</span>\n",
              "</mark>\n",
              " o \n",
              "<mark class=\"entity\" style=\"background: #DE8CD6; padding: 0.45em 0.6em; margin: 0 0.25em; line-height: 1; border-radius: 0.35em;\">\n",
              "    salida\n",
              "    <span style=\"font-size: 0.8em; font-weight: bold; line-height: 1; border-radius: 0.35em; vertical-align: middle; margin-left: 0.5rem\">Detailed_description</span>\n",
              "</mark>\n",
              " de componentes del \n",
              "<mark class=\"entity\" style=\"background: #5AE9D2; padding: 0.45em 0.6em; margin: 0 0.25em; line-height: 1; border-radius: 0.35em;\">\n",
              "    cerebro\n",
              "    <span style=\"font-size: 0.8em; font-weight: bold; line-height: 1; border-radius: 0.35em; vertical-align: middle; margin-left: 0.5rem\">Biological_structure</span>\n",
              "</mark>\n",
              " \n",
              "<mark class=\"entity\" style=\"background: #5AE9D2; padding: 0.45em 0.6em; margin: 0 0.25em; line-height: 1; border-radius: 0.35em;\">\n",
              "    a través\n",
              "    <span style=\"font-size: 0.8em; font-weight: bold; line-height: 1; border-radius: 0.35em; vertical-align: middle; margin-left: 0.5rem\">Biological_structure</span>\n",
              "</mark>\n",
              " del \n",
              "<mark class=\"entity\" style=\"background: #DE8CD6; padding: 0.45em 0.6em; margin: 0 0.25em; line-height: 1; border-radius: 0.35em;\">\n",
              "    agujero\n",
              "    <span style=\"font-size: 0.8em; font-weight: bold; line-height: 1; border-radius: 0.35em; vertical-align: middle; margin-left: 0.5rem\">Detailed_description</span>\n",
              "</mark>\n",
              " que conecta dicho órgano con la columna, comprimiendo el \n",
              "<mark class=\"entity\" style=\"background: #DE8CD6; padding: 0.45em 0.6em; margin: 0 0.25em; line-height: 1; border-radius: 0.35em;\">\n",
              "    tallo\n",
              "    <span style=\"font-size: 0.8em; font-weight: bold; line-height: 1; border-radius: 0.35em; vertical-align: middle; margin-left: 0.5rem\">Detailed_description</span>\n",
              "</mark>\n",
              " \n",
              "<mark class=\"entity\" style=\"background: #5AE9D2; padding: 0.45em 0.6em; margin: 0 0.25em; line-height: 1; border-radius: 0.35em;\">\n",
              "    cerebral\n",
              "    <span style=\"font-size: 0.8em; font-weight: bold; line-height: 1; border-radius: 0.35em; vertical-align: middle; margin-left: 0.5rem\">Biological_structure</span>\n",
              "</mark>\n",
              ". \n",
              "<mark class=\"entity\" style=\"background: #6E20B4; padding: 0.45em 0.6em; margin: 0 0.25em; line-height: 1; border-radius: 0.35em;\">\n",
              "    Para\n",
              "    <span style=\"font-size: 0.8em; font-weight: bold; line-height: 1; border-radius: 0.35em; vertical-align: middle; margin-left: 0.5rem\">Disease_disorder</span>\n",
              "</mark>\n",
              " conocer detalles de esta rara \n",
              "<mark class=\"entity\" style=\"background: #6E20B4; padding: 0.45em 0.6em; margin: 0 0.25em; line-height: 1; border-radius: 0.35em;\">\n",
              "    patología\n",
              "    <span style=\"font-size: 0.8em; font-weight: bold; line-height: 1; border-radius: 0.35em; vertical-align: middle; margin-left: 0.5rem\">Disease_disorder</span>\n",
              "</mark>\n",
              ", que afecta mayoritariamente a las \n",
              "<mark class=\"entity\" style=\"background: #5BF542; padding: 0.45em 0.6em; margin: 0 0.25em; line-height: 1; border-radius: 0.35em;\">\n",
              "    mujeres\n",
              "    <span style=\"font-size: 0.8em; font-weight: bold; line-height: 1; border-radius: 0.35em; vertical-align: middle; margin-left: 0.5rem\">Sex</span>\n",
              "</mark>\n",
              ", nos acompaña el neurocirujano, Hermann Schultz. \n",
              "<mark class=\"entity\" style=\"background: #DE8CD6; padding: 0.45em 0.6em; margin: 0 0.25em; line-height: 1; border-radius: 0.35em;\">\n",
              "    Esto\n",
              "    <span style=\"font-size: 0.8em; font-weight: bold; line-height: 1; border-radius: 0.35em; vertical-align: middle; margin-left: 0.5rem\">Detailed_description</span>\n",
              "</mark>\n",
              " ocurre, \n",
              "<mark class=\"entity\" style=\"background: #9E71A6; padding: 0.45em 0.6em; margin: 0 0.25em; line-height: 1; border-radius: 0.35em;\">\n",
              "    puede\n",
              "    <span style=\"font-size: 0.8em; font-weight: bold; line-height: 1; border-radius: 0.35em; vertical-align: middle; margin-left: 0.5rem\">Sign_symptom</span>\n",
              "</mark>\n",
              " ser un \n",
              "<mark class=\"entity\" style=\"background: #77DC58; padding: 0.45em 0.6em; margin: 0 0.25em; line-height: 1; border-radius: 0.35em;\">\n",
              "    recién nacido\n",
              "    <span style=\"font-size: 0.8em; font-weight: bold; line-height: 1; border-radius: 0.35em; vertical-align: middle; margin-left: 0.5rem\">Age</span>\n",
              "</mark>\n",
              " o \n",
              "<mark class=\"entity\" style=\"background: #2E7FA3; padding: 0.45em 0.6em; margin: 0 0.25em; line-height: 1; border-radius: 0.35em;\">\n",
              "    adolescente\n",
              "    <span style=\"font-size: 0.8em; font-weight: bold; line-height: 1; border-radius: 0.35em; vertical-align: middle; margin-left: 0.5rem\">Family_history</span>\n",
              "</mark>\n",
              " con los adultos y la \n",
              "<mark class=\"entity\" style=\"background: #9E71A6; padding: 0.45em 0.6em; margin: 0 0.25em; line-height: 1; border-radius: 0.35em;\">\n",
              "    forma\n",
              "    <span style=\"font-size: 0.8em; font-weight: bold; line-height: 1; border-radius: 0.35em; vertical-align: middle; margin-left: 0.5rem\">Sign_symptom</span>\n",
              "</mark>\n",
              " de \n",
              "<mark class=\"entity\" style=\"background: #5C113A; padding: 0.45em 0.6em; margin: 0 0.25em; line-height: 1; border-radius: 0.35em;\">\n",
              "    presentación\n",
              "    <span style=\"font-size: 0.8em; font-weight: bold; line-height: 1; border-radius: 0.35em; vertical-align: middle; margin-left: 0.5rem\">Diagnostic_procedure</span>\n",
              "</mark>\n",
              " es diferente. En los \n",
              "<mark class=\"entity\" style=\"background: #77DC58; padding: 0.45em 0.6em; margin: 0 0.25em; line-height: 1; border-radius: 0.35em;\">\n",
              "    recién nacidos\n",
              "    <span style=\"font-size: 0.8em; font-weight: bold; line-height: 1; border-radius: 0.35em; vertical-align: middle; margin-left: 0.5rem\">Age</span>\n",
              "</mark>\n",
              " son \n",
              "<mark class=\"entity\" style=\"background: #2E7FA3; padding: 0.45em 0.6em; margin: 0 0.25em; line-height: 1; border-radius: 0.35em;\">\n",
              "    niños\n",
              "    <span style=\"font-size: 0.8em; font-weight: bold; line-height: 1; border-radius: 0.35em; vertical-align: middle; margin-left: 0.5rem\">Family_history</span>\n",
              "</mark>\n",
              " que se acompañan con otras malformaciones. Por ejemplo, se llama el \n",
              "<mark class=\"entity\" style=\"background: #9E71A6; padding: 0.45em 0.6em; margin: 0 0.25em; line-height: 1; border-radius: 0.35em;\">\n",
              "    miel\n",
              "    <span style=\"font-size: 0.8em; font-weight: bold; line-height: 1; border-radius: 0.35em; vertical-align: middle; margin-left: 0.5rem\">Sign_symptom</span>\n",
              "</mark>\n",
              " o meningoceles, que es una \n",
              "<mark class=\"entity\" style=\"background: #6E20B4; padding: 0.45em 0.6em; margin: 0 0.25em; line-height: 1; border-radius: 0.35em;\">\n",
              "    malformación\n",
              "    <span style=\"font-size: 0.8em; font-weight: bold; line-height: 1; border-radius: 0.35em; vertical-align: middle; margin-left: 0.5rem\">Disease_disorder</span>\n",
              "</mark>\n",
              ", que la \n",
              "<mark class=\"entity\" style=\"background: #9E71A6; padding: 0.45em 0.6em; margin: 0 0.25em; line-height: 1; border-radius: 0.35em;\">\n",
              "    columna no\n",
              "    <span style=\"font-size: 0.8em; font-weight: bold; line-height: 1; border-radius: 0.35em; vertical-align: middle; margin-left: 0.5rem\">Sign_symptom</span>\n",
              "</mark>\n",
              " se cierra \n",
              "<mark class=\"entity\" style=\"background: #DE8CD6; padding: 0.45em 0.6em; margin: 0 0.25em; line-height: 1; border-radius: 0.35em;\">\n",
              "    en forma\n",
              "    <span style=\"font-size: 0.8em; font-weight: bold; line-height: 1; border-radius: 0.35em; vertical-align: middle; margin-left: 0.5rem\">Detailed_description</span>\n",
              "</mark>\n",
              " adecuada y la \n",
              "<mark class=\"entity\" style=\"background: #5AE9D2; padding: 0.45em 0.6em; margin: 0 0.25em; line-height: 1; border-radius: 0.35em;\">\n",
              "    médula\n",
              "    <span style=\"font-size: 0.8em; font-weight: bold; line-height: 1; border-radius: 0.35em; vertical-align: middle; margin-left: 0.5rem\">Biological_structure</span>\n",
              "</mark>\n",
              " se sale \n",
              "<mark class=\"entity\" style=\"background: #5AE9D2; padding: 0.45em 0.6em; margin: 0 0.25em; line-height: 1; border-radius: 0.35em;\">\n",
              "    a través\n",
              "    <span style=\"font-size: 0.8em; font-weight: bold; line-height: 1; border-radius: 0.35em; vertical-align: middle; margin-left: 0.5rem\">Biological_structure</span>\n",
              "</mark>\n",
              " de \n",
              "<mark class=\"entity\" style=\"background: #6E20B4; padding: 0.45em 0.6em; margin: 0 0.25em; line-height: 1; border-radius: 0.35em;\">\n",
              "    ella\n",
              "    <span style=\"font-size: 0.8em; font-weight: bold; line-height: 1; border-radius: 0.35em; vertical-align: middle; margin-left: 0.5rem\">Disease_disorder</span>\n",
              "</mark>\n",
              " y eso produce un efecto de \n",
              "<mark class=\"entity\" style=\"background: #9E71A6; padding: 0.45em 0.6em; margin: 0 0.25em; line-height: 1; border-radius: 0.35em;\">\n",
              "    presión\n",
              "    <span style=\"font-size: 0.8em; font-weight: bold; line-height: 1; border-radius: 0.35em; vertical-align: middle; margin-left: 0.5rem\">Sign_symptom</span>\n",
              "</mark>\n",
              " que \n",
              "<mark class=\"entity\" style=\"background: #43961C; padding: 0.45em 0.6em; margin: 0 0.25em; line-height: 1; border-radius: 0.35em;\">\n",
              "    hace\n",
              "    <span style=\"font-size: 0.8em; font-weight: bold; line-height: 1; border-radius: 0.35em; vertical-align: middle; margin-left: 0.5rem\">History</span>\n",
              "</mark>\n",
              " que estas \n",
              "<mark class=\"entity\" style=\"background: #5AE9D2; padding: 0.45em 0.6em; margin: 0 0.25em; line-height: 1; border-radius: 0.35em;\">\n",
              "    estructuras\n",
              "    <span style=\"font-size: 0.8em; font-weight: bold; line-height: 1; border-radius: 0.35em; vertical-align: middle; margin-left: 0.5rem\">Biological_structure</span>\n",
              "</mark>\n",
              " del \n",
              "<mark class=\"entity\" style=\"background: #5AE9D2; padding: 0.45em 0.6em; margin: 0 0.25em; line-height: 1; border-radius: 0.35em;\">\n",
              "    cerebelo\n",
              "    <span style=\"font-size: 0.8em; font-weight: bold; line-height: 1; border-radius: 0.35em; vertical-align: middle; margin-left: 0.5rem\">Biological_structure</span>\n",
              "</mark>\n",
              " se migren o se hernen \n",
              "<mark class=\"entity\" style=\"background: #5AE9D2; padding: 0.45em 0.6em; margin: 0 0.25em; line-height: 1; border-radius: 0.35em;\">\n",
              "    a través\n",
              "    <span style=\"font-size: 0.8em; font-weight: bold; line-height: 1; border-radius: 0.35em; vertical-align: middle; margin-left: 0.5rem\">Biological_structure</span>\n",
              "</mark>\n",
              " de este \n",
              "<mark class=\"entity\" style=\"background: #2AC803; padding: 0.45em 0.6em; margin: 0 0.25em; line-height: 1; border-radius: 0.35em;\">\n",
              "    agujero\n",
              "    <span style=\"font-size: 0.8em; font-weight: bold; line-height: 1; border-radius: 0.35em; vertical-align: middle; margin-left: 0.5rem\">Therapeutic_procedure</span>\n",
              "</mark>\n",
              ". Otra causa es que esta \n",
              "<mark class=\"entity\" style=\"background: #DE8CD6; padding: 0.45em 0.6em; margin: 0 0.25em; line-height: 1; border-radius: 0.35em;\">\n",
              "    área\n",
              "    <span style=\"font-size: 0.8em; font-weight: bold; line-height: 1; border-radius: 0.35em; vertical-align: middle; margin-left: 0.5rem\">Detailed_description</span>\n",
              "</mark>\n",
              " del \n",
              "<mark class=\"entity\" style=\"background: #5AE9D2; padding: 0.45em 0.6em; margin: 0 0.25em; line-height: 1; border-radius: 0.35em;\">\n",
              "    oxipital\n",
              "    <span style=\"font-size: 0.8em; font-weight: bold; line-height: 1; border-radius: 0.35em; vertical-align: middle; margin-left: 0.5rem\">Biological_structure</span>\n",
              "</mark>\n",
              " no crees que \n",
              "<mark class=\"entity\" style=\"background: #DE8CD6; padding: 0.45em 0.6em; margin: 0 0.25em; line-height: 1; border-radius: 0.35em;\">\n",
              "    en forma\n",
              "    <span style=\"font-size: 0.8em; font-weight: bold; line-height: 1; border-radius: 0.35em; vertical-align: middle; margin-left: 0.5rem\">Detailed_description</span>\n",
              "</mark>\n",
              " adecuada se pone muy \n",
              "<mark class=\"entity\" style=\"background: #DE8CD6; padding: 0.45em 0.6em; margin: 0 0.25em; line-height: 1; border-radius: 0.35em;\">\n",
              "    pequeño\n",
              "    <span style=\"font-size: 0.8em; font-weight: bold; line-height: 1; border-radius: 0.35em; vertical-align: middle; margin-left: 0.5rem\">Detailed_description</span>\n",
              "</mark>\n",
              " y hasta muy pequeña \n",
              "<mark class=\"entity\" style=\"background: #43961C; padding: 0.45em 0.6em; margin: 0 0.25em; line-height: 1; border-radius: 0.35em;\">\n",
              "    hace\n",
              "    <span style=\"font-size: 0.8em; font-weight: bold; line-height: 1; border-radius: 0.35em; vertical-align: middle; margin-left: 0.5rem\">History</span>\n",
              "</mark>\n",
              " \n",
              "<mark class=\"entity\" style=\"background: #9E71A6; padding: 0.45em 0.6em; margin: 0 0.25em; line-height: 1; border-radius: 0.35em;\">\n",
              "    presión\n",
              "    <span style=\"font-size: 0.8em; font-weight: bold; line-height: 1; border-radius: 0.35em; vertical-align: middle; margin-left: 0.5rem\">Sign_symptom</span>\n",
              "</mark>\n",
              ", igualmente \n",
              "<mark class=\"entity\" style=\"background: #43961C; padding: 0.45em 0.6em; margin: 0 0.25em; line-height: 1; border-radius: 0.35em;\">\n",
              "    solo\n",
              "    <span style=\"font-size: 0.8em; font-weight: bold; line-height: 1; border-radius: 0.35em; vertical-align: middle; margin-left: 0.5rem\">History</span>\n",
              "</mark>\n",
              " el \n",
              "<mark class=\"entity\" style=\"background: #5AE9D2; padding: 0.45em 0.6em; margin: 0 0.25em; line-height: 1; border-radius: 0.35em;\">\n",
              "    cerebelo\n",
              "    <span style=\"font-size: 0.8em; font-weight: bold; line-height: 1; border-radius: 0.35em; vertical-align: middle; margin-left: 0.5rem\">Biological_structure</span>\n",
              "</mark>\n",
              ", y \n",
              "<mark class=\"entity\" style=\"background: #43961C; padding: 0.45em 0.6em; margin: 0 0.25em; line-height: 1; border-radius: 0.35em;\">\n",
              "    hace\n",
              "    <span style=\"font-size: 0.8em; font-weight: bold; line-height: 1; border-radius: 0.35em; vertical-align: middle; margin-left: 0.5rem\">History</span>\n",
              "</mark>\n",
              " que se herne. Y eso se llama quiari, hay \n",
              "<mark class=\"entity\" style=\"background: #DE8CD6; padding: 0.45em 0.6em; margin: 0 0.25em; line-height: 1; border-radius: 0.35em;\">\n",
              "    tipo 1\n",
              "    <span style=\"font-size: 0.8em; font-weight: bold; line-height: 1; border-radius: 0.35em; vertical-align: middle; margin-left: 0.5rem\">Detailed_description</span>\n",
              "</mark>\n",
              ", \n",
              "<mark class=\"entity\" style=\"background: #DE8CD6; padding: 0.45em 0.6em; margin: 0 0.25em; line-height: 1; border-radius: 0.35em;\">\n",
              "    tipo 2\n",
              "    <span style=\"font-size: 0.8em; font-weight: bold; line-height: 1; border-radius: 0.35em; vertical-align: middle; margin-left: 0.5rem\">Detailed_description</span>\n",
              "</mark>\n",
              ", entre 6 adultos en \n",
              "<mark class=\"entity\" style=\"background: #2E7FA3; padding: 0.45em 0.6em; margin: 0 0.25em; line-height: 1; border-radius: 0.35em;\">\n",
              "    niños\n",
              "    <span style=\"font-size: 0.8em; font-weight: bold; line-height: 1; border-radius: 0.35em; vertical-align: middle; margin-left: 0.5rem\">Family_history</span>\n",
              "</mark>\n",
              ". ¿Qué siente una persona cuando tiene un quiari? Eso depende de qué tanta \n",
              "<mark class=\"entity\" style=\"background: #9E71A6; padding: 0.45em 0.6em; margin: 0 0.25em; line-height: 1; border-radius: 0.35em;\">\n",
              "    compresión\n",
              "    <span style=\"font-size: 0.8em; font-weight: bold; line-height: 1; border-radius: 0.35em; vertical-align: middle; margin-left: 0.5rem\">Sign_symptom</span>\n",
              "</mark>\n",
              " tenga el \n",
              "<mark class=\"entity\" style=\"background: #DE8CD6; padding: 0.45em 0.6em; margin: 0 0.25em; line-height: 1; border-radius: 0.35em;\">\n",
              "    tallo\n",
              "    <span style=\"font-size: 0.8em; font-weight: bold; line-height: 1; border-radius: 0.35em; vertical-align: middle; margin-left: 0.5rem\">Detailed_description</span>\n",
              "</mark>\n",
              ". \n",
              "<mark class=\"entity\" style=\"background: #9E71A6; padding: 0.45em 0.6em; margin: 0 0.25em; line-height: 1; border-radius: 0.35em;\">\n",
              "    Puede\n",
              "    <span style=\"font-size: 0.8em; font-weight: bold; line-height: 1; border-radius: 0.35em; vertical-align: middle; margin-left: 0.5rem\">Sign_symptom</span>\n",
              "</mark>\n",
              " tener lo más frecuente en los \n",
              "<mark class=\"entity\" style=\"background: #77DC58; padding: 0.45em 0.6em; margin: 0 0.25em; line-height: 1; border-radius: 0.35em;\">\n",
              "    jóvenes\n",
              "    <span style=\"font-size: 0.8em; font-weight: bold; line-height: 1; border-radius: 0.35em; vertical-align: middle; margin-left: 0.5rem\">Age</span>\n",
              "</mark>\n",
              " y los adultos, es que tenga un \n",
              "<mark class=\"entity\" style=\"background: #43961C; padding: 0.45em 0.6em; margin: 0 0.25em; line-height: 1; border-radius: 0.35em;\">\n",
              "    dolor de cabeza\n",
              "    <span style=\"font-size: 0.8em; font-weight: bold; line-height: 1; border-radius: 0.35em; vertical-align: middle; margin-left: 0.5rem\">History</span>\n",
              "</mark>\n",
              ", sobre todo en la región del \n",
              "<mark class=\"entity\" style=\"background: #DE8CD6; padding: 0.45em 0.6em; margin: 0 0.25em; line-height: 1; border-radius: 0.35em;\">\n",
              "    hospital\n",
              "    <span style=\"font-size: 0.8em; font-weight: bold; line-height: 1; border-radius: 0.35em; vertical-align: middle; margin-left: 0.5rem\">Detailed_description</span>\n",
              "</mark>\n",
              " y una \n",
              "<mark class=\"entity\" style=\"background: #5C113A; padding: 0.45em 0.6em; margin: 0 0.25em; line-height: 1; border-radius: 0.35em;\">\n",
              "    sensación\n",
              "    <span style=\"font-size: 0.8em; font-weight: bold; line-height: 1; border-radius: 0.35em; vertical-align: middle; margin-left: 0.5rem\">Diagnostic_procedure</span>\n",
              "</mark>\n",
              " de \n",
              "<mark class=\"entity\" style=\"background: #2AC803; padding: 0.45em 0.6em; margin: 0 0.25em; line-height: 1; border-radius: 0.35em;\">\n",
              "    corriente\n",
              "    <span style=\"font-size: 0.8em; font-weight: bold; line-height: 1; border-radius: 0.35em; vertical-align: middle; margin-left: 0.5rem\">Therapeutic_procedure</span>\n",
              "</mark>\n",
              " \n",
              "<mark class=\"entity\" style=\"background: #9E71A6; padding: 0.45em 0.6em; margin: 0 0.25em; line-height: 1; border-radius: 0.35em;\">\n",
              "    a través\n",
              "    <span style=\"font-size: 0.8em; font-weight: bold; line-height: 1; border-radius: 0.35em; vertical-align: middle; margin-left: 0.5rem\">Sign_symptom</span>\n",
              "</mark>\n",
              " \n",
              "<mark class=\"entity\" style=\"background: #DE8CD6; padding: 0.45em 0.6em; margin: 0 0.25em; line-height: 1; border-radius: 0.35em;\">\n",
              "    de la\n",
              "    <span style=\"font-size: 0.8em; font-weight: bold; line-height: 1; border-radius: 0.35em; vertical-align: middle; margin-left: 0.5rem\">Detailed_description</span>\n",
              "</mark>\n",
              " columna. Entonces se \n",
              "<mark class=\"entity\" style=\"background: #9E71A6; padding: 0.45em 0.6em; margin: 0 0.25em; line-height: 1; border-radius: 0.35em;\">\n",
              "    puede\n",
              "    <span style=\"font-size: 0.8em; font-weight: bold; line-height: 1; border-radius: 0.35em; vertical-align: middle; margin-left: 0.5rem\">Sign_symptom</span>\n",
              "</mark>\n",
              " acompañar de \n",
              "<mark class=\"entity\" style=\"background: #9E71A6; padding: 0.45em 0.6em; margin: 0 0.25em; line-height: 1; border-radius: 0.35em;\">\n",
              "    sensaciones\n",
              "    <span style=\"font-size: 0.8em; font-weight: bold; line-height: 1; border-radius: 0.35em; vertical-align: middle; margin-left: 0.5rem\">Sign_symptom</span>\n",
              "</mark>\n",
              ", lo que se llama \n",
              "<mark class=\"entity\" style=\"background: #6E20B4; padding: 0.45em 0.6em; margin: 0 0.25em; line-height: 1; border-radius: 0.35em;\">\n",
              "    para\n",
              "    <span style=\"font-size: 0.8em; font-weight: bold; line-height: 1; border-radius: 0.35em; vertical-align: middle; margin-left: 0.5rem\">Disease_disorder</span>\n",
              "</mark>\n",
              " este es que se \n",
              "<mark class=\"entity\" style=\"background: #B78B69; padding: 0.45em 0.6em; margin: 0 0.25em; line-height: 1; border-radius: 0.35em;\">\n",
              "    duerme\n",
              "    <span style=\"font-size: 0.8em; font-weight: bold; line-height: 1; border-radius: 0.35em; vertical-align: middle; margin-left: 0.5rem\">Activity</span>\n",
              "</mark>\n",
              " los brazos, se \n",
              "<mark class=\"entity\" style=\"background: #B78B69; padding: 0.45em 0.6em; margin: 0 0.25em; line-height: 1; border-radius: 0.35em;\">\n",
              "    duerme\n",
              "    <span style=\"font-size: 0.8em; font-weight: bold; line-height: 1; border-radius: 0.35em; vertical-align: middle; margin-left: 0.5rem\">Activity</span>\n",
              "</mark>\n",
              " las \n",
              "<mark class=\"entity\" style=\"background: #9E71A6; padding: 0.45em 0.6em; margin: 0 0.25em; line-height: 1; border-radius: 0.35em;\">\n",
              "    piernas\n",
              "    <span style=\"font-size: 0.8em; font-weight: bold; line-height: 1; border-radius: 0.35em; vertical-align: middle; margin-left: 0.5rem\">Sign_symptom</span>\n",
              "</mark>\n",
              ", sienten \n",
              "<mark class=\"entity\" style=\"background: #9E71A6; padding: 0.45em 0.6em; margin: 0 0.25em; line-height: 1; border-radius: 0.35em;\">\n",
              "    hormigueo\n",
              "    <span style=\"font-size: 0.8em; font-weight: bold; line-height: 1; border-radius: 0.35em; vertical-align: middle; margin-left: 0.5rem\">Sign_symptom</span>\n",
              "</mark>\n",
              ", pueden sentir \n",
              "<mark class=\"entity\" style=\"background: #9E71A6; padding: 0.45em 0.6em; margin: 0 0.25em; line-height: 1; border-radius: 0.35em;\">\n",
              "    calor\n",
              "    <span style=\"font-size: 0.8em; font-weight: bold; line-height: 1; border-radius: 0.35em; vertical-align: middle; margin-left: 0.5rem\">Sign_symptom</span>\n",
              "</mark>\n",
              ", pueden sentir diferencias cuando se bañan el \n",
              "<mark class=\"entity\" style=\"background: #DE8CD6; padding: 0.45em 0.6em; margin: 0 0.25em; line-height: 1; border-radius: 0.35em;\">\n",
              "    agua\n",
              "    <span style=\"font-size: 0.8em; font-weight: bold; line-height: 1; border-radius: 0.35em; vertical-align: middle; margin-left: 0.5rem\">Detailed_description</span>\n",
              "</mark>\n",
              " \n",
              "<mark class=\"entity\" style=\"background: #32F72F; padding: 0.45em 0.6em; margin: 0 0.25em; line-height: 1; border-radius: 0.35em;\">\n",
              "    caliente\n",
              "    <span style=\"font-size: 0.8em; font-weight: bold; line-height: 1; border-radius: 0.35em; vertical-align: middle; margin-left: 0.5rem\">Medication</span>\n",
              "</mark>\n",
              " de un parte del \n",
              "<mark class=\"entity\" style=\"background: #5AE9D2; padding: 0.45em 0.6em; margin: 0 0.25em; line-height: 1; border-radius: 0.35em;\">\n",
              "    cuerpo\n",
              "    <span style=\"font-size: 0.8em; font-weight: bold; line-height: 1; border-radius: 0.35em; vertical-align: middle; margin-left: 0.5rem\">Biological_structure</span>\n",
              "</mark>\n",
              ", la \n",
              "<mark class=\"entity\" style=\"background: #9E71A6; padding: 0.45em 0.6em; margin: 0 0.25em; line-height: 1; border-radius: 0.35em;\">\n",
              "    obra\n",
              "    <span style=\"font-size: 0.8em; font-weight: bold; line-height: 1; border-radius: 0.35em; vertical-align: middle; margin-left: 0.5rem\">Sign_symptom</span>\n",
              "</mark>\n",
              " fría, se afecta a los pares craneales que son los que mueven la \n",
              "<mark class=\"entity\" style=\"background: #2AC803; padding: 0.45em 0.6em; margin: 0 0.25em; line-height: 1; border-radius: 0.35em;\">\n",
              "    cara\n",
              "    <span style=\"font-size: 0.8em; font-weight: bold; line-height: 1; border-radius: 0.35em; vertical-align: middle; margin-left: 0.5rem\">Therapeutic_procedure</span>\n",
              "</mark>\n",
              ", pueden tener trastornos \n",
              "<mark class=\"entity\" style=\"background: #6E20B4; padding: 0.45em 0.6em; margin: 0 0.25em; line-height: 1; border-radius: 0.35em;\">\n",
              "    para\n",
              "    <span style=\"font-size: 0.8em; font-weight: bold; line-height: 1; border-radius: 0.35em; vertical-align: middle; margin-left: 0.5rem\">Disease_disorder</span>\n",
              "</mark>\n",
              " hablar, trastornos \n",
              "<mark class=\"entity\" style=\"background: #6E20B4; padding: 0.45em 0.6em; margin: 0 0.25em; line-height: 1; border-radius: 0.35em;\">\n",
              "    para\n",
              "    <span style=\"font-size: 0.8em; font-weight: bold; line-height: 1; border-radius: 0.35em; vertical-align: middle; margin-left: 0.5rem\">Disease_disorder</span>\n",
              "</mark>\n",
              " deglutir, trastornos \n",
              "<mark class=\"entity\" style=\"background: #9E71A6; padding: 0.45em 0.6em; margin: 0 0.25em; line-height: 1; border-radius: 0.35em;\">\n",
              "    para\n",
              "    <span style=\"font-size: 0.8em; font-weight: bold; line-height: 1; border-radius: 0.35em; vertical-align: middle; margin-left: 0.5rem\">Sign_symptom</span>\n",
              "</mark>\n",
              " la audición y también hay trastornos visuales. ¿Y cómo se \n",
              "<mark class=\"entity\" style=\"background: #43961C; padding: 0.45em 0.6em; margin: 0 0.25em; line-height: 1; border-radius: 0.35em;\">\n",
              "    hace\n",
              "    <span style=\"font-size: 0.8em; font-weight: bold; line-height: 1; border-radius: 0.35em; vertical-align: middle; margin-left: 0.5rem\">History</span>\n",
              "</mark>\n",
              " el \n",
              "<mark class=\"entity\" style=\"background: #DE8CD6; padding: 0.45em 0.6em; margin: 0 0.25em; line-height: 1; border-radius: 0.35em;\">\n",
              "    diagnóstico\n",
              "    <span style=\"font-size: 0.8em; font-weight: bold; line-height: 1; border-radius: 0.35em; vertical-align: middle; margin-left: 0.5rem\">Detailed_description</span>\n",
              "</mark>\n",
              "? El \n",
              "<mark class=\"entity\" style=\"background: #DE8CD6; padding: 0.45em 0.6em; margin: 0 0.25em; line-height: 1; border-radius: 0.35em;\">\n",
              "    diagnóstico\n",
              "    <span style=\"font-size: 0.8em; font-weight: bold; line-height: 1; border-radius: 0.35em; vertical-align: middle; margin-left: 0.5rem\">Detailed_description</span>\n",
              "</mark>\n",
              " es un \n",
              "<mark class=\"entity\" style=\"background: #DE8CD6; padding: 0.45em 0.6em; margin: 0 0.25em; line-height: 1; border-radius: 0.35em;\">\n",
              "    diagnóstico\n",
              "    <span style=\"font-size: 0.8em; font-weight: bold; line-height: 1; border-radius: 0.35em; vertical-align: middle; margin-left: 0.5rem\">Detailed_description</span>\n",
              "</mark>\n",
              " de \n",
              "<mark class=\"entity\" style=\"background: #5C113A; padding: 0.45em 0.6em; margin: 0 0.25em; line-height: 1; border-radius: 0.35em;\">\n",
              "    imagen\n",
              "    <span style=\"font-size: 0.8em; font-weight: bold; line-height: 1; border-radius: 0.35em; vertical-align: middle; margin-left: 0.5rem\">Diagnostic_procedure</span>\n",
              "</mark>\n",
              ". Y el gole \n",
              "<mark class=\"entity\" style=\"background: #DE8CD6; padding: 0.45em 0.6em; margin: 0 0.25em; line-height: 1; border-radius: 0.35em;\">\n",
              "    estándar\n",
              "    <span style=\"font-size: 0.8em; font-weight: bold; line-height: 1; border-radius: 0.35em; vertical-align: middle; margin-left: 0.5rem\">Detailed_description</span>\n",
              "</mark>\n",
              ", o sea, lo \n",
              "<mark class=\"entity\" style=\"background: #9E71A6; padding: 0.45em 0.6em; margin: 0 0.25em; line-height: 1; border-radius: 0.35em;\">\n",
              "    mejor\n",
              "    <span style=\"font-size: 0.8em; font-weight: bold; line-height: 1; border-radius: 0.35em; vertical-align: middle; margin-left: 0.5rem\">Sign_symptom</span>\n",
              "</mark>\n",
              " \n",
              "<mark class=\"entity\" style=\"background: #32F72F; padding: 0.45em 0.6em; margin: 0 0.25em; line-height: 1; border-radius: 0.35em;\">\n",
              "    para\n",
              "    <span style=\"font-size: 0.8em; font-weight: bold; line-height: 1; border-radius: 0.35em; vertical-align: middle; margin-left: 0.5rem\">Medication</span>\n",
              "</mark>\n",
              " \n",
              "<mark class=\"entity\" style=\"background: #5AE9D2; padding: 0.45em 0.6em; margin: 0 0.25em; line-height: 1; border-radius: 0.35em;\">\n",
              "    hacer\n",
              "    <span style=\"font-size: 0.8em; font-weight: bold; line-height: 1; border-radius: 0.35em; vertical-align: middle; margin-left: 0.5rem\">Biological_structure</span>\n",
              "</mark>\n",
              " el \n",
              "<mark class=\"entity\" style=\"background: #DE8CD6; padding: 0.45em 0.6em; margin: 0 0.25em; line-height: 1; border-radius: 0.35em;\">\n",
              "    diagnóstico\n",
              "    <span style=\"font-size: 0.8em; font-weight: bold; line-height: 1; border-radius: 0.35em; vertical-align: middle; margin-left: 0.5rem\">Detailed_description</span>\n",
              "</mark>\n",
              ", es una resonancia magnética. Con la resonancia magnética podemos ver perfectamente las \n",
              "<mark class=\"entity\" style=\"background: #5AE9D2; padding: 0.45em 0.6em; margin: 0 0.25em; line-height: 1; border-radius: 0.35em;\">\n",
              "    estructuras\n",
              "    <span style=\"font-size: 0.8em; font-weight: bold; line-height: 1; border-radius: 0.35em; vertical-align: middle; margin-left: 0.5rem\">Biological_structure</span>\n",
              "</mark>\n",
              " del \n",
              "<mark class=\"entity\" style=\"background: #5AE9D2; padding: 0.45em 0.6em; margin: 0 0.25em; line-height: 1; border-radius: 0.35em;\">\n",
              "    cerebro\n",
              "    <span style=\"font-size: 0.8em; font-weight: bold; line-height: 1; border-radius: 0.35em; vertical-align: middle; margin-left: 0.5rem\">Biological_structure</span>\n",
              "</mark>\n",
              " y si hay o no esta \n",
              "<mark class=\"entity\" style=\"background: #6E20B4; padding: 0.45em 0.6em; margin: 0 0.25em; line-height: 1; border-radius: 0.35em;\">\n",
              "    herniación\n",
              "    <span style=\"font-size: 0.8em; font-weight: bold; line-height: 1; border-radius: 0.35em; vertical-align: middle; margin-left: 0.5rem\">Disease_disorder</span>\n",
              "</mark>\n",
              " del \n",
              "<mark class=\"entity\" style=\"background: #5AE9D2; padding: 0.45em 0.6em; margin: 0 0.25em; line-height: 1; border-radius: 0.35em;\">\n",
              "    cerebelo\n",
              "    <span style=\"font-size: 0.8em; font-weight: bold; line-height: 1; border-radius: 0.35em; vertical-align: middle; margin-left: 0.5rem\">Biological_structure</span>\n",
              "</mark>\n",
              " \n",
              "<mark class=\"entity\" style=\"background: #5AE9D2; padding: 0.45em 0.6em; margin: 0 0.25em; line-height: 1; border-radius: 0.35em;\">\n",
              "    a través\n",
              "    <span style=\"font-size: 0.8em; font-weight: bold; line-height: 1; border-radius: 0.35em; vertical-align: middle; margin-left: 0.5rem\">Biological_structure</span>\n",
              "</mark>\n",
              " del \n",
              "<mark class=\"entity\" style=\"background: #2AC803; padding: 0.45em 0.6em; margin: 0 0.25em; line-height: 1; border-radius: 0.35em;\">\n",
              "    agujero\n",
              "    <span style=\"font-size: 0.8em; font-weight: bold; line-height: 1; border-radius: 0.35em; vertical-align: middle; margin-left: 0.5rem\">Therapeutic_procedure</span>\n",
              "</mark>\n",
              " magno o el \n",
              "<mark class=\"entity\" style=\"background: #DE8CD6; padding: 0.45em 0.6em; margin: 0 0.25em; line-height: 1; border-radius: 0.35em;\">\n",
              "    agujero\n",
              "    <span style=\"font-size: 0.8em; font-weight: bold; line-height: 1; border-radius: 0.35em; vertical-align: middle; margin-left: 0.5rem\">Detailed_description</span>\n",
              "</mark>\n",
              " que conecta el \n",
              "<mark class=\"entity\" style=\"background: #5AE9D2; padding: 0.45em 0.6em; margin: 0 0.25em; line-height: 1; border-radius: 0.35em;\">\n",
              "    cerebro\n",
              "    <span style=\"font-size: 0.8em; font-weight: bold; line-height: 1; border-radius: 0.35em; vertical-align: middle; margin-left: 0.5rem\">Biological_structure</span>\n",
              "</mark>\n",
              " con la columna. Una de las \n",
              "<mark class=\"entity\" style=\"background: #43961C; padding: 0.45em 0.6em; margin: 0 0.25em; line-height: 1; border-radius: 0.35em;\">\n",
              "    cosas\n",
              "    <span style=\"font-size: 0.8em; font-weight: bold; line-height: 1; border-radius: 0.35em; vertical-align: middle; margin-left: 0.5rem\">History</span>\n",
              "</mark>\n",
              " que se \n",
              "<mark class=\"entity\" style=\"background: #9E71A6; padding: 0.45em 0.6em; margin: 0 0.25em; line-height: 1; border-radius: 0.35em;\">\n",
              "    puede\n",
              "    <span style=\"font-size: 0.8em; font-weight: bold; line-height: 1; border-radius: 0.35em; vertical-align: middle; margin-left: 0.5rem\">Sign_symptom</span>\n",
              "</mark>\n",
              " \n",
              "<mark class=\"entity\" style=\"background: #5AE9D2; padding: 0.45em 0.6em; margin: 0 0.25em; line-height: 1; border-radius: 0.35em;\">\n",
              "    hacer\n",
              "    <span style=\"font-size: 0.8em; font-weight: bold; line-height: 1; border-radius: 0.35em; vertical-align: middle; margin-left: 0.5rem\">Biological_structure</span>\n",
              "</mark>\n",
              " es una \n",
              "<mark class=\"entity\" style=\"background: #5C113A; padding: 0.45em 0.6em; margin: 0 0.25em; line-height: 1; border-radius: 0.35em;\">\n",
              "    tomografía\n",
              "    <span style=\"font-size: 0.8em; font-weight: bold; line-height: 1; border-radius: 0.35em; vertical-align: middle; margin-left: 0.5rem\">Diagnostic_procedure</span>\n",
              "</mark>\n",
              " \n",
              "<mark class=\"entity\" style=\"background: #6E20B4; padding: 0.45em 0.6em; margin: 0 0.25em; line-height: 1; border-radius: 0.35em;\">\n",
              "    para\n",
              "    <span style=\"font-size: 0.8em; font-weight: bold; line-height: 1; border-radius: 0.35em; vertical-align: middle; margin-left: 0.5rem\">Disease_disorder</span>\n",
              "</mark>\n",
              " ver las \n",
              "<mark class=\"entity\" style=\"background: #5AE9D2; padding: 0.45em 0.6em; margin: 0 0.25em; line-height: 1; border-radius: 0.35em;\">\n",
              "    estructuras ósea del cráneo\n",
              "    <span style=\"font-size: 0.8em; font-weight: bold; line-height: 1; border-radius: 0.35em; vertical-align: middle; margin-left: 0.5rem\">Biological_structure</span>\n",
              "</mark>\n",
              " y muchas veces en \n",
              "<mark class=\"entity\" style=\"background: #5AE9D2; padding: 0.45em 0.6em; margin: 0 0.25em; line-height: 1; border-radius: 0.35em;\">\n",
              "    útero\n",
              "    <span style=\"font-size: 0.8em; font-weight: bold; line-height: 1; border-radius: 0.35em; vertical-align: middle; margin-left: 0.5rem\">Biological_structure</span>\n",
              "</mark>\n",
              " los obstetras \n",
              "<mark class=\"entity\" style=\"background: #9E71A6; padding: 0.45em 0.6em; margin: 0 0.25em; line-height: 1; border-radius: 0.35em;\">\n",
              "    a través\n",
              "    <span style=\"font-size: 0.8em; font-weight: bold; line-height: 1; border-radius: 0.35em; vertical-align: middle; margin-left: 0.5rem\">Sign_symptom</span>\n",
              "</mark>\n",
              " del eco también ya pueden \n",
              "<mark class=\"entity\" style=\"background: #43961C; padding: 0.45em 0.6em; margin: 0 0.25em; line-height: 1; border-radius: 0.35em;\">\n",
              "    hacer\n",
              "    <span style=\"font-size: 0.8em; font-weight: bold; line-height: 1; border-radius: 0.35em; vertical-align: middle; margin-left: 0.5rem\">History</span>\n",
              "</mark>\n",
              " un \n",
              "<mark class=\"entity\" style=\"background: #5C113A; padding: 0.45em 0.6em; margin: 0 0.25em; line-height: 1; border-radius: 0.35em;\">\n",
              "    diagnóstico\n",
              "    <span style=\"font-size: 0.8em; font-weight: bold; line-height: 1; border-radius: 0.35em; vertical-align: middle; margin-left: 0.5rem\">Diagnostic_procedure</span>\n",
              "</mark>\n",
              " precoz de un kiari en \n",
              "<mark class=\"entity\" style=\"background: #2E7FA3; padding: 0.45em 0.6em; margin: 0 0.25em; line-height: 1; border-radius: 0.35em;\">\n",
              "    niños\n",
              "    <span style=\"font-size: 0.8em; font-weight: bold; line-height: 1; border-radius: 0.35em; vertical-align: middle; margin-left: 0.5rem\">Family_history</span>\n",
              "</mark>\n",
              " brasignacidos. Hay muchas personas que pueden \n",
              "<mark class=\"entity\" style=\"background: #CFB8AE; padding: 0.45em 0.6em; margin: 0 0.25em; line-height: 1; border-radius: 0.35em;\">\n",
              "    presentar\n",
              "    <span style=\"font-size: 0.8em; font-weight: bold; line-height: 1; border-radius: 0.35em; vertical-align: middle; margin-left: 0.5rem\">Clinical_event</span>\n",
              "</mark>\n",
              " la \n",
              "<mark class=\"entity\" style=\"background: #6E20B4; padding: 0.45em 0.6em; margin: 0 0.25em; line-height: 1; border-radius: 0.35em;\">\n",
              "    enfermedad de chiari\n",
              "    <span style=\"font-size: 0.8em; font-weight: bold; line-height: 1; border-radius: 0.35em; vertical-align: middle; margin-left: 0.5rem\">Disease_disorder</span>\n",
              "</mark>\n",
              " y lo manifiestan en principio con \n",
              "<mark class=\"entity\" style=\"background: #43961C; padding: 0.45em 0.6em; margin: 0 0.25em; line-height: 1; border-radius: 0.35em;\">\n",
              "    dolor de cabeza\n",
              "    <span style=\"font-size: 0.8em; font-weight: bold; line-height: 1; border-radius: 0.35em; vertical-align: middle; margin-left: 0.5rem\">History</span>\n",
              "</mark>\n",
              ", \n",
              "<mark class=\"entity\" style=\"background: #43961C; padding: 0.45em 0.6em; margin: 0 0.25em; line-height: 1; border-radius: 0.35em;\">\n",
              "    vértigo\n",
              "    <span style=\"font-size: 0.8em; font-weight: bold; line-height: 1; border-radius: 0.35em; vertical-align: middle; margin-left: 0.5rem\">History</span>\n",
              "</mark>\n",
              " o \n",
              "<mark class=\"entity\" style=\"background: #9E71A6; padding: 0.45em 0.6em; margin: 0 0.25em; line-height: 1; border-radius: 0.35em;\">\n",
              "    malestar\n",
              "    <span style=\"font-size: 0.8em; font-weight: bold; line-height: 1; border-radius: 0.35em; vertical-align: middle; margin-left: 0.5rem\">Sign_symptom</span>\n",
              "</mark>\n",
              " \n",
              "<mark class=\"entity\" style=\"background: #DE8CD6; padding: 0.45em 0.6em; margin: 0 0.25em; line-height: 1; border-radius: 0.35em;\">\n",
              "    general\n",
              "    <span style=\"font-size: 0.8em; font-weight: bold; line-height: 1; border-radius: 0.35em; vertical-align: middle; margin-left: 0.5rem\">Detailed_description</span>\n",
              "</mark>\n",
              " que pueden ser controlados con \n",
              "<mark class=\"entity\" style=\"background: #DE8CD6; padding: 0.45em 0.6em; margin: 0 0.25em; line-height: 1; border-radius: 0.35em;\">\n",
              "    tratamiento\n",
              "    <span style=\"font-size: 0.8em; font-weight: bold; line-height: 1; border-radius: 0.35em; vertical-align: middle; margin-left: 0.5rem\">Detailed_description</span>\n",
              "</mark>\n",
              " y observación. Ahora bien, cuando hay \n",
              "<mark class=\"entity\" style=\"background: #9E71A6; padding: 0.45em 0.6em; margin: 0 0.25em; line-height: 1; border-radius: 0.35em;\">\n",
              "    síntomas\n",
              "    <span style=\"font-size: 0.8em; font-weight: bold; line-height: 1; border-radius: 0.35em; vertical-align: middle; margin-left: 0.5rem\">Sign_symptom</span>\n",
              "</mark>\n",
              " \n",
              "<mark class=\"entity\" style=\"background: #6E20B4; padding: 0.45em 0.6em; margin: 0 0.25em; line-height: 1; border-radius: 0.35em;\">\n",
              "    como\n",
              "    <span style=\"font-size: 0.8em; font-weight: bold; line-height: 1; border-radius: 0.35em; vertical-align: middle; margin-left: 0.5rem\">Disease_disorder</span>\n",
              "</mark>\n",
              " trastornos de declusión, \n",
              "<mark class=\"entity\" style=\"background: #B78B69; padding: 0.45em 0.6em; margin: 0 0.25em; line-height: 1; border-radius: 0.35em;\">\n",
              "    movimiento\n",
              "    <span style=\"font-size: 0.8em; font-weight: bold; line-height: 1; border-radius: 0.35em; vertical-align: middle; margin-left: 0.5rem\">Activity</span>\n",
              "</mark>\n",
              " o \n",
              "<mark class=\"entity\" style=\"background: #9E71A6; padding: 0.45em 0.6em; margin: 0 0.25em; line-height: 1; border-radius: 0.35em;\">\n",
              "    sensibilidad\n",
              "    <span style=\"font-size: 0.8em; font-weight: bold; line-height: 1; border-radius: 0.35em; vertical-align: middle; margin-left: 0.5rem\">Sign_symptom</span>\n",
              "</mark>\n",
              ", entonces será necesario efectuar una \n",
              "<mark class=\"entity\" style=\"background: #2AC803; padding: 0.45em 0.6em; margin: 0 0.25em; line-height: 1; border-radius: 0.35em;\">\n",
              "    cirugía\n",
              "    <span style=\"font-size: 0.8em; font-weight: bold; line-height: 1; border-radius: 0.35em; vertical-align: middle; margin-left: 0.5rem\">Therapeutic_procedure</span>\n",
              "</mark>\n",
              " \n",
              "<mark class=\"entity\" style=\"background: #43961C; padding: 0.45em 0.6em; margin: 0 0.25em; line-height: 1; border-radius: 0.35em;\">\n",
              "    para\n",
              "    <span style=\"font-size: 0.8em; font-weight: bold; line-height: 1; border-radius: 0.35em; vertical-align: middle; margin-left: 0.5rem\">History</span>\n",
              "</mark>\n",
              " ampliar el \n",
              "<mark class=\"entity\" style=\"background: #DE8CD6; padding: 0.45em 0.6em; margin: 0 0.25em; line-height: 1; border-radius: 0.35em;\">\n",
              "    espacio\n",
              "    <span style=\"font-size: 0.8em; font-weight: bold; line-height: 1; border-radius: 0.35em; vertical-align: middle; margin-left: 0.5rem\">Detailed_description</span>\n",
              "</mark>\n",
              " donde se ubica el \n",
              "<mark class=\"entity\" style=\"background: #5AE9D2; padding: 0.45em 0.6em; margin: 0 0.25em; line-height: 1; border-radius: 0.35em;\">\n",
              "    cerebelo\n",
              "    <span style=\"font-size: 0.8em; font-weight: bold; line-height: 1; border-radius: 0.35em; vertical-align: middle; margin-left: 0.5rem\">Biological_structure</span>\n",
              "</mark>\n",
              " y así mitigar los \n",
              "<mark class=\"entity\" style=\"background: #9E71A6; padding: 0.45em 0.6em; margin: 0 0.25em; line-height: 1; border-radius: 0.35em;\">\n",
              "    síntomas\n",
              "    <span style=\"font-size: 0.8em; font-weight: bold; line-height: 1; border-radius: 0.35em; vertical-align: middle; margin-left: 0.5rem\">Sign_symptom</span>\n",
              "</mark>\n",
              " \n",
              "<mark class=\"entity\" style=\"background: #DE8CD6; padding: 0.45em 0.6em; margin: 0 0.25em; line-height: 1; border-radius: 0.35em;\">\n",
              "    asociados\n",
              "    <span style=\"font-size: 0.8em; font-weight: bold; line-height: 1; border-radius: 0.35em; vertical-align: middle; margin-left: 0.5rem\">Detailed_description</span>\n",
              "</mark>\n",
              ". Esperamos que esta \n",
              "<mark class=\"entity\" style=\"background: #CFB8AE; padding: 0.45em 0.6em; margin: 0 0.25em; line-height: 1; border-radius: 0.35em;\">\n",
              "    información\n",
              "    <span style=\"font-size: 0.8em; font-weight: bold; line-height: 1; border-radius: 0.35em; vertical-align: middle; margin-left: 0.5rem\">Clinical_event</span>\n",
              "</mark>\n",
              " le resunte útil y lo esperamos \n",
              "<mark class=\"entity\" style=\"background: #DE8CD6; padding: 0.45em 0.6em; margin: 0 0.25em; line-height: 1; border-radius: 0.35em;\">\n",
              "    en una\n",
              "    <span style=\"font-size: 0.8em; font-weight: bold; line-height: 1; border-radius: 0.35em; vertical-align: middle; margin-left: 0.5rem\">Detailed_description</span>\n",
              "</mark>\n",
              " próxima edición de A Tu \n",
              "<mark class=\"entity\" style=\"background: #9E71A6; padding: 0.45em 0.6em; margin: 0 0.25em; line-height: 1; border-radius: 0.35em;\">\n",
              "    Salud\n",
              "    <span style=\"font-size: 0.8em; font-weight: bold; line-height: 1; border-radius: 0.35em; vertical-align: middle; margin-left: 0.5rem\">Sign_symptom</span>\n",
              "</mark>\n",
              ". \n",
              "<mark class=\"entity\" style=\"background: #9E71A6; padding: 0.45em 0.6em; margin: 0 0.25em; line-height: 1; border-radius: 0.35em;\">\n",
              "    Salud\n",
              "    <span style=\"font-size: 0.8em; font-weight: bold; line-height: 1; border-radius: 0.35em; vertical-align: middle; margin-left: 0.5rem\">Sign_symptom</span>\n",
              "</mark>\n",
              " por \n",
              "<mark class=\"entity\" style=\"background: #2AC803; padding: 0.45em 0.6em; margin: 0 0.25em; line-height: 1; border-radius: 0.35em;\">\n",
              "    todos\n",
              "    <span style=\"font-size: 0.8em; font-weight: bold; line-height: 1; border-radius: 0.35em; vertical-align: middle; margin-left: 0.5rem\">Therapeutic_procedure</span>\n",
              "</mark>\n",
              " los medios. A Tu \n",
              "<mark class=\"entity\" style=\"background: #9E71A6; padding: 0.45em 0.6em; margin: 0 0.25em; line-height: 1; border-radius: 0.35em;\">\n",
              "    Salud\n",
              "    <span style=\"font-size: 0.8em; font-weight: bold; line-height: 1; border-radius: 0.35em; vertical-align: middle; margin-left: 0.5rem\">Sign_symptom</span>\n",
              "</mark>\n",
              " con \n",
              "<mark class=\"entity\" style=\"background: #984F06; padding: 0.45em 0.6em; margin: 0 0.25em; line-height: 1; border-radius: 0.35em;\">\n",
              "    María\n",
              "    <span style=\"font-size: 0.8em; font-weight: bold; line-height: 1; border-radius: 0.35em; vertical-align: middle; margin-left: 0.5rem\">Subject</span>\n",
              "</mark>\n",
              " Laura García</div></span>"
            ]
          },
          "metadata": {}
        }
      ],
      "source": [
        "spacy.displacy.render(doc, style='ent',jupyter=True, options=options)"
      ]
    },
    {
      "cell_type": "markdown",
      "source": [
        "Not Bad, you could improve by more training time or filterrin even more the words."
      ],
      "metadata": {
        "id": "zEdqc4lI82cB"
      }
    }
  ],
  "metadata": {
    "accelerator": "GPU",
    "colab": {
      "collapsed_sections": [],
      "provenance": [],
      "include_colab_link": true
    },
    "kernelspec": {
      "display_name": "Python 3",
      "name": "python3"
    },
    "language_info": {
      "name": "python"
    },
    "widgets": {
      "application/vnd.jupyter.widget-state+json": {
        "9abdf5f9e0a84ff5a0c3c61fbd8ac29f": {
          "model_module": "@jupyter-widgets/controls",
          "model_name": "HBoxModel",
          "model_module_version": "1.5.0",
          "state": {
            "_dom_classes": [],
            "_model_module": "@jupyter-widgets/controls",
            "_model_module_version": "1.5.0",
            "_model_name": "HBoxModel",
            "_view_count": null,
            "_view_module": "@jupyter-widgets/controls",
            "_view_module_version": "1.5.0",
            "_view_name": "HBoxView",
            "box_style": "",
            "children": [
              "IPY_MODEL_fb989a1bd5a14eb7a504f5821479618f",
              "IPY_MODEL_41d82fa98b644424884d269cec8af286",
              "IPY_MODEL_690dd5078cf747b1b42ad1cdfe199577"
            ],
            "layout": "IPY_MODEL_2fc82fe9a2da42239139204db3a9ece3"
          }
        },
        "fb989a1bd5a14eb7a504f5821479618f": {
          "model_module": "@jupyter-widgets/controls",
          "model_name": "HTMLModel",
          "model_module_version": "1.5.0",
          "state": {
            "_dom_classes": [],
            "_model_module": "@jupyter-widgets/controls",
            "_model_module_version": "1.5.0",
            "_model_name": "HTMLModel",
            "_view_count": null,
            "_view_module": "@jupyter-widgets/controls",
            "_view_module_version": "1.5.0",
            "_view_name": "HTMLView",
            "description": "",
            "description_tooltip": null,
            "layout": "IPY_MODEL_59adb9acbc7d48d1b473cc61f123d253",
            "placeholder": "​",
            "style": "IPY_MODEL_3f61f3e2d0b6485cbb0c8cae8d7775db",
            "value": ""
          }
        },
        "41d82fa98b644424884d269cec8af286": {
          "model_module": "@jupyter-widgets/controls",
          "model_name": "FloatProgressModel",
          "model_module_version": "1.5.0",
          "state": {
            "_dom_classes": [],
            "_model_module": "@jupyter-widgets/controls",
            "_model_module_version": "1.5.0",
            "_model_name": "FloatProgressModel",
            "_view_count": null,
            "_view_module": "@jupyter-widgets/controls",
            "_view_module_version": "1.5.0",
            "_view_name": "ProgressView",
            "bar_style": "success",
            "description": "",
            "description_tooltip": null,
            "layout": "IPY_MODEL_19b963a630304ed9b31918d4e40e64a3",
            "max": 1,
            "min": 0,
            "orientation": "horizontal",
            "style": "IPY_MODEL_1910400632114a5d9671c980cef4e80f",
            "value": 0
          }
        },
        "690dd5078cf747b1b42ad1cdfe199577": {
          "model_module": "@jupyter-widgets/controls",
          "model_name": "HTMLModel",
          "model_module_version": "1.5.0",
          "state": {
            "_dom_classes": [],
            "_model_module": "@jupyter-widgets/controls",
            "_model_module_version": "1.5.0",
            "_model_name": "HTMLModel",
            "_view_count": null,
            "_view_module": "@jupyter-widgets/controls",
            "_view_module_version": "1.5.0",
            "_view_name": "HTMLView",
            "description": "",
            "description_tooltip": null,
            "layout": "IPY_MODEL_990fe20523504174bbd6a5ca9994c710",
            "placeholder": "​",
            "style": "IPY_MODEL_868e7442a09648b7b93ce81e0261d6fa",
            "value": " 0/? [00:00&lt;?, ?it/s]"
          }
        },
        "2fc82fe9a2da42239139204db3a9ece3": {
          "model_module": "@jupyter-widgets/base",
          "model_name": "LayoutModel",
          "model_module_version": "1.2.0",
          "state": {
            "_model_module": "@jupyter-widgets/base",
            "_model_module_version": "1.2.0",
            "_model_name": "LayoutModel",
            "_view_count": null,
            "_view_module": "@jupyter-widgets/base",
            "_view_module_version": "1.2.0",
            "_view_name": "LayoutView",
            "align_content": null,
            "align_items": null,
            "align_self": null,
            "border": null,
            "bottom": null,
            "display": null,
            "flex": null,
            "flex_flow": null,
            "grid_area": null,
            "grid_auto_columns": null,
            "grid_auto_flow": null,
            "grid_auto_rows": null,
            "grid_column": null,
            "grid_gap": null,
            "grid_row": null,
            "grid_template_areas": null,
            "grid_template_columns": null,
            "grid_template_rows": null,
            "height": null,
            "justify_content": null,
            "justify_items": null,
            "left": null,
            "margin": null,
            "max_height": null,
            "max_width": null,
            "min_height": null,
            "min_width": null,
            "object_fit": null,
            "object_position": null,
            "order": null,
            "overflow": null,
            "overflow_x": null,
            "overflow_y": null,
            "padding": null,
            "right": null,
            "top": null,
            "visibility": null,
            "width": null
          }
        },
        "59adb9acbc7d48d1b473cc61f123d253": {
          "model_module": "@jupyter-widgets/base",
          "model_name": "LayoutModel",
          "model_module_version": "1.2.0",
          "state": {
            "_model_module": "@jupyter-widgets/base",
            "_model_module_version": "1.2.0",
            "_model_name": "LayoutModel",
            "_view_count": null,
            "_view_module": "@jupyter-widgets/base",
            "_view_module_version": "1.2.0",
            "_view_name": "LayoutView",
            "align_content": null,
            "align_items": null,
            "align_self": null,
            "border": null,
            "bottom": null,
            "display": null,
            "flex": null,
            "flex_flow": null,
            "grid_area": null,
            "grid_auto_columns": null,
            "grid_auto_flow": null,
            "grid_auto_rows": null,
            "grid_column": null,
            "grid_gap": null,
            "grid_row": null,
            "grid_template_areas": null,
            "grid_template_columns": null,
            "grid_template_rows": null,
            "height": null,
            "justify_content": null,
            "justify_items": null,
            "left": null,
            "margin": null,
            "max_height": null,
            "max_width": null,
            "min_height": null,
            "min_width": null,
            "object_fit": null,
            "object_position": null,
            "order": null,
            "overflow": null,
            "overflow_x": null,
            "overflow_y": null,
            "padding": null,
            "right": null,
            "top": null,
            "visibility": null,
            "width": null
          }
        },
        "3f61f3e2d0b6485cbb0c8cae8d7775db": {
          "model_module": "@jupyter-widgets/controls",
          "model_name": "DescriptionStyleModel",
          "model_module_version": "1.5.0",
          "state": {
            "_model_module": "@jupyter-widgets/controls",
            "_model_module_version": "1.5.0",
            "_model_name": "DescriptionStyleModel",
            "_view_count": null,
            "_view_module": "@jupyter-widgets/base",
            "_view_module_version": "1.2.0",
            "_view_name": "StyleView",
            "description_width": ""
          }
        },
        "19b963a630304ed9b31918d4e40e64a3": {
          "model_module": "@jupyter-widgets/base",
          "model_name": "LayoutModel",
          "model_module_version": "1.2.0",
          "state": {
            "_model_module": "@jupyter-widgets/base",
            "_model_module_version": "1.2.0",
            "_model_name": "LayoutModel",
            "_view_count": null,
            "_view_module": "@jupyter-widgets/base",
            "_view_module_version": "1.2.0",
            "_view_name": "LayoutView",
            "align_content": null,
            "align_items": null,
            "align_self": null,
            "border": null,
            "bottom": null,
            "display": null,
            "flex": null,
            "flex_flow": null,
            "grid_area": null,
            "grid_auto_columns": null,
            "grid_auto_flow": null,
            "grid_auto_rows": null,
            "grid_column": null,
            "grid_gap": null,
            "grid_row": null,
            "grid_template_areas": null,
            "grid_template_columns": null,
            "grid_template_rows": null,
            "height": null,
            "justify_content": null,
            "justify_items": null,
            "left": null,
            "margin": null,
            "max_height": null,
            "max_width": null,
            "min_height": null,
            "min_width": null,
            "object_fit": null,
            "object_position": null,
            "order": null,
            "overflow": null,
            "overflow_x": null,
            "overflow_y": null,
            "padding": null,
            "right": null,
            "top": null,
            "visibility": null,
            "width": "20px"
          }
        },
        "1910400632114a5d9671c980cef4e80f": {
          "model_module": "@jupyter-widgets/controls",
          "model_name": "ProgressStyleModel",
          "model_module_version": "1.5.0",
          "state": {
            "_model_module": "@jupyter-widgets/controls",
            "_model_module_version": "1.5.0",
            "_model_name": "ProgressStyleModel",
            "_view_count": null,
            "_view_module": "@jupyter-widgets/base",
            "_view_module_version": "1.2.0",
            "_view_name": "StyleView",
            "bar_color": null,
            "description_width": ""
          }
        },
        "990fe20523504174bbd6a5ca9994c710": {
          "model_module": "@jupyter-widgets/base",
          "model_name": "LayoutModel",
          "model_module_version": "1.2.0",
          "state": {
            "_model_module": "@jupyter-widgets/base",
            "_model_module_version": "1.2.0",
            "_model_name": "LayoutModel",
            "_view_count": null,
            "_view_module": "@jupyter-widgets/base",
            "_view_module_version": "1.2.0",
            "_view_name": "LayoutView",
            "align_content": null,
            "align_items": null,
            "align_self": null,
            "border": null,
            "bottom": null,
            "display": null,
            "flex": null,
            "flex_flow": null,
            "grid_area": null,
            "grid_auto_columns": null,
            "grid_auto_flow": null,
            "grid_auto_rows": null,
            "grid_column": null,
            "grid_gap": null,
            "grid_row": null,
            "grid_template_areas": null,
            "grid_template_columns": null,
            "grid_template_rows": null,
            "height": null,
            "justify_content": null,
            "justify_items": null,
            "left": null,
            "margin": null,
            "max_height": null,
            "max_width": null,
            "min_height": null,
            "min_width": null,
            "object_fit": null,
            "object_position": null,
            "order": null,
            "overflow": null,
            "overflow_x": null,
            "overflow_y": null,
            "padding": null,
            "right": null,
            "top": null,
            "visibility": null,
            "width": null
          }
        },
        "868e7442a09648b7b93ce81e0261d6fa": {
          "model_module": "@jupyter-widgets/controls",
          "model_name": "DescriptionStyleModel",
          "model_module_version": "1.5.0",
          "state": {
            "_model_module": "@jupyter-widgets/controls",
            "_model_module_version": "1.5.0",
            "_model_name": "DescriptionStyleModel",
            "_view_count": null,
            "_view_module": "@jupyter-widgets/base",
            "_view_module_version": "1.2.0",
            "_view_name": "StyleView",
            "description_width": ""
          }
        },
        "58bbfbe293314d228ea0b88006dbfae6": {
          "model_module": "@jupyter-widgets/controls",
          "model_name": "HBoxModel",
          "model_module_version": "1.5.0",
          "state": {
            "_dom_classes": [],
            "_model_module": "@jupyter-widgets/controls",
            "_model_module_version": "1.5.0",
            "_model_name": "HBoxModel",
            "_view_count": null,
            "_view_module": "@jupyter-widgets/controls",
            "_view_module_version": "1.5.0",
            "_view_name": "HBoxView",
            "box_style": "",
            "children": [
              "IPY_MODEL_0c26a50a6ab44028a8fa17d8edd19dab",
              "IPY_MODEL_6e98afd86f3f44c4952acaea00478202",
              "IPY_MODEL_bfa9eb61234f473ea701dd87100ab1eb"
            ],
            "layout": "IPY_MODEL_6532542474144874b110452535af34f8"
          }
        },
        "0c26a50a6ab44028a8fa17d8edd19dab": {
          "model_module": "@jupyter-widgets/controls",
          "model_name": "HTMLModel",
          "model_module_version": "1.5.0",
          "state": {
            "_dom_classes": [],
            "_model_module": "@jupyter-widgets/controls",
            "_model_module_version": "1.5.0",
            "_model_name": "HTMLModel",
            "_view_count": null,
            "_view_module": "@jupyter-widgets/controls",
            "_view_module_version": "1.5.0",
            "_view_name": "HTMLView",
            "description": "",
            "description_tooltip": null,
            "layout": "IPY_MODEL_6189ce9c5b00454d8bca7946053c7c94",
            "placeholder": "​",
            "style": "IPY_MODEL_856ef2f35df3495e8e7507e4a80ccff6",
            "value": "100%"
          }
        },
        "6e98afd86f3f44c4952acaea00478202": {
          "model_module": "@jupyter-widgets/controls",
          "model_name": "FloatProgressModel",
          "model_module_version": "1.5.0",
          "state": {
            "_dom_classes": [],
            "_model_module": "@jupyter-widgets/controls",
            "_model_module_version": "1.5.0",
            "_model_name": "FloatProgressModel",
            "_view_count": null,
            "_view_module": "@jupyter-widgets/controls",
            "_view_module_version": "1.5.0",
            "_view_name": "ProgressView",
            "bar_style": "success",
            "description": "",
            "description_tooltip": null,
            "layout": "IPY_MODEL_f2aff9a8303541d1b7b003f1889d57d5",
            "max": 3732,
            "min": 0,
            "orientation": "horizontal",
            "style": "IPY_MODEL_c9fde35805bc45efbdf536b94fc722fa",
            "value": 3732
          }
        },
        "bfa9eb61234f473ea701dd87100ab1eb": {
          "model_module": "@jupyter-widgets/controls",
          "model_name": "HTMLModel",
          "model_module_version": "1.5.0",
          "state": {
            "_dom_classes": [],
            "_model_module": "@jupyter-widgets/controls",
            "_model_module_version": "1.5.0",
            "_model_name": "HTMLModel",
            "_view_count": null,
            "_view_module": "@jupyter-widgets/controls",
            "_view_module_version": "1.5.0",
            "_view_name": "HTMLView",
            "description": "",
            "description_tooltip": null,
            "layout": "IPY_MODEL_9760da9b126d45588bb2721c187adb46",
            "placeholder": "​",
            "style": "IPY_MODEL_54956fe44dbf486ab5a767853505b066",
            "value": " 3732/3732 [01:55&lt;00:00, 37.17it/s]"
          }
        },
        "6532542474144874b110452535af34f8": {
          "model_module": "@jupyter-widgets/base",
          "model_name": "LayoutModel",
          "model_module_version": "1.2.0",
          "state": {
            "_model_module": "@jupyter-widgets/base",
            "_model_module_version": "1.2.0",
            "_model_name": "LayoutModel",
            "_view_count": null,
            "_view_module": "@jupyter-widgets/base",
            "_view_module_version": "1.2.0",
            "_view_name": "LayoutView",
            "align_content": null,
            "align_items": null,
            "align_self": null,
            "border": null,
            "bottom": null,
            "display": null,
            "flex": null,
            "flex_flow": null,
            "grid_area": null,
            "grid_auto_columns": null,
            "grid_auto_flow": null,
            "grid_auto_rows": null,
            "grid_column": null,
            "grid_gap": null,
            "grid_row": null,
            "grid_template_areas": null,
            "grid_template_columns": null,
            "grid_template_rows": null,
            "height": null,
            "justify_content": null,
            "justify_items": null,
            "left": null,
            "margin": null,
            "max_height": null,
            "max_width": null,
            "min_height": null,
            "min_width": null,
            "object_fit": null,
            "object_position": null,
            "order": null,
            "overflow": null,
            "overflow_x": null,
            "overflow_y": null,
            "padding": null,
            "right": null,
            "top": null,
            "visibility": null,
            "width": null
          }
        },
        "6189ce9c5b00454d8bca7946053c7c94": {
          "model_module": "@jupyter-widgets/base",
          "model_name": "LayoutModel",
          "model_module_version": "1.2.0",
          "state": {
            "_model_module": "@jupyter-widgets/base",
            "_model_module_version": "1.2.0",
            "_model_name": "LayoutModel",
            "_view_count": null,
            "_view_module": "@jupyter-widgets/base",
            "_view_module_version": "1.2.0",
            "_view_name": "LayoutView",
            "align_content": null,
            "align_items": null,
            "align_self": null,
            "border": null,
            "bottom": null,
            "display": null,
            "flex": null,
            "flex_flow": null,
            "grid_area": null,
            "grid_auto_columns": null,
            "grid_auto_flow": null,
            "grid_auto_rows": null,
            "grid_column": null,
            "grid_gap": null,
            "grid_row": null,
            "grid_template_areas": null,
            "grid_template_columns": null,
            "grid_template_rows": null,
            "height": null,
            "justify_content": null,
            "justify_items": null,
            "left": null,
            "margin": null,
            "max_height": null,
            "max_width": null,
            "min_height": null,
            "min_width": null,
            "object_fit": null,
            "object_position": null,
            "order": null,
            "overflow": null,
            "overflow_x": null,
            "overflow_y": null,
            "padding": null,
            "right": null,
            "top": null,
            "visibility": null,
            "width": null
          }
        },
        "856ef2f35df3495e8e7507e4a80ccff6": {
          "model_module": "@jupyter-widgets/controls",
          "model_name": "DescriptionStyleModel",
          "model_module_version": "1.5.0",
          "state": {
            "_model_module": "@jupyter-widgets/controls",
            "_model_module_version": "1.5.0",
            "_model_name": "DescriptionStyleModel",
            "_view_count": null,
            "_view_module": "@jupyter-widgets/base",
            "_view_module_version": "1.2.0",
            "_view_name": "StyleView",
            "description_width": ""
          }
        },
        "f2aff9a8303541d1b7b003f1889d57d5": {
          "model_module": "@jupyter-widgets/base",
          "model_name": "LayoutModel",
          "model_module_version": "1.2.0",
          "state": {
            "_model_module": "@jupyter-widgets/base",
            "_model_module_version": "1.2.0",
            "_model_name": "LayoutModel",
            "_view_count": null,
            "_view_module": "@jupyter-widgets/base",
            "_view_module_version": "1.2.0",
            "_view_name": "LayoutView",
            "align_content": null,
            "align_items": null,
            "align_self": null,
            "border": null,
            "bottom": null,
            "display": null,
            "flex": null,
            "flex_flow": null,
            "grid_area": null,
            "grid_auto_columns": null,
            "grid_auto_flow": null,
            "grid_auto_rows": null,
            "grid_column": null,
            "grid_gap": null,
            "grid_row": null,
            "grid_template_areas": null,
            "grid_template_columns": null,
            "grid_template_rows": null,
            "height": null,
            "justify_content": null,
            "justify_items": null,
            "left": null,
            "margin": null,
            "max_height": null,
            "max_width": null,
            "min_height": null,
            "min_width": null,
            "object_fit": null,
            "object_position": null,
            "order": null,
            "overflow": null,
            "overflow_x": null,
            "overflow_y": null,
            "padding": null,
            "right": null,
            "top": null,
            "visibility": null,
            "width": null
          }
        },
        "c9fde35805bc45efbdf536b94fc722fa": {
          "model_module": "@jupyter-widgets/controls",
          "model_name": "ProgressStyleModel",
          "model_module_version": "1.5.0",
          "state": {
            "_model_module": "@jupyter-widgets/controls",
            "_model_module_version": "1.5.0",
            "_model_name": "ProgressStyleModel",
            "_view_count": null,
            "_view_module": "@jupyter-widgets/base",
            "_view_module_version": "1.2.0",
            "_view_name": "StyleView",
            "bar_color": null,
            "description_width": ""
          }
        },
        "9760da9b126d45588bb2721c187adb46": {
          "model_module": "@jupyter-widgets/base",
          "model_name": "LayoutModel",
          "model_module_version": "1.2.0",
          "state": {
            "_model_module": "@jupyter-widgets/base",
            "_model_module_version": "1.2.0",
            "_model_name": "LayoutModel",
            "_view_count": null,
            "_view_module": "@jupyter-widgets/base",
            "_view_module_version": "1.2.0",
            "_view_name": "LayoutView",
            "align_content": null,
            "align_items": null,
            "align_self": null,
            "border": null,
            "bottom": null,
            "display": null,
            "flex": null,
            "flex_flow": null,
            "grid_area": null,
            "grid_auto_columns": null,
            "grid_auto_flow": null,
            "grid_auto_rows": null,
            "grid_column": null,
            "grid_gap": null,
            "grid_row": null,
            "grid_template_areas": null,
            "grid_template_columns": null,
            "grid_template_rows": null,
            "height": null,
            "justify_content": null,
            "justify_items": null,
            "left": null,
            "margin": null,
            "max_height": null,
            "max_width": null,
            "min_height": null,
            "min_width": null,
            "object_fit": null,
            "object_position": null,
            "order": null,
            "overflow": null,
            "overflow_x": null,
            "overflow_y": null,
            "padding": null,
            "right": null,
            "top": null,
            "visibility": null,
            "width": null
          }
        },
        "54956fe44dbf486ab5a767853505b066": {
          "model_module": "@jupyter-widgets/controls",
          "model_name": "DescriptionStyleModel",
          "model_module_version": "1.5.0",
          "state": {
            "_model_module": "@jupyter-widgets/controls",
            "_model_module_version": "1.5.0",
            "_model_name": "DescriptionStyleModel",
            "_view_count": null,
            "_view_module": "@jupyter-widgets/base",
            "_view_module_version": "1.2.0",
            "_view_name": "StyleView",
            "description_width": ""
          }
        },
        "ba34ca4ca35442dc9927e7a8e1bc1866": {
          "model_module": "@jupyter-widgets/controls",
          "model_name": "HBoxModel",
          "model_module_version": "1.5.0",
          "state": {
            "_dom_classes": [],
            "_model_module": "@jupyter-widgets/controls",
            "_model_module_version": "1.5.0",
            "_model_name": "HBoxModel",
            "_view_count": null,
            "_view_module": "@jupyter-widgets/controls",
            "_view_module_version": "1.5.0",
            "_view_name": "HBoxView",
            "box_style": "",
            "children": [
              "IPY_MODEL_05217bdbf29d4b468e940b99dc65dc78",
              "IPY_MODEL_f5b68051974b4abaa37972a32b33b41e",
              "IPY_MODEL_e577452a7c244176966d611752d8d1b6"
            ],
            "layout": "IPY_MODEL_4648ed47a99e4c9da292d0c91a675c73"
          }
        },
        "05217bdbf29d4b468e940b99dc65dc78": {
          "model_module": "@jupyter-widgets/controls",
          "model_name": "HTMLModel",
          "model_module_version": "1.5.0",
          "state": {
            "_dom_classes": [],
            "_model_module": "@jupyter-widgets/controls",
            "_model_module_version": "1.5.0",
            "_model_name": "HTMLModel",
            "_view_count": null,
            "_view_module": "@jupyter-widgets/controls",
            "_view_module_version": "1.5.0",
            "_view_name": "HTMLView",
            "description": "",
            "description_tooltip": null,
            "layout": "IPY_MODEL_dc251b6ecb8e464eafaacfb96b53b7e4",
            "placeholder": "​",
            "style": "IPY_MODEL_080f2ffd78da436f9c06cf453f3fbf87",
            "value": ""
          }
        },
        "f5b68051974b4abaa37972a32b33b41e": {
          "model_module": "@jupyter-widgets/controls",
          "model_name": "FloatProgressModel",
          "model_module_version": "1.5.0",
          "state": {
            "_dom_classes": [],
            "_model_module": "@jupyter-widgets/controls",
            "_model_module_version": "1.5.0",
            "_model_name": "FloatProgressModel",
            "_view_count": null,
            "_view_module": "@jupyter-widgets/controls",
            "_view_module_version": "1.5.0",
            "_view_name": "ProgressView",
            "bar_style": "success",
            "description": "",
            "description_tooltip": null,
            "layout": "IPY_MODEL_e8bb31a94a1a48408f54cced0ef576c0",
            "max": 1,
            "min": 0,
            "orientation": "horizontal",
            "style": "IPY_MODEL_cd4967c66ba747b4be5dd9c8e576040d",
            "value": 0
          }
        },
        "e577452a7c244176966d611752d8d1b6": {
          "model_module": "@jupyter-widgets/controls",
          "model_name": "HTMLModel",
          "model_module_version": "1.5.0",
          "state": {
            "_dom_classes": [],
            "_model_module": "@jupyter-widgets/controls",
            "_model_module_version": "1.5.0",
            "_model_name": "HTMLModel",
            "_view_count": null,
            "_view_module": "@jupyter-widgets/controls",
            "_view_module_version": "1.5.0",
            "_view_name": "HTMLView",
            "description": "",
            "description_tooltip": null,
            "layout": "IPY_MODEL_781fafc924a3426f9224c2bc5336fd0e",
            "placeholder": "​",
            "style": "IPY_MODEL_548cfebcf6ac46f3a2118a3746b44bd6",
            "value": " 0/? [00:00&lt;?, ?it/s]"
          }
        },
        "4648ed47a99e4c9da292d0c91a675c73": {
          "model_module": "@jupyter-widgets/base",
          "model_name": "LayoutModel",
          "model_module_version": "1.2.0",
          "state": {
            "_model_module": "@jupyter-widgets/base",
            "_model_module_version": "1.2.0",
            "_model_name": "LayoutModel",
            "_view_count": null,
            "_view_module": "@jupyter-widgets/base",
            "_view_module_version": "1.2.0",
            "_view_name": "LayoutView",
            "align_content": null,
            "align_items": null,
            "align_self": null,
            "border": null,
            "bottom": null,
            "display": null,
            "flex": null,
            "flex_flow": null,
            "grid_area": null,
            "grid_auto_columns": null,
            "grid_auto_flow": null,
            "grid_auto_rows": null,
            "grid_column": null,
            "grid_gap": null,
            "grid_row": null,
            "grid_template_areas": null,
            "grid_template_columns": null,
            "grid_template_rows": null,
            "height": null,
            "justify_content": null,
            "justify_items": null,
            "left": null,
            "margin": null,
            "max_height": null,
            "max_width": null,
            "min_height": null,
            "min_width": null,
            "object_fit": null,
            "object_position": null,
            "order": null,
            "overflow": null,
            "overflow_x": null,
            "overflow_y": null,
            "padding": null,
            "right": null,
            "top": null,
            "visibility": null,
            "width": null
          }
        },
        "dc251b6ecb8e464eafaacfb96b53b7e4": {
          "model_module": "@jupyter-widgets/base",
          "model_name": "LayoutModel",
          "model_module_version": "1.2.0",
          "state": {
            "_model_module": "@jupyter-widgets/base",
            "_model_module_version": "1.2.0",
            "_model_name": "LayoutModel",
            "_view_count": null,
            "_view_module": "@jupyter-widgets/base",
            "_view_module_version": "1.2.0",
            "_view_name": "LayoutView",
            "align_content": null,
            "align_items": null,
            "align_self": null,
            "border": null,
            "bottom": null,
            "display": null,
            "flex": null,
            "flex_flow": null,
            "grid_area": null,
            "grid_auto_columns": null,
            "grid_auto_flow": null,
            "grid_auto_rows": null,
            "grid_column": null,
            "grid_gap": null,
            "grid_row": null,
            "grid_template_areas": null,
            "grid_template_columns": null,
            "grid_template_rows": null,
            "height": null,
            "justify_content": null,
            "justify_items": null,
            "left": null,
            "margin": null,
            "max_height": null,
            "max_width": null,
            "min_height": null,
            "min_width": null,
            "object_fit": null,
            "object_position": null,
            "order": null,
            "overflow": null,
            "overflow_x": null,
            "overflow_y": null,
            "padding": null,
            "right": null,
            "top": null,
            "visibility": null,
            "width": null
          }
        },
        "080f2ffd78da436f9c06cf453f3fbf87": {
          "model_module": "@jupyter-widgets/controls",
          "model_name": "DescriptionStyleModel",
          "model_module_version": "1.5.0",
          "state": {
            "_model_module": "@jupyter-widgets/controls",
            "_model_module_version": "1.5.0",
            "_model_name": "DescriptionStyleModel",
            "_view_count": null,
            "_view_module": "@jupyter-widgets/base",
            "_view_module_version": "1.2.0",
            "_view_name": "StyleView",
            "description_width": ""
          }
        },
        "e8bb31a94a1a48408f54cced0ef576c0": {
          "model_module": "@jupyter-widgets/base",
          "model_name": "LayoutModel",
          "model_module_version": "1.2.0",
          "state": {
            "_model_module": "@jupyter-widgets/base",
            "_model_module_version": "1.2.0",
            "_model_name": "LayoutModel",
            "_view_count": null,
            "_view_module": "@jupyter-widgets/base",
            "_view_module_version": "1.2.0",
            "_view_name": "LayoutView",
            "align_content": null,
            "align_items": null,
            "align_self": null,
            "border": null,
            "bottom": null,
            "display": null,
            "flex": null,
            "flex_flow": null,
            "grid_area": null,
            "grid_auto_columns": null,
            "grid_auto_flow": null,
            "grid_auto_rows": null,
            "grid_column": null,
            "grid_gap": null,
            "grid_row": null,
            "grid_template_areas": null,
            "grid_template_columns": null,
            "grid_template_rows": null,
            "height": null,
            "justify_content": null,
            "justify_items": null,
            "left": null,
            "margin": null,
            "max_height": null,
            "max_width": null,
            "min_height": null,
            "min_width": null,
            "object_fit": null,
            "object_position": null,
            "order": null,
            "overflow": null,
            "overflow_x": null,
            "overflow_y": null,
            "padding": null,
            "right": null,
            "top": null,
            "visibility": null,
            "width": "20px"
          }
        },
        "cd4967c66ba747b4be5dd9c8e576040d": {
          "model_module": "@jupyter-widgets/controls",
          "model_name": "ProgressStyleModel",
          "model_module_version": "1.5.0",
          "state": {
            "_model_module": "@jupyter-widgets/controls",
            "_model_module_version": "1.5.0",
            "_model_name": "ProgressStyleModel",
            "_view_count": null,
            "_view_module": "@jupyter-widgets/base",
            "_view_module_version": "1.2.0",
            "_view_name": "StyleView",
            "bar_color": null,
            "description_width": ""
          }
        },
        "781fafc924a3426f9224c2bc5336fd0e": {
          "model_module": "@jupyter-widgets/base",
          "model_name": "LayoutModel",
          "model_module_version": "1.2.0",
          "state": {
            "_model_module": "@jupyter-widgets/base",
            "_model_module_version": "1.2.0",
            "_model_name": "LayoutModel",
            "_view_count": null,
            "_view_module": "@jupyter-widgets/base",
            "_view_module_version": "1.2.0",
            "_view_name": "LayoutView",
            "align_content": null,
            "align_items": null,
            "align_self": null,
            "border": null,
            "bottom": null,
            "display": null,
            "flex": null,
            "flex_flow": null,
            "grid_area": null,
            "grid_auto_columns": null,
            "grid_auto_flow": null,
            "grid_auto_rows": null,
            "grid_column": null,
            "grid_gap": null,
            "grid_row": null,
            "grid_template_areas": null,
            "grid_template_columns": null,
            "grid_template_rows": null,
            "height": null,
            "justify_content": null,
            "justify_items": null,
            "left": null,
            "margin": null,
            "max_height": null,
            "max_width": null,
            "min_height": null,
            "min_width": null,
            "object_fit": null,
            "object_position": null,
            "order": null,
            "overflow": null,
            "overflow_x": null,
            "overflow_y": null,
            "padding": null,
            "right": null,
            "top": null,
            "visibility": null,
            "width": null
          }
        },
        "548cfebcf6ac46f3a2118a3746b44bd6": {
          "model_module": "@jupyter-widgets/controls",
          "model_name": "DescriptionStyleModel",
          "model_module_version": "1.5.0",
          "state": {
            "_model_module": "@jupyter-widgets/controls",
            "_model_module_version": "1.5.0",
            "_model_name": "DescriptionStyleModel",
            "_view_count": null,
            "_view_module": "@jupyter-widgets/base",
            "_view_module_version": "1.2.0",
            "_view_name": "StyleView",
            "description_width": ""
          }
        },
        "e7fde09d9d314e10a3f4b9ba7719e9ab": {
          "model_module": "@jupyter-widgets/controls",
          "model_name": "HBoxModel",
          "model_module_version": "1.5.0",
          "state": {
            "_dom_classes": [],
            "_model_module": "@jupyter-widgets/controls",
            "_model_module_version": "1.5.0",
            "_model_name": "HBoxModel",
            "_view_count": null,
            "_view_module": "@jupyter-widgets/controls",
            "_view_module_version": "1.5.0",
            "_view_name": "HBoxView",
            "box_style": "",
            "children": [
              "IPY_MODEL_e6efafa1124947968d26f3d6daf1c022",
              "IPY_MODEL_2d65e056f9a84e64a80ff5c6995ef813",
              "IPY_MODEL_778edaba777e4b238ef31c61ebf16959"
            ],
            "layout": "IPY_MODEL_3df3fc43826143089f441cb8a881e837"
          }
        },
        "e6efafa1124947968d26f3d6daf1c022": {
          "model_module": "@jupyter-widgets/controls",
          "model_name": "HTMLModel",
          "model_module_version": "1.5.0",
          "state": {
            "_dom_classes": [],
            "_model_module": "@jupyter-widgets/controls",
            "_model_module_version": "1.5.0",
            "_model_name": "HTMLModel",
            "_view_count": null,
            "_view_module": "@jupyter-widgets/controls",
            "_view_module_version": "1.5.0",
            "_view_name": "HTMLView",
            "description": "",
            "description_tooltip": null,
            "layout": "IPY_MODEL_bd15dfae86bf41a39b9ebf9e2bd8487a",
            "placeholder": "​",
            "style": "IPY_MODEL_9b2a409b9455496ea7ea40dfd2a9b08a",
            "value": "100%"
          }
        },
        "2d65e056f9a84e64a80ff5c6995ef813": {
          "model_module": "@jupyter-widgets/controls",
          "model_name": "FloatProgressModel",
          "model_module_version": "1.5.0",
          "state": {
            "_dom_classes": [],
            "_model_module": "@jupyter-widgets/controls",
            "_model_module_version": "1.5.0",
            "_model_name": "FloatProgressModel",
            "_view_count": null,
            "_view_module": "@jupyter-widgets/controls",
            "_view_module_version": "1.5.0",
            "_view_name": "ProgressView",
            "bar_style": "success",
            "description": "",
            "description_tooltip": null,
            "layout": "IPY_MODEL_72595d9e86e44563aab873a5660954ba",
            "max": 3732,
            "min": 0,
            "orientation": "horizontal",
            "style": "IPY_MODEL_87a07d1a1ca747d6a2efb4756d6b4028",
            "value": 3732
          }
        },
        "778edaba777e4b238ef31c61ebf16959": {
          "model_module": "@jupyter-widgets/controls",
          "model_name": "HTMLModel",
          "model_module_version": "1.5.0",
          "state": {
            "_dom_classes": [],
            "_model_module": "@jupyter-widgets/controls",
            "_model_module_version": "1.5.0",
            "_model_name": "HTMLModel",
            "_view_count": null,
            "_view_module": "@jupyter-widgets/controls",
            "_view_module_version": "1.5.0",
            "_view_name": "HTMLView",
            "description": "",
            "description_tooltip": null,
            "layout": "IPY_MODEL_8cfed21fd4a8406ba99c99a3c43fb407",
            "placeholder": "​",
            "style": "IPY_MODEL_d0478b8f0d5a42a98f940cc8814c2e43",
            "value": " 3732/3732 [1:49:21&lt;00:00,  1.57s/it]"
          }
        },
        "3df3fc43826143089f441cb8a881e837": {
          "model_module": "@jupyter-widgets/base",
          "model_name": "LayoutModel",
          "model_module_version": "1.2.0",
          "state": {
            "_model_module": "@jupyter-widgets/base",
            "_model_module_version": "1.2.0",
            "_model_name": "LayoutModel",
            "_view_count": null,
            "_view_module": "@jupyter-widgets/base",
            "_view_module_version": "1.2.0",
            "_view_name": "LayoutView",
            "align_content": null,
            "align_items": null,
            "align_self": null,
            "border": null,
            "bottom": null,
            "display": null,
            "flex": null,
            "flex_flow": null,
            "grid_area": null,
            "grid_auto_columns": null,
            "grid_auto_flow": null,
            "grid_auto_rows": null,
            "grid_column": null,
            "grid_gap": null,
            "grid_row": null,
            "grid_template_areas": null,
            "grid_template_columns": null,
            "grid_template_rows": null,
            "height": null,
            "justify_content": null,
            "justify_items": null,
            "left": null,
            "margin": null,
            "max_height": null,
            "max_width": null,
            "min_height": null,
            "min_width": null,
            "object_fit": null,
            "object_position": null,
            "order": null,
            "overflow": null,
            "overflow_x": null,
            "overflow_y": null,
            "padding": null,
            "right": null,
            "top": null,
            "visibility": null,
            "width": null
          }
        },
        "bd15dfae86bf41a39b9ebf9e2bd8487a": {
          "model_module": "@jupyter-widgets/base",
          "model_name": "LayoutModel",
          "model_module_version": "1.2.0",
          "state": {
            "_model_module": "@jupyter-widgets/base",
            "_model_module_version": "1.2.0",
            "_model_name": "LayoutModel",
            "_view_count": null,
            "_view_module": "@jupyter-widgets/base",
            "_view_module_version": "1.2.0",
            "_view_name": "LayoutView",
            "align_content": null,
            "align_items": null,
            "align_self": null,
            "border": null,
            "bottom": null,
            "display": null,
            "flex": null,
            "flex_flow": null,
            "grid_area": null,
            "grid_auto_columns": null,
            "grid_auto_flow": null,
            "grid_auto_rows": null,
            "grid_column": null,
            "grid_gap": null,
            "grid_row": null,
            "grid_template_areas": null,
            "grid_template_columns": null,
            "grid_template_rows": null,
            "height": null,
            "justify_content": null,
            "justify_items": null,
            "left": null,
            "margin": null,
            "max_height": null,
            "max_width": null,
            "min_height": null,
            "min_width": null,
            "object_fit": null,
            "object_position": null,
            "order": null,
            "overflow": null,
            "overflow_x": null,
            "overflow_y": null,
            "padding": null,
            "right": null,
            "top": null,
            "visibility": null,
            "width": null
          }
        },
        "9b2a409b9455496ea7ea40dfd2a9b08a": {
          "model_module": "@jupyter-widgets/controls",
          "model_name": "DescriptionStyleModel",
          "model_module_version": "1.5.0",
          "state": {
            "_model_module": "@jupyter-widgets/controls",
            "_model_module_version": "1.5.0",
            "_model_name": "DescriptionStyleModel",
            "_view_count": null,
            "_view_module": "@jupyter-widgets/base",
            "_view_module_version": "1.2.0",
            "_view_name": "StyleView",
            "description_width": ""
          }
        },
        "72595d9e86e44563aab873a5660954ba": {
          "model_module": "@jupyter-widgets/base",
          "model_name": "LayoutModel",
          "model_module_version": "1.2.0",
          "state": {
            "_model_module": "@jupyter-widgets/base",
            "_model_module_version": "1.2.0",
            "_model_name": "LayoutModel",
            "_view_count": null,
            "_view_module": "@jupyter-widgets/base",
            "_view_module_version": "1.2.0",
            "_view_name": "LayoutView",
            "align_content": null,
            "align_items": null,
            "align_self": null,
            "border": null,
            "bottom": null,
            "display": null,
            "flex": null,
            "flex_flow": null,
            "grid_area": null,
            "grid_auto_columns": null,
            "grid_auto_flow": null,
            "grid_auto_rows": null,
            "grid_column": null,
            "grid_gap": null,
            "grid_row": null,
            "grid_template_areas": null,
            "grid_template_columns": null,
            "grid_template_rows": null,
            "height": null,
            "justify_content": null,
            "justify_items": null,
            "left": null,
            "margin": null,
            "max_height": null,
            "max_width": null,
            "min_height": null,
            "min_width": null,
            "object_fit": null,
            "object_position": null,
            "order": null,
            "overflow": null,
            "overflow_x": null,
            "overflow_y": null,
            "padding": null,
            "right": null,
            "top": null,
            "visibility": null,
            "width": null
          }
        },
        "87a07d1a1ca747d6a2efb4756d6b4028": {
          "model_module": "@jupyter-widgets/controls",
          "model_name": "ProgressStyleModel",
          "model_module_version": "1.5.0",
          "state": {
            "_model_module": "@jupyter-widgets/controls",
            "_model_module_version": "1.5.0",
            "_model_name": "ProgressStyleModel",
            "_view_count": null,
            "_view_module": "@jupyter-widgets/base",
            "_view_module_version": "1.2.0",
            "_view_name": "StyleView",
            "bar_color": null,
            "description_width": ""
          }
        },
        "8cfed21fd4a8406ba99c99a3c43fb407": {
          "model_module": "@jupyter-widgets/base",
          "model_name": "LayoutModel",
          "model_module_version": "1.2.0",
          "state": {
            "_model_module": "@jupyter-widgets/base",
            "_model_module_version": "1.2.0",
            "_model_name": "LayoutModel",
            "_view_count": null,
            "_view_module": "@jupyter-widgets/base",
            "_view_module_version": "1.2.0",
            "_view_name": "LayoutView",
            "align_content": null,
            "align_items": null,
            "align_self": null,
            "border": null,
            "bottom": null,
            "display": null,
            "flex": null,
            "flex_flow": null,
            "grid_area": null,
            "grid_auto_columns": null,
            "grid_auto_flow": null,
            "grid_auto_rows": null,
            "grid_column": null,
            "grid_gap": null,
            "grid_row": null,
            "grid_template_areas": null,
            "grid_template_columns": null,
            "grid_template_rows": null,
            "height": null,
            "justify_content": null,
            "justify_items": null,
            "left": null,
            "margin": null,
            "max_height": null,
            "max_width": null,
            "min_height": null,
            "min_width": null,
            "object_fit": null,
            "object_position": null,
            "order": null,
            "overflow": null,
            "overflow_x": null,
            "overflow_y": null,
            "padding": null,
            "right": null,
            "top": null,
            "visibility": null,
            "width": null
          }
        },
        "d0478b8f0d5a42a98f940cc8814c2e43": {
          "model_module": "@jupyter-widgets/controls",
          "model_name": "DescriptionStyleModel",
          "model_module_version": "1.5.0",
          "state": {
            "_model_module": "@jupyter-widgets/controls",
            "_model_module_version": "1.5.0",
            "_model_name": "DescriptionStyleModel",
            "_view_count": null,
            "_view_module": "@jupyter-widgets/base",
            "_view_module_version": "1.2.0",
            "_view_name": "StyleView",
            "description_width": ""
          }
        },
        "004ae71ea11c4f559deccd8cdab748eb": {
          "model_module": "@jupyter-widgets/controls",
          "model_name": "HBoxModel",
          "model_module_version": "1.5.0",
          "state": {
            "_dom_classes": [],
            "_model_module": "@jupyter-widgets/controls",
            "_model_module_version": "1.5.0",
            "_model_name": "HBoxModel",
            "_view_count": null,
            "_view_module": "@jupyter-widgets/controls",
            "_view_module_version": "1.5.0",
            "_view_name": "HBoxView",
            "box_style": "",
            "children": [
              "IPY_MODEL_05ba0161e0544bffa25084e61e9922c2",
              "IPY_MODEL_769454eabdea4205af845e9d2fedf64d",
              "IPY_MODEL_f990e020dc2547e8a4ca711a170f2c7c"
            ],
            "layout": "IPY_MODEL_8596dfd8125f40e08501f4a1f1c5eabf"
          }
        },
        "05ba0161e0544bffa25084e61e9922c2": {
          "model_module": "@jupyter-widgets/controls",
          "model_name": "HTMLModel",
          "model_module_version": "1.5.0",
          "state": {
            "_dom_classes": [],
            "_model_module": "@jupyter-widgets/controls",
            "_model_module_version": "1.5.0",
            "_model_name": "HTMLModel",
            "_view_count": null,
            "_view_module": "@jupyter-widgets/controls",
            "_view_module_version": "1.5.0",
            "_view_name": "HTMLView",
            "description": "",
            "description_tooltip": null,
            "layout": "IPY_MODEL_8272aa443d304fda99d09098ed6a5e41",
            "placeholder": "​",
            "style": "IPY_MODEL_48cd62a45777480c858b3b2d36130dd2",
            "value": ""
          }
        },
        "769454eabdea4205af845e9d2fedf64d": {
          "model_module": "@jupyter-widgets/controls",
          "model_name": "FloatProgressModel",
          "model_module_version": "1.5.0",
          "state": {
            "_dom_classes": [],
            "_model_module": "@jupyter-widgets/controls",
            "_model_module_version": "1.5.0",
            "_model_name": "FloatProgressModel",
            "_view_count": null,
            "_view_module": "@jupyter-widgets/controls",
            "_view_module_version": "1.5.0",
            "_view_name": "ProgressView",
            "bar_style": "success",
            "description": "",
            "description_tooltip": null,
            "layout": "IPY_MODEL_549133d7648e4377a1b4bd3d8a69e421",
            "max": 1,
            "min": 0,
            "orientation": "horizontal",
            "style": "IPY_MODEL_223f482fdb6d445aaa08ec7d410d2c14",
            "value": 0
          }
        },
        "f990e020dc2547e8a4ca711a170f2c7c": {
          "model_module": "@jupyter-widgets/controls",
          "model_name": "HTMLModel",
          "model_module_version": "1.5.0",
          "state": {
            "_dom_classes": [],
            "_model_module": "@jupyter-widgets/controls",
            "_model_module_version": "1.5.0",
            "_model_name": "HTMLModel",
            "_view_count": null,
            "_view_module": "@jupyter-widgets/controls",
            "_view_module_version": "1.5.0",
            "_view_name": "HTMLView",
            "description": "",
            "description_tooltip": null,
            "layout": "IPY_MODEL_8d8881884e994a429ff15ab8e6877ff8",
            "placeholder": "​",
            "style": "IPY_MODEL_02ac6e98367e4133bf399a5cc54a97cb",
            "value": " 0/? [1:46:21&lt;?, ?it/s]"
          }
        },
        "8596dfd8125f40e08501f4a1f1c5eabf": {
          "model_module": "@jupyter-widgets/base",
          "model_name": "LayoutModel",
          "model_module_version": "1.2.0",
          "state": {
            "_model_module": "@jupyter-widgets/base",
            "_model_module_version": "1.2.0",
            "_model_name": "LayoutModel",
            "_view_count": null,
            "_view_module": "@jupyter-widgets/base",
            "_view_module_version": "1.2.0",
            "_view_name": "LayoutView",
            "align_content": null,
            "align_items": null,
            "align_self": null,
            "border": null,
            "bottom": null,
            "display": null,
            "flex": null,
            "flex_flow": null,
            "grid_area": null,
            "grid_auto_columns": null,
            "grid_auto_flow": null,
            "grid_auto_rows": null,
            "grid_column": null,
            "grid_gap": null,
            "grid_row": null,
            "grid_template_areas": null,
            "grid_template_columns": null,
            "grid_template_rows": null,
            "height": null,
            "justify_content": null,
            "justify_items": null,
            "left": null,
            "margin": null,
            "max_height": null,
            "max_width": null,
            "min_height": null,
            "min_width": null,
            "object_fit": null,
            "object_position": null,
            "order": null,
            "overflow": null,
            "overflow_x": null,
            "overflow_y": null,
            "padding": null,
            "right": null,
            "top": null,
            "visibility": null,
            "width": null
          }
        },
        "8272aa443d304fda99d09098ed6a5e41": {
          "model_module": "@jupyter-widgets/base",
          "model_name": "LayoutModel",
          "model_module_version": "1.2.0",
          "state": {
            "_model_module": "@jupyter-widgets/base",
            "_model_module_version": "1.2.0",
            "_model_name": "LayoutModel",
            "_view_count": null,
            "_view_module": "@jupyter-widgets/base",
            "_view_module_version": "1.2.0",
            "_view_name": "LayoutView",
            "align_content": null,
            "align_items": null,
            "align_self": null,
            "border": null,
            "bottom": null,
            "display": null,
            "flex": null,
            "flex_flow": null,
            "grid_area": null,
            "grid_auto_columns": null,
            "grid_auto_flow": null,
            "grid_auto_rows": null,
            "grid_column": null,
            "grid_gap": null,
            "grid_row": null,
            "grid_template_areas": null,
            "grid_template_columns": null,
            "grid_template_rows": null,
            "height": null,
            "justify_content": null,
            "justify_items": null,
            "left": null,
            "margin": null,
            "max_height": null,
            "max_width": null,
            "min_height": null,
            "min_width": null,
            "object_fit": null,
            "object_position": null,
            "order": null,
            "overflow": null,
            "overflow_x": null,
            "overflow_y": null,
            "padding": null,
            "right": null,
            "top": null,
            "visibility": null,
            "width": null
          }
        },
        "48cd62a45777480c858b3b2d36130dd2": {
          "model_module": "@jupyter-widgets/controls",
          "model_name": "DescriptionStyleModel",
          "model_module_version": "1.5.0",
          "state": {
            "_model_module": "@jupyter-widgets/controls",
            "_model_module_version": "1.5.0",
            "_model_name": "DescriptionStyleModel",
            "_view_count": null,
            "_view_module": "@jupyter-widgets/base",
            "_view_module_version": "1.2.0",
            "_view_name": "StyleView",
            "description_width": ""
          }
        },
        "549133d7648e4377a1b4bd3d8a69e421": {
          "model_module": "@jupyter-widgets/base",
          "model_name": "LayoutModel",
          "model_module_version": "1.2.0",
          "state": {
            "_model_module": "@jupyter-widgets/base",
            "_model_module_version": "1.2.0",
            "_model_name": "LayoutModel",
            "_view_count": null,
            "_view_module": "@jupyter-widgets/base",
            "_view_module_version": "1.2.0",
            "_view_name": "LayoutView",
            "align_content": null,
            "align_items": null,
            "align_self": null,
            "border": null,
            "bottom": null,
            "display": null,
            "flex": null,
            "flex_flow": null,
            "grid_area": null,
            "grid_auto_columns": null,
            "grid_auto_flow": null,
            "grid_auto_rows": null,
            "grid_column": null,
            "grid_gap": null,
            "grid_row": null,
            "grid_template_areas": null,
            "grid_template_columns": null,
            "grid_template_rows": null,
            "height": null,
            "justify_content": null,
            "justify_items": null,
            "left": null,
            "margin": null,
            "max_height": null,
            "max_width": null,
            "min_height": null,
            "min_width": null,
            "object_fit": null,
            "object_position": null,
            "order": null,
            "overflow": null,
            "overflow_x": null,
            "overflow_y": null,
            "padding": null,
            "right": null,
            "top": null,
            "visibility": null,
            "width": "20px"
          }
        },
        "223f482fdb6d445aaa08ec7d410d2c14": {
          "model_module": "@jupyter-widgets/controls",
          "model_name": "ProgressStyleModel",
          "model_module_version": "1.5.0",
          "state": {
            "_model_module": "@jupyter-widgets/controls",
            "_model_module_version": "1.5.0",
            "_model_name": "ProgressStyleModel",
            "_view_count": null,
            "_view_module": "@jupyter-widgets/base",
            "_view_module_version": "1.2.0",
            "_view_name": "StyleView",
            "bar_color": null,
            "description_width": ""
          }
        },
        "8d8881884e994a429ff15ab8e6877ff8": {
          "model_module": "@jupyter-widgets/base",
          "model_name": "LayoutModel",
          "model_module_version": "1.2.0",
          "state": {
            "_model_module": "@jupyter-widgets/base",
            "_model_module_version": "1.2.0",
            "_model_name": "LayoutModel",
            "_view_count": null,
            "_view_module": "@jupyter-widgets/base",
            "_view_module_version": "1.2.0",
            "_view_name": "LayoutView",
            "align_content": null,
            "align_items": null,
            "align_self": null,
            "border": null,
            "bottom": null,
            "display": null,
            "flex": null,
            "flex_flow": null,
            "grid_area": null,
            "grid_auto_columns": null,
            "grid_auto_flow": null,
            "grid_auto_rows": null,
            "grid_column": null,
            "grid_gap": null,
            "grid_row": null,
            "grid_template_areas": null,
            "grid_template_columns": null,
            "grid_template_rows": null,
            "height": null,
            "justify_content": null,
            "justify_items": null,
            "left": null,
            "margin": null,
            "max_height": null,
            "max_width": null,
            "min_height": null,
            "min_width": null,
            "object_fit": null,
            "object_position": null,
            "order": null,
            "overflow": null,
            "overflow_x": null,
            "overflow_y": null,
            "padding": null,
            "right": null,
            "top": null,
            "visibility": null,
            "width": null
          }
        },
        "02ac6e98367e4133bf399a5cc54a97cb": {
          "model_module": "@jupyter-widgets/controls",
          "model_name": "DescriptionStyleModel",
          "model_module_version": "1.5.0",
          "state": {
            "_model_module": "@jupyter-widgets/controls",
            "_model_module_version": "1.5.0",
            "_model_name": "DescriptionStyleModel",
            "_view_count": null,
            "_view_module": "@jupyter-widgets/base",
            "_view_module_version": "1.2.0",
            "_view_name": "StyleView",
            "description_width": ""
          }
        },
        "0cc9e10009fd455d9a6608238c2f06b7": {
          "model_module": "@jupyter-widgets/controls",
          "model_name": "HBoxModel",
          "model_module_version": "1.5.0",
          "state": {
            "_dom_classes": [],
            "_model_module": "@jupyter-widgets/controls",
            "_model_module_version": "1.5.0",
            "_model_name": "HBoxModel",
            "_view_count": null,
            "_view_module": "@jupyter-widgets/controls",
            "_view_module_version": "1.5.0",
            "_view_name": "HBoxView",
            "box_style": "",
            "children": [
              "IPY_MODEL_0c4adbec892a4ca5b6a421afcd364e46",
              "IPY_MODEL_6722e779dcdd445aac00a3939d0e3bd5",
              "IPY_MODEL_93aa7960b44343118c63883013afd00e"
            ],
            "layout": "IPY_MODEL_a85460e1819247f5b76b7d807ee18c7d"
          }
        },
        "0c4adbec892a4ca5b6a421afcd364e46": {
          "model_module": "@jupyter-widgets/controls",
          "model_name": "HTMLModel",
          "model_module_version": "1.5.0",
          "state": {
            "_dom_classes": [],
            "_model_module": "@jupyter-widgets/controls",
            "_model_module_version": "1.5.0",
            "_model_name": "HTMLModel",
            "_view_count": null,
            "_view_module": "@jupyter-widgets/controls",
            "_view_module_version": "1.5.0",
            "_view_name": "HTMLView",
            "description": "",
            "description_tooltip": null,
            "layout": "IPY_MODEL_62ff06d7b4004fa082f4eabccb72ed18",
            "placeholder": "​",
            "style": "IPY_MODEL_624b8749d4ac44e185afedd281deed3a",
            "value": "100%"
          }
        },
        "6722e779dcdd445aac00a3939d0e3bd5": {
          "model_module": "@jupyter-widgets/controls",
          "model_name": "FloatProgressModel",
          "model_module_version": "1.5.0",
          "state": {
            "_dom_classes": [],
            "_model_module": "@jupyter-widgets/controls",
            "_model_module_version": "1.5.0",
            "_model_name": "FloatProgressModel",
            "_view_count": null,
            "_view_module": "@jupyter-widgets/controls",
            "_view_module_version": "1.5.0",
            "_view_name": "ProgressView",
            "bar_style": "success",
            "description": "",
            "description_tooltip": null,
            "layout": "IPY_MODEL_bf5ad23a25b54b61bace8d606ae0cd8e",
            "max": 3732,
            "min": 0,
            "orientation": "horizontal",
            "style": "IPY_MODEL_c717f379868b4e30af85a8d895836df8",
            "value": 3732
          }
        },
        "93aa7960b44343118c63883013afd00e": {
          "model_module": "@jupyter-widgets/controls",
          "model_name": "HTMLModel",
          "model_module_version": "1.5.0",
          "state": {
            "_dom_classes": [],
            "_model_module": "@jupyter-widgets/controls",
            "_model_module_version": "1.5.0",
            "_model_name": "HTMLModel",
            "_view_count": null,
            "_view_module": "@jupyter-widgets/controls",
            "_view_module_version": "1.5.0",
            "_view_name": "HTMLView",
            "description": "",
            "description_tooltip": null,
            "layout": "IPY_MODEL_827682e872c549ccaf33cb62c6240222",
            "placeholder": "​",
            "style": "IPY_MODEL_64d0c31210b1462d9ca35b1784616e8c",
            "value": " 3732/3732 [1:46:20&lt;00:00,  1.49s/it]"
          }
        },
        "a85460e1819247f5b76b7d807ee18c7d": {
          "model_module": "@jupyter-widgets/base",
          "model_name": "LayoutModel",
          "model_module_version": "1.2.0",
          "state": {
            "_model_module": "@jupyter-widgets/base",
            "_model_module_version": "1.2.0",
            "_model_name": "LayoutModel",
            "_view_count": null,
            "_view_module": "@jupyter-widgets/base",
            "_view_module_version": "1.2.0",
            "_view_name": "LayoutView",
            "align_content": null,
            "align_items": null,
            "align_self": null,
            "border": null,
            "bottom": null,
            "display": null,
            "flex": null,
            "flex_flow": null,
            "grid_area": null,
            "grid_auto_columns": null,
            "grid_auto_flow": null,
            "grid_auto_rows": null,
            "grid_column": null,
            "grid_gap": null,
            "grid_row": null,
            "grid_template_areas": null,
            "grid_template_columns": null,
            "grid_template_rows": null,
            "height": null,
            "justify_content": null,
            "justify_items": null,
            "left": null,
            "margin": null,
            "max_height": null,
            "max_width": null,
            "min_height": null,
            "min_width": null,
            "object_fit": null,
            "object_position": null,
            "order": null,
            "overflow": null,
            "overflow_x": null,
            "overflow_y": null,
            "padding": null,
            "right": null,
            "top": null,
            "visibility": null,
            "width": null
          }
        },
        "62ff06d7b4004fa082f4eabccb72ed18": {
          "model_module": "@jupyter-widgets/base",
          "model_name": "LayoutModel",
          "model_module_version": "1.2.0",
          "state": {
            "_model_module": "@jupyter-widgets/base",
            "_model_module_version": "1.2.0",
            "_model_name": "LayoutModel",
            "_view_count": null,
            "_view_module": "@jupyter-widgets/base",
            "_view_module_version": "1.2.0",
            "_view_name": "LayoutView",
            "align_content": null,
            "align_items": null,
            "align_self": null,
            "border": null,
            "bottom": null,
            "display": null,
            "flex": null,
            "flex_flow": null,
            "grid_area": null,
            "grid_auto_columns": null,
            "grid_auto_flow": null,
            "grid_auto_rows": null,
            "grid_column": null,
            "grid_gap": null,
            "grid_row": null,
            "grid_template_areas": null,
            "grid_template_columns": null,
            "grid_template_rows": null,
            "height": null,
            "justify_content": null,
            "justify_items": null,
            "left": null,
            "margin": null,
            "max_height": null,
            "max_width": null,
            "min_height": null,
            "min_width": null,
            "object_fit": null,
            "object_position": null,
            "order": null,
            "overflow": null,
            "overflow_x": null,
            "overflow_y": null,
            "padding": null,
            "right": null,
            "top": null,
            "visibility": null,
            "width": null
          }
        },
        "624b8749d4ac44e185afedd281deed3a": {
          "model_module": "@jupyter-widgets/controls",
          "model_name": "DescriptionStyleModel",
          "model_module_version": "1.5.0",
          "state": {
            "_model_module": "@jupyter-widgets/controls",
            "_model_module_version": "1.5.0",
            "_model_name": "DescriptionStyleModel",
            "_view_count": null,
            "_view_module": "@jupyter-widgets/base",
            "_view_module_version": "1.2.0",
            "_view_name": "StyleView",
            "description_width": ""
          }
        },
        "bf5ad23a25b54b61bace8d606ae0cd8e": {
          "model_module": "@jupyter-widgets/base",
          "model_name": "LayoutModel",
          "model_module_version": "1.2.0",
          "state": {
            "_model_module": "@jupyter-widgets/base",
            "_model_module_version": "1.2.0",
            "_model_name": "LayoutModel",
            "_view_count": null,
            "_view_module": "@jupyter-widgets/base",
            "_view_module_version": "1.2.0",
            "_view_name": "LayoutView",
            "align_content": null,
            "align_items": null,
            "align_self": null,
            "border": null,
            "bottom": null,
            "display": null,
            "flex": null,
            "flex_flow": null,
            "grid_area": null,
            "grid_auto_columns": null,
            "grid_auto_flow": null,
            "grid_auto_rows": null,
            "grid_column": null,
            "grid_gap": null,
            "grid_row": null,
            "grid_template_areas": null,
            "grid_template_columns": null,
            "grid_template_rows": null,
            "height": null,
            "justify_content": null,
            "justify_items": null,
            "left": null,
            "margin": null,
            "max_height": null,
            "max_width": null,
            "min_height": null,
            "min_width": null,
            "object_fit": null,
            "object_position": null,
            "order": null,
            "overflow": null,
            "overflow_x": null,
            "overflow_y": null,
            "padding": null,
            "right": null,
            "top": null,
            "visibility": null,
            "width": null
          }
        },
        "c717f379868b4e30af85a8d895836df8": {
          "model_module": "@jupyter-widgets/controls",
          "model_name": "ProgressStyleModel",
          "model_module_version": "1.5.0",
          "state": {
            "_model_module": "@jupyter-widgets/controls",
            "_model_module_version": "1.5.0",
            "_model_name": "ProgressStyleModel",
            "_view_count": null,
            "_view_module": "@jupyter-widgets/base",
            "_view_module_version": "1.2.0",
            "_view_name": "StyleView",
            "bar_color": null,
            "description_width": ""
          }
        },
        "827682e872c549ccaf33cb62c6240222": {
          "model_module": "@jupyter-widgets/base",
          "model_name": "LayoutModel",
          "model_module_version": "1.2.0",
          "state": {
            "_model_module": "@jupyter-widgets/base",
            "_model_module_version": "1.2.0",
            "_model_name": "LayoutModel",
            "_view_count": null,
            "_view_module": "@jupyter-widgets/base",
            "_view_module_version": "1.2.0",
            "_view_name": "LayoutView",
            "align_content": null,
            "align_items": null,
            "align_self": null,
            "border": null,
            "bottom": null,
            "display": null,
            "flex": null,
            "flex_flow": null,
            "grid_area": null,
            "grid_auto_columns": null,
            "grid_auto_flow": null,
            "grid_auto_rows": null,
            "grid_column": null,
            "grid_gap": null,
            "grid_row": null,
            "grid_template_areas": null,
            "grid_template_columns": null,
            "grid_template_rows": null,
            "height": null,
            "justify_content": null,
            "justify_items": null,
            "left": null,
            "margin": null,
            "max_height": null,
            "max_width": null,
            "min_height": null,
            "min_width": null,
            "object_fit": null,
            "object_position": null,
            "order": null,
            "overflow": null,
            "overflow_x": null,
            "overflow_y": null,
            "padding": null,
            "right": null,
            "top": null,
            "visibility": null,
            "width": null
          }
        },
        "64d0c31210b1462d9ca35b1784616e8c": {
          "model_module": "@jupyter-widgets/controls",
          "model_name": "DescriptionStyleModel",
          "model_module_version": "1.5.0",
          "state": {
            "_model_module": "@jupyter-widgets/controls",
            "_model_module_version": "1.5.0",
            "_model_name": "DescriptionStyleModel",
            "_view_count": null,
            "_view_module": "@jupyter-widgets/base",
            "_view_module_version": "1.2.0",
            "_view_name": "StyleView",
            "description_width": ""
          }
        }
      }
    }
  },
  "nbformat": 4,
  "nbformat_minor": 0
}